{
 "cells": [
  {
   "cell_type": "markdown",
   "id": "f6ce8366-f147-4de6-bea2-b09a4cb2f359",
   "metadata": {},
   "source": [
    "# Neural networks\n",
    "Lecturer: dr Andrzej Tomski, WSB-NLU  \n",
    "Author: Andrzej Kocielski, 2023"
   ]
  },
  {
   "cell_type": "markdown",
   "id": "5c7e3dd4-3422-434d-8170-9ae765b5036b",
   "metadata": {},
   "source": [
    "## Task 1\n",
    "For a given three-bit positive binary number (unsigned), use a neural network to answer the question whether it is even."
   ]
  },
  {
   "cell_type": "code",
   "execution_count": null,
   "id": "62c08b6a-0de7-48e7-9b0e-1f6448346e1d",
   "metadata": {},
   "outputs": [],
   "source": [
    "import numpy as np"
   ]
  },
  {
   "cell_type": "code",
   "execution_count": null,
   "id": "8378326e-e239-48f5-9428-7a58ad47126f",
   "metadata": {},
   "outputs": [],
   "source": [
    "class SimpleNeuralNetwork():\n",
    "    \"\"\"\n",
    "    Simple NN that checks if a given binary representation of a positive number is even\n",
    "    \"\"\"\n",
    "    def __init__(self, neurons = 3): # number of entry neurons - number of bits in binary number\n",
    "        \"\"\" \n",
    "        initial weights assigment (random)\n",
    "        \"\"\"\n",
    "        np.random.seed(1)\n",
    "        self.weights = 2 * np.random.random((neurons, 1)) - 1 \n",
    " \n",
    "    def sigmoid(self, x):\n",
    "        \"\"\"\n",
    "        Sigmoid function - smooth function that maps any number to a number from 0 to 1\n",
    "        \"\"\"\n",
    "        return 1/(1+np.exp(-x))\n",
    "         \n",
    "    def d_sigmoid(self, x):\n",
    "        \"\"\"\n",
    "        Derivative of sigmoid function\n",
    "        \"\"\"\n",
    "        x = self.sigmoid(x)\n",
    "        return x*(1-x)\n",
    "         \n",
    "    def train(self, train_input, train_output, train_iters):\n",
    "        for _ in range(train_iters):\n",
    "            propagation_result = self.propagation(train_input)\n",
    "            self.backward_propagation(propagation_result, train_input, train_output)\n",
    "            \n",
    "    def propagation(self, inputs):\n",
    "        \"\"\"\n",
    "        Propagation process\n",
    "        \"\"\"\n",
    "        # Calculated result (walue and weight) and transfer the output through sigmoid function\n",
    "        weighted_sum = np.dot(inputs, self.weights)\n",
    "        return self.sigmoid(weighted_sum) # -> this will be used as input to variable propagation_result\n",
    " \n",
    "    def backward_propagation(self, propagation_result, train_input, train_output):\n",
    "        \"\"\"\n",
    "        Backward propagation process\n",
    "        \"\"\"\n",
    "        # calculating error\n",
    "        error = train_output - propagation_result\n",
    "        # update weights for backpropagation, using gradient descent\n",
    "        self.weights += np.dot(train_input.T, error * self.d_sigmoid(propagation_result))\n",
    "    "
   ]
  },
  {
   "cell_type": "code",
   "execution_count": null,
   "id": "d504cfbe-795f-40cb-9dd0-5499e54004b1",
   "metadata": {},
   "outputs": [],
   "source": [
    "# Making new neural network object\n",
    "n = 5 # number of neurons in the input layers = number of bits in binary number\n",
    "neural_network = SimpleNeuralNetwork(n)"
   ]
  },
  {
   "cell_type": "code",
   "execution_count": null,
   "id": "fe0a15e7-bd81-4475-8157-afb7fa809c19",
   "metadata": {},
   "outputs": [],
   "source": [
    "# train data\n",
    "k_train =  int(2**n - (.1*2**n))  # size of dataset (number of binary numbers); no point exceeding k_train > 2^n\n",
    "\n",
    "train_input = np.random.randint(2, size=(k_train, n))\n",
    "# print(train_input)\n",
    "\n",
    "# results verification - the cor\n",
    "train_output = train_input[:, -1:] # whether binary number is even or not, decides the last digit\n",
    "#train_output = np.array(train_output).T\n",
    "# print(test_output)\n",
    "\n",
    "train_iters = 1000"
   ]
  },
  {
   "cell_type": "code",
   "execution_count": null,
   "id": "e0ebfa3d-5815-4f85-998a-3992483af6ee",
   "metadata": {},
   "outputs": [],
   "source": [
    "# Train the neural network\n",
    "neural_network.train(train_input, train_output, train_iters)\n",
    "\n",
    "# Check a few first cases (train set)\n",
    "licznik = 0\n",
    "print(\"Check for a few first cases\")\n",
    "for data_point in train_input:\n",
    "    result = neural_network.propagation(data_point)\n",
    "    liczba_dziesietna = np.sum(data_point * 2**np.arange(len(data_point)-1, -1, -1))\n",
    "    if licznik < 3:\n",
    "        licznik += 1\n",
    "        print(f\"Input: {data_point} (decimal: {liczba_dziesietna}), result: {result}\") "
   ]
  },
  {
   "cell_type": "code",
   "execution_count": null,
   "id": "5c0dbe7b-0532-4e15-87dc-ee6a781437c9",
   "metadata": {},
   "outputs": [],
   "source": [
    "# test of the network\n",
    "\n",
    "# size of test dataset (assumed 20% train set)\n",
    "k_test = int(k_train * .2)  \n",
    "\n",
    "test_input = np.random.randint(2, size=(k_test, n))\n",
    "# print(test_input)\n",
    "\n",
    "# results validation\n",
    "test_output = test_input[:, -1:] # depends on the last binary digit\n",
    "test_output = np.array(test_output).T\n",
    "# print(test_output)\n",
    "\n",
    "poprawne = 0\n",
    "for data_point in test_input:\n",
    "    result_test = neural_network.propagation(data_point)\n",
    "    # print(f\"Test input: {data_point}, test result: {result_test}\")\n",
    "\n",
    "    test_output = data_point[-1]\n",
    "    blad = np.abs(np.round(test_output - result_test, 4))\n",
    "    print(f\"Test input: {data_point}, test result: {np.round(result_test, 3)}\")\n",
    "    \n",
    "    if blad <= 0.3: # assumed error margin 30%\n",
    "        poprawne += 1\n",
    "print(f\"-> Accuracy: {np.round(poprawne/k_test * 100, 3)}%\")"
   ]
  },
  {
   "cell_type": "code",
   "execution_count": null,
   "id": "e1427a5c-262d-4e92-8a84-d07cc62ac4b6",
   "metadata": {},
   "outputs": [],
   "source": []
  }
 ],
 "metadata": {
  "kernelspec": {
   "display_name": "Python 3 (ipykernel)",
   "language": "python",
   "name": "python3"
  },
  "language_info": {
   "codemirror_mode": {
    "name": "ipython",
    "version": 3
   },
   "file_extension": ".py",
   "mimetype": "text/x-python",
   "name": "python",
   "nbconvert_exporter": "python",
   "pygments_lexer": "ipython3",
   "version": "3.10.12"
  }
 },
 "nbformat": 4,
 "nbformat_minor": 5
}
