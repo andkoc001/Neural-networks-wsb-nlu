{
 "cells": [
  {
   "cell_type": "code",
   "execution_count": null,
   "id": "cd53575a-47ed-4285-bc95-d60a87cecac7",
   "metadata": {},
   "outputs": [],
   "source": [
    "import numpy as np\n",
    "class SimpleNeuralNetwork:\n",
    "    \"\"\"\n",
    "    Simple NN that checks if a given binary representation of a positive number is even\n",
    "    \"\"\"\n",
    "\n",
    "def __init__(self):\n",
    "    np.random.seed(1)\n",
    "    self.weights = 2 * np.random.random((3, 1)) - 1\n",
    "\n",
    "def sigmoid(self, x):\n",
    "    \"\"\"\n",
    "    Sigmmoid function - smooth function that maps any number to a number from 0 to 1\n",
    "    \"\"\"\n",
    "    return ????\n",
    "\n",
    "def d_sigmoid(self, x):\n",
    "    \"\"\"\n",
    "    Derivative of sigmoid function\n",
    "    \"\"\"\n",
    "    return ???\n",
    "\n",
    "def train(self, train_input, train_output, train_iters):\n",
    "    for _ in range(train_iters):\n",
    "        propagation_result = ???\n",
    "        self.backward_propagation(\n",
    "        propagation_result, train_input, train_output)\n",
    "\n",
    "def propagation(self, inputs):\n",
    "    \"\"\"\n",
    "    Propagation process\n",
    "    \"\"\"\n",
    "    return self.sigmoid(???)\n",
    "\n",
    "def backward_propagation(self, propagation_result, train_input, train_output):\n",
    "    \"\"\"\n",
    "    Backward propagation process\n",
    "    \"\"\"\n",
    "    error = ???\n",
    "    self.weights += np.dot(\n",
    "        train_input.T, ???\n",
    "        )"
   ]
  }
 ],
 "metadata": {
  "kernelspec": {
   "display_name": "Python 3 (ipykernel)",
   "language": "python",
   "name": "python3"
  },
  "language_info": {
   "codemirror_mode": {
    "name": "ipython",
    "version": 3
   },
   "file_extension": ".py",
   "mimetype": "text/x-python",
   "name": "python",
   "nbconvert_exporter": "python",
   "pygments_lexer": "ipython3",
   "version": "3.10.12"
  }
 },
 "nbformat": 4,
 "nbformat_minor": 5
}
