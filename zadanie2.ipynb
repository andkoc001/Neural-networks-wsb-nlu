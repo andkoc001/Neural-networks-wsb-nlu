{
 "cells": [
  {
   "cell_type": "markdown",
   "id": "e4fd7979-e95b-4525-9ffa-de59b5331116",
   "metadata": {},
   "source": [
    "# Neural networks\n",
    "Lecturer: Dr Andrzej Tomski, WSB-NLU  \n",
    "\n",
    "> Author: Andrzej Kocielski, 2023-2024  \n",
    "> email: <akocielski@student.wsb-nlu.edu.pl>, <and.koc001@gmail.com>\n",
    "___"
   ]
  },
  {
   "cell_type": "markdown",
   "id": "8a3385db-4aba-4bd1-bb7b-c169d4de92f1",
   "metadata": {},
   "source": [
    "## Exercise 2\n",
    "\n",
    "Built an ANN to estimate price, using provided dataset, \"CarPricesData.pkl\"."
   ]
  },
  {
   "cell_type": "markdown",
   "id": "755e9181-cb09-475c-985e-d626e417b49f",
   "metadata": {},
   "source": [
    "### Importing libraries and set up"
   ]
  },
  {
   "cell_type": "code",
   "execution_count": 1,
   "id": "7771be49-d7d1-453a-9444-6de81118aa85",
   "metadata": {},
   "outputs": [],
   "source": [
    "# Imports\n",
    "\n",
    "import os\n",
    "os.environ['TF_CPP_MIN_LOG_LEVEL'] = '3'\n",
    "\n",
    "# ignore warnings\n",
    "import warnings \n",
    "warnings.filterwarnings(\"ignore\")\n",
    "warnings.filterwarnings(\"ignore\", category=DeprecationWarning)\n",
    "warnings.filterwarnings(\"ignore\", category=FutureWarning)\n",
    "\n",
    "\n",
    "import numpy as np\n",
    "import pandas as pd\n",
    "\n",
    "from sklearn.preprocessing import StandardScaler \n",
    "from sklearn.model_selection import train_test_split\n",
    "from sklearn.linear_model import LinearRegression \n",
    "from sklearn.metrics import mean_absolute_percentage_error, mean_squared_error, r2_score\n",
    "\n",
    "from keras.models import Sequential # model of ANN\n",
    "from keras.layers import Dense # layers of ANN\n",
    "\n",
    "import matplotlib.pyplot as plt\n",
    "import seaborn as sns\n",
    "sns.set()"
   ]
  },
  {
   "cell_type": "code",
   "execution_count": 2,
   "id": "baf6c942-4b50-4a94-821e-736fe869038c",
   "metadata": {},
   "outputs": [],
   "source": [
    "# To remove the scientific notation from numpy arrays\n",
    "np.set_printoptions(suppress=True)#, formatter={'float':'{0.2f}'.format})"
   ]
  },
  {
   "cell_type": "markdown",
   "id": "2400b801-2266-4977-a78c-6f4692a60824",
   "metadata": {},
   "source": [
    "### Load and inspect data"
   ]
  },
  {
   "cell_type": "code",
   "execution_count": 3,
   "id": "f5e202f7-283e-44bd-9831-d1cd981d20b6",
   "metadata": {},
   "outputs": [
    {
     "name": "stdout",
     "output_type": "stream",
     "text": [
      "Shape of dataframe: (1435, 8)\n",
      "\n",
      "<class 'pandas.core.frame.DataFrame'>\n",
      "Index: 1435 entries, 0 to 1435\n",
      "Data columns (total 8 columns):\n",
      " #   Column    Non-Null Count  Dtype  \n",
      "---  ------    --------------  -----  \n",
      " 0   Age       1435 non-null   float64\n",
      " 1   KM        1435 non-null   int64  \n",
      " 2   Weight    1435 non-null   float64\n",
      " 3   HP        1435 non-null   int64  \n",
      " 4   MetColor  1435 non-null   int64  \n",
      " 5   CC        1435 non-null   float64\n",
      " 6   Doors     1435 non-null   int64  \n",
      " 7   Price     1435 non-null   int64  \n",
      "dtypes: float64(3), int64(5)\n",
      "memory usage: 100.9 KB\n",
      "None \n",
      "\n",
      "               Age             KM       Weight           HP     MetColor  \\\n",
      "count  1435.000000    1435.000000  1435.000000  1435.000000  1435.000000   \n",
      "mean     56.027178   68571.782578  1071.659930   101.491986     0.674564   \n",
      "std      18.532943   37491.094553    47.688509    14.981408     0.468701   \n",
      "min       1.000000       1.000000  1000.000000    69.000000     0.000000   \n",
      "25%      44.000000   43000.000000  1040.000000    90.000000     0.000000   \n",
      "50%      61.000000   63451.000000  1070.000000   110.000000     1.000000   \n",
      "75%      70.000000   87041.500000  1085.000000   110.000000     1.000000   \n",
      "max      80.000000  243000.000000  1320.000000   192.000000     1.000000   \n",
      "\n",
      "                CC        Doors         Price  \n",
      "count  1435.000000  1435.000000   1435.000000  \n",
      "mean   1566.735192     4.032753  10720.915679  \n",
      "std     186.767122     0.952667   3608.732978  \n",
      "min    1300.000000     2.000000   4350.000000  \n",
      "25%    1400.000000     3.000000   8450.000000  \n",
      "50%    1600.000000     4.000000   9900.000000  \n",
      "75%    1600.000000     5.000000  11950.000000  \n",
      "max    2000.000000     5.000000  32500.000000  \n"
     ]
    }
   ],
   "source": [
    "# Load dataset from file\n",
    "CarPricesData = pd.read_pickle('CarPricesData.pkl')\n",
    "# Data inspection\n",
    "print(f\"Shape of dataframe: {CarPricesData.shape}\\n\")\n",
    "print(CarPricesData.info(), \"\\n\")\n",
    "print(CarPricesData.describe())"
   ]
  },
  {
   "cell_type": "markdown",
   "id": "042f7d66-cd0d-41c8-b967-434f3957cfd6",
   "metadata": {},
   "source": [
    "### Data cleaning"
   ]
  },
  {
   "cell_type": "markdown",
   "id": "8822c05b-79bf-4b14-9705-1f31b6f8d084",
   "metadata": {},
   "source": [
    "It appears there is some inaccurate data, e.g. with possible outliers in KM column. \n",
    "\n",
    "All the records with KM = 1 will be removed (even though in some cases the Age = 1, which could be legitimate)."
   ]
  },
  {
   "cell_type": "code",
   "execution_count": 4,
   "id": "bfc1da70-2463-45da-bdc2-e28f0fbb8761",
   "metadata": {},
   "outputs": [
    {
     "data": {
      "text/plain": [
       "<AxesSubplot:ylabel='KM'>"
      ]
     },
     "execution_count": 4,
     "metadata": {},
     "output_type": "execute_result"
    },
    {
     "data": {
      "image/png": "[encoded data removed]",
      "text/plain": [
       "<Figure size 432x288 with 1 Axes>"
      ]
     },
     "metadata": {},
     "output_type": "display_data"
    }
   ],
   "source": [
    "# Dubious data visualisation\n",
    "sns.boxplot(CarPricesData[\"KM\"])"
   ]
  },
  {
   "cell_type": "code",
   "execution_count": 5,
   "id": "b076dccc-30e4-4ace-a50a-3a06edc43e07",
   "metadata": {},
   "outputs": [
    {
     "name": "stdout",
     "output_type": "stream",
     "text": [
      "Removed rows: 8\n"
     ]
    }
   ],
   "source": [
    "# CarPricesData[CarPricesData[\"KM\"] < 1000]\n",
    "cleaned_data = CarPricesData[CarPricesData[\"KM\"] != 1]\n",
    "print(f\"Removed rows: {CarPricesData.shape[0] - cleaned_data.shape[0]}\")"
   ]
  },
  {
   "cell_type": "markdown",
   "id": "8b7a0214-889d-43aa-9cf7-8a3e851927aa",
   "metadata": {},
   "source": [
    "___\n",
    "## Preparing the data\n",
    "\n",
    "As the goal of this NN is to predict Price based on the other parameters, this information must be removed from the dataset destined for training the NN.\n",
    "\n",
    "#### Separate outcome from predictors\n",
    "Since the dataset already includes the outcome, that information should be separated from the other predictors for the training and validation of the NN."
   ]
  },
  {
   "cell_type": "code",
   "execution_count": 6,
   "id": "61a67c60-aa58-4745-a3aa-3e529c02419d",
   "metadata": {},
   "outputs": [],
   "source": [
    "# Separate Target Variable and Predictor Variables\n",
    "TargetVariable = ['Price']\n",
    "Predictors = ['Age', 'KM', 'Weight', 'HP', 'MetColor', 'CC', 'Doors']\n",
    "\n",
    "X = cleaned_data[Predictors].values\n",
    "y = cleaned_data[TargetVariable].values"
   ]
  },
  {
   "cell_type": "markdown",
   "id": "61ec926e-b9d0-4718-a4cb-9a9f964367fc",
   "metadata": {},
   "source": [
    "#### Standardisation and fitting the values\n",
    "\n",
    "Sandardization of data, using `StandardScaler` from sklearn.preprocessing library"
   ]
  },
  {
   "cell_type": "code",
   "execution_count": 7,
   "id": "5fb5ffb7-da96-4f3f-8ebd-15a72143ac6b",
   "metadata": {},
   "outputs": [],
   "source": [
    "# Set StandardScaler to both datasets\n",
    "PredictorScaler = StandardScaler()\n",
    "TargetVarScaler = StandardScaler()\n",
    "\n",
    "# Storing the fit object for later reference\n",
    "PredictorScalerFit = PredictorScaler.fit(X)\n",
    "TargetVarScalerFit = TargetVarScaler.fit(y)\n",
    " \n",
    "# Generating the standardized values of X and y\n",
    "X = PredictorScalerFit.transform(X)\n",
    "y = TargetVarScalerFit.transform(y)"
   ]
  },
  {
   "cell_type": "markdown",
   "id": "f57c79c7-7dbd-4a3e-bf12-14b4cdec2441",
   "metadata": {},
   "source": [
    "Split the data into training and testing sets, using method `train_test_split` from scikit-learn"
   ]
  },
  {
   "cell_type": "code",
   "execution_count": 8,
   "id": "282edb82-c7fb-4516-a94f-1712a2c1be62",
   "metadata": {},
   "outputs": [
    {
     "name": "stdout",
     "output_type": "stream",
     "text": [
      "Train inputs (998, 7), train outputs (998, 1)\n",
      "Test inputs (429, 7), test outputs (429, 1)\n"
     ]
    }
   ],
   "source": [
    "# Split data into 70% training and 30% testing \n",
    "X_train, X_test, y_train, y_test = train_test_split(X, y, test_size=0.3, random_state=2023)\n",
    " \n",
    "# Quick sanity check with the shapes of Training and testing datasets\n",
    "print(f\"Train inputs {X_train.shape}, train outputs {y_train.shape}\")\n",
    "print(f\"Test inputs {X_test.shape}, test outputs {y_test.shape}\")"
   ]
  },
  {
   "cell_type": "markdown",
   "id": "4fa6c7c8-256f-49e5-98f8-af5358150079",
   "metadata": {},
   "source": [
    "## Build ANN\n",
    "\n",
    "#### Neural Net model\n",
    "\n",
    "For this exercise, `Sequential` model will be used, with consecutive layers of neurons. The net will be composed of the following layers:\n",
    "1. Input layer\n",
    "2. Hidden layers \n",
    "3. Output layer\n",
    "\n",
    "The NN will be trained on the `training` subset, and validated on the `test` subset. \n",
    "\n",
    "The NN is charactrised with the following parameters:\n",
    "- _activation function_ - specifies the activation function for the computations inside each neuron. \n",
    "- _loss function_ - specifies loss function that checks the prediction against the true value.\n",
    "- _optimiser_ - used for minimizing the error, e.g. adaptive moment estimation (ADAM) \n",
    "\n",
    "#### Hyperparameters  \n",
    "\n",
    "Hiperparameters as per exercise notes:  \n",
    "- _units_ - this means that we are creating a layer with five neurons. Each of these five neurons will receive input values, for example the \"Age\" values will be passed to all five neurons, as will all other columns.\n",
    "- _input_dim_ - this means that there are seven predictors in the input that are expected by the first layer. If you see a second dense layer, we do not specify this value because the sequential model passes this information on to subsequent layers.\n",
    "- _kernel_initializer_ - when the neurons start computing, some algorithm must decide the value for each weight.\n",
    "- _activation_ - specifies the activation function for the computations inside each neuron. \n",
    "\n",
    "\n",
    "Also, the entrie NN will be optimised, using the following hyperparameters:\n",
    "- _batch_size_\n",
    "- _epochs_ \n",
    "\n",
    "#### Evaluation\n",
    "Quality (metrics) of the NN will be scored by evaluating the _accuracy_ of the model."
   ]
  },
  {
   "cell_type": "code",
   "execution_count": 9,
   "id": "f9f7bfe0-fd3d-4b69-9707-e3deefff35c4",
   "metadata": {},
   "outputs": [
    {
     "name": "stdout",
     "output_type": "stream",
     "text": [
      "Model: \"sequential\"\n",
      "_________________________________________________________________\n",
      " Layer (type)                Output Shape              Param #   \n",
      "=================================================================\n",
      " dense (Dense)               (None, 5)                 40        \n",
      "                                                                 \n",
      " dense_1 (Dense)             (None, 1)                 6         \n",
      "                                                                 \n",
      "=================================================================\n",
      "Total params: 46 (184.00 Byte)\n",
      "Trainable params: 46 (184.00 Byte)\n",
      "Non-trainable params: 0 (0.00 Byte)\n",
      "_________________________________________________________________\n"
     ]
    }
   ],
   "source": [
    "# create ANN model\n",
    "model = Sequential()\n",
    "\n",
    "# Building the layers of the net\n",
    "# Defining the Input layer and FIRST hidden layer, both are same!\n",
    "model.add(Dense(units=5, input_dim=X_train.shape[1], kernel_initializer='normal', activation='relu'))\n",
    "\n",
    "# Defining the Second layer of the model; after the first layer we don't have to specify input_dim as keras configure it automatically\n",
    "# model.add(Dense(units=10, kernel_initializer='normal', activation='relu'))\n",
    "\n",
    "# The output neuron is a single fully connected node, since we will be predicting a single number\n",
    "model.add(Dense(units=1, activation='relu'))\n",
    "\n",
    "# Compiling the model\n",
    "model.compile(optimizer='adam', loss='mse', metrics=['accuracy'])\n",
    "\n",
    "# model info\n",
    "model.summary()"
   ]
  },
  {
   "cell_type": "markdown",
   "id": "876e94df-accb-49cd-ad4a-702724c2a131",
   "metadata": {},
   "source": [
    "### Training the model"
   ]
  },
  {
   "cell_type": "code",
   "execution_count": 10,
   "id": "4d0db2e1-c66c-428a-87b6-0b4aee2a5a01",
   "metadata": {},
   "outputs": [
    {
     "name": "stdout",
     "output_type": "stream",
     "text": [
      "Epoch 1/20\n",
      "50/50 [==============================] - 1s 6ms/step - loss: 0.8924 - accuracy: 0.0000e+00 - val_loss: 0.6878 - val_accuracy: 0.0000e+00\n",
      "Epoch 2/20\n",
      "50/50 [==============================] - 0s 3ms/step - loss: 0.6737 - accuracy: 0.0000e+00 - val_loss: 0.5106 - val_accuracy: 0.0000e+00\n",
      "Epoch 3/20\n",
      "50/50 [==============================] - 0s 3ms/step - loss: 0.5084 - accuracy: 0.0000e+00 - val_loss: 0.4104 - val_accuracy: 0.0000e+00\n",
      "Epoch 4/20\n",
      "50/50 [==============================] - 0s 3ms/step - loss: 0.4230 - accuracy: 0.0000e+00 - val_loss: 0.3675 - val_accuracy: 0.0000e+00\n",
      "Epoch 5/20\n",
      "50/50 [==============================] - 0s 3ms/step - loss: 0.3822 - accuracy: 0.0000e+00 - val_loss: 0.3467 - val_accuracy: 0.0000e+00\n",
      "Epoch 6/20\n",
      "50/50 [==============================] - 0s 2ms/step - loss: 0.3604 - accuracy: 0.0000e+00 - val_loss: 0.3385 - val_accuracy: 0.0000e+00\n",
      "Epoch 7/20\n",
      "50/50 [==============================] - 0s 2ms/step - loss: 0.3489 - accuracy: 0.0000e+00 - val_loss: 0.3370 - val_accuracy: 0.0000e+00\n",
      "Epoch 8/20\n",
      "50/50 [==============================] - 0s 2ms/step - loss: 0.3425 - accuracy: 0.0000e+00 - val_loss: 0.3361 - val_accuracy: 0.0000e+00\n",
      "Epoch 9/20\n",
      "50/50 [==============================] - 0s 2ms/step - loss: 0.3394 - accuracy: 0.0000e+00 - val_loss: 0.3372 - val_accuracy: 0.0000e+00\n",
      "Epoch 10/20\n",
      "50/50 [==============================] - 0s 2ms/step - loss: 0.3376 - accuracy: 0.0000e+00 - val_loss: 0.3377 - val_accuracy: 0.0000e+00\n",
      "Epoch 11/20\n",
      "50/50 [==============================] - 0s 3ms/step - loss: 0.3361 - accuracy: 0.0000e+00 - val_loss: 0.3383 - val_accuracy: 0.0000e+00\n",
      "Epoch 12/20\n",
      "50/50 [==============================] - 0s 2ms/step - loss: 0.3353 - accuracy: 0.0000e+00 - val_loss: 0.3381 - val_accuracy: 0.0000e+00\n",
      "Epoch 13/20\n",
      "50/50 [==============================] - 0s 2ms/step - loss: 0.3350 - accuracy: 0.0000e+00 - val_loss: 0.3386 - val_accuracy: 0.0000e+00\n",
      "Epoch 14/20\n",
      "50/50 [==============================] - 0s 2ms/step - loss: 0.3346 - accuracy: 0.0000e+00 - val_loss: 0.3394 - val_accuracy: 0.0000e+00\n",
      "Epoch 15/20\n",
      "50/50 [==============================] - 0s 2ms/step - loss: 0.3345 - accuracy: 0.0000e+00 - val_loss: 0.3382 - val_accuracy: 0.0000e+00\n",
      "Epoch 16/20\n",
      "50/50 [==============================] - 0s 2ms/step - loss: 0.3342 - accuracy: 0.0000e+00 - val_loss: 0.3382 - val_accuracy: 0.0000e+00\n",
      "Epoch 17/20\n",
      "50/50 [==============================] - 0s 3ms/step - loss: 0.3349 - accuracy: 0.0000e+00 - val_loss: 0.3372 - val_accuracy: 0.0000e+00\n",
      "Epoch 18/20\n",
      "50/50 [==============================] - 0s 3ms/step - loss: 0.3345 - accuracy: 0.0000e+00 - val_loss: 0.3385 - val_accuracy: 0.0000e+00\n",
      "Epoch 19/20\n",
      "50/50 [==============================] - 0s 2ms/step - loss: 0.3339 - accuracy: 0.0000e+00 - val_loss: 0.3382 - val_accuracy: 0.0000e+00\n",
      "Epoch 20/20\n",
      "50/50 [==============================] - 0s 2ms/step - loss: 0.3336 - accuracy: 0.0000e+00 - val_loss: 0.3380 - val_accuracy: 0.0000e+00\n"
     ]
    }
   ],
   "source": [
    "# Fitting the ANN to the Training set\n",
    "history = model.fit(\n",
    "    X_train, y_train,\n",
    "    epochs=20,\n",
    "    batch_size=20,\n",
    "    validation_data=(X_test, y_test),\n",
    "    verbose=1,\n",
    ")"
   ]
  },
  {
   "cell_type": "markdown",
   "id": "3542b5f5-51f6-4e62-8e07-c92766a7ee1f",
   "metadata": {},
   "source": [
    "### Visualising the training progress\n",
    "\n",
    "In practice, when training a model using frameworks like Keras or similar machine learning libraries, there are typically two datasets: the training set (_train_) and the validation set (_val_ or _validation_). Metrics values, such as accuracy (_accuracy_) or loss function (_loss_), are monitored on both the training and validation sets.  \n",
    "\n",
    "In the code, `val_` is a prefix used to refer to the metric values on the validation (_test_) set during the training of the model. In this context, if `key1` is, for example, 'accuracy', then `'val_' + key1` denotes the accuracy on the validation set.  \n",
    "\n",
    "Therefore, when using `history.history['val_' + key1]`, refers to the accuracy values on the validation set, and `history.history[key1]` refers to the accuracy values on the training set. "
   ]
  },
  {
   "cell_type": "code",
   "execution_count": 11,
   "id": "6c1abbfb-c73e-4fb4-a419-260401dacee3",
   "metadata": {},
   "outputs": [],
   "source": [
    "def draw_curves(history, key1='accuracy', ylim1=(0.0, 1.0), key2='loss', ylim2=(0.0, 0.5)):\n",
    "    \n",
    "    plt.figure(figsize=(12,4))\n",
    "    \n",
    "    plt.subplot(1, 2, 1)\n",
    "    plt.plot(history.history[key1], \"r--\")\n",
    "    plt.plot(history.history['val_' + key1], \"g--\")\n",
    "    plt.ylabel(key1)\n",
    "    plt.xlabel('Epoch')\n",
    "    plt.ylim(ylim1)\n",
    "    plt.legend(['train', 'test'], loc='best')\n",
    "    \n",
    "    plt.subplot(1, 2, 2)\n",
    "    plt.plot(history.history[key2], \"r--\")\n",
    "    plt.plot(history.history['val_' + key2], \"g--\")\n",
    "    plt.ylabel(key2)\n",
    "    plt.xlabel('Epoch')\n",
    "    plt.ylim(ylim2)    \n",
    "    plt.legend(['train', 'test'], loc='best')\n",
    "    \n",
    "    plt.show()"
   ]
  },
  {
   "cell_type": "code",
   "execution_count": 12,
   "id": "aa867344-09de-405d-a91f-88e49979ed5f",
   "metadata": {},
   "outputs": [
    {
     "data": {
      "image/png": "[encoded data removed]",
      "text/plain": [
       "<Figure size 864x288 with 2 Axes>"
      ]
     },
     "metadata": {},
     "output_type": "display_data"
    }
   ],
   "source": [
    "draw_curves(history, key1='accuracy', ylim1=(-0.1, 1.2), key2='loss', ylim2=(0.0, 1.2))"
   ]
  },
  {
   "cell_type": "markdown",
   "metadata": {},
   "source": [
    "#### Scaling the results back to the orignal scale"
   ]
  },
  {
   "cell_type": "code",
   "execution_count": 13,
   "metadata": {},
   "outputs": [
    {
     "name": "stdout",
     "output_type": "stream",
     "text": [
      "14/14 [==============================] - 0s 1ms/step\n",
      "\n",
      "Actual price: [9950.], prediction: [10685.], difference: [-735.] \n",
      "Actual price: [8950.], prediction: [10685.], difference: [-1735.] \n",
      "Actual price: [18750.], prediction: [17125.], difference: [1625.] \n",
      "Actual price: [11650.], prediction: [12303.], difference: [-653.] \n",
      "Actual price: [18950.], prediction: [18997.], difference: [-47.] \n"
     ]
    }
   ],
   "source": [
    "# Generating Predictions on testing data\n",
    "Predictions = model.predict(X_test)\n",
    "# Scaling the predicted Price data back to original price scale\n",
    "Predictions = TargetVarScalerFit.inverse_transform(Predictions)\n",
    "Actuals = TargetVarScalerFit.inverse_transform(y_test)\n",
    "\n",
    "# Print out actual vs predicted price for a few first test records\n",
    "print()\n",
    "for i in range(5):\n",
    "    print(f\"Actual price: {Actuals[i]}, prediction: {np.round(Predictions[i])}, difference: {Actuals[i]-np.round(Predictions[i])} \")"
   ]
  },
  {
   "cell_type": "markdown",
   "id": "e291e9f6-6d6a-4d24-b014-6875b8501b28",
   "metadata": {},
   "source": [
    "## Find the best parameters for the ANN\n",
    "### Training the model\n",
    "\n",
    "Further parameters for tuning the model:\n",
    "- _batch_size_ - Specifies how many rows will be fed to the network at one time, after which calculation will begin and the neural network will begin to adjust its weights based on errors.\n",
    "- _epochs_ - The same weight adjustment action is continued multiple times according to this parameter. To put it simply, the ANN looks at the full training data this many times and adjusts its weights."
   ]
  },
  {
   "cell_type": "code",
   "execution_count": 14,
   "id": "b19c679d-dad6-44fe-9ac3-4931b142611a",
   "metadata": {},
   "outputs": [],
   "source": [
    "def FindBestParams(X_train, y_train, X_test, y_test):\n",
    "    \"\"\" \n",
    "    Function finds the best parameters for training the ANN.\n",
    "    \"\"\"    \n",
    "    # Defining the list of hyper parameters to try\n",
    "    batch_size_list = [5, 10, 15, 20]\n",
    "    epoch_list = [10, 20, 40, 60]\n",
    "    \n",
    "    SearchResultsData = pd.DataFrame(columns=['TrialNumber', 'Parameters', 'MAPE', 'Accuracy'])\n",
    "    \n",
    "    # initializing the trials\n",
    "    TrialNumber=0\n",
    "    for batch_size_trial in batch_size_list:\n",
    "        for epochs_trial in epoch_list:\n",
    "            print()\n",
    "            TrialNumber+=1\n",
    "            \n",
    "            # create ANN model\n",
    "            model = Sequential()\n",
    "            # Defining the first layer of the model\n",
    "            model.add(Dense(units=5, input_dim=7, kernel_initializer='normal', activation='relu'))\n",
    "            # Defining the Second layer of the model\n",
    "            # model.add(Dense(units=5, kernel_initializer='normal', activation='relu'))\n",
    "            # The output neuron \n",
    "            model.add(Dense(1))\n",
    "\n",
    "            # Compiling the model\n",
    "            model.compile(optimizer='adam', loss='mse', metrics=['accuracy'])\n",
    "            \n",
    "            # Fitting the ANN to the Training set\n",
    "            history = model.fit(\n",
    "                X_train, y_train,\n",
    "                epochs=epochs_trial,\n",
    "                batch_size=batch_size_trial,\n",
    "                validation_data=(X_test, y_test),\n",
    "                verbose=0,\n",
    "                )\n",
    "\n",
    "            MAPE = np.mean(100 * (np.abs(y_test - model.predict(X_test))/y_test))\n",
    "            \n",
    "            # printing the results of the current iteration\n",
    "            # print(f\"Trial {TrialNumber}, MAPE: {MAPE}\")\n",
    "\n",
    "            trial_result = pd.DataFrame(\n",
    "                data=[[TrialNumber, str(batch_size_trial)+'-'+str(epochs_trial), MAPE, 100-MAPE]],\n",
    "                            columns=['TrialNumber', 'Parameters', 'MAPE', 'Accuracy'])\n",
    "            print(trial_result)\n",
    "\n",
    "            SearchResultsData = pd.concat([SearchResultsData, trial_result], ignore_index=True)\n",
    "            # SearchResultsData = SearchResultsData.append(trial_result)) # depricated in Pandas 2.0\n",
    "    \n",
    "    return(SearchResultsData)"
   ]
  },
  {
   "cell_type": "code",
   "execution_count": 15,
   "id": "aaa778d1-fbb4-449d-bb7b-0cd5e8b9826c",
   "metadata": {},
   "outputs": [
    {
     "name": "stdout",
     "output_type": "stream",
     "text": [
      "\n",
      "14/14 [==============================] - 0s 2ms/step\n",
      "   TrialNumber Parameters       MAPE   Accuracy\n",
      "0            1       5-10  14.088534  85.911466\n",
      "\n",
      "14/14 [==============================] - 0s 970us/step\n",
      "   TrialNumber Parameters       MAPE   Accuracy\n",
      "0            2       5-20  13.110197  86.889803\n",
      "\n",
      "14/14 [==============================] - 0s 1ms/step\n",
      "   TrialNumber Parameters      MAPE   Accuracy\n",
      "0            3       5-40  5.086792  94.913208\n",
      "\n",
      "14/14 [==============================] - 0s 1ms/step\n",
      "   TrialNumber Parameters      MAPE   Accuracy\n",
      "0            4       5-60  6.580569  93.419431\n",
      "\n",
      "14/14 [==============================] - 0s 1ms/step\n",
      "   TrialNumber Parameters       MAPE   Accuracy\n",
      "0            5      10-10  16.715824  83.284176\n",
      "\n",
      "14/14 [==============================] - 0s 1ms/step\n",
      "   TrialNumber Parameters       MAPE   Accuracy\n",
      "0            6      10-20  12.373547  87.626453\n",
      "\n",
      "14/14 [==============================] - 0s 2ms/step\n",
      "   TrialNumber Parameters      MAPE   Accuracy\n",
      "0            7      10-40  9.631274  90.368726\n",
      "\n",
      "14/14 [==============================] - 0s 2ms/step\n",
      "   TrialNumber Parameters      MAPE   Accuracy\n",
      "0            8      10-60  4.794037  95.205963\n",
      "\n",
      "14/14 [==============================] - 0s 2ms/step\n",
      "   TrialNumber Parameters       MAPE   Accuracy\n",
      "0            9      15-10  19.604382  80.395618\n",
      "\n",
      "14/14 [==============================] - 0s 2ms/step\n",
      "   TrialNumber Parameters       MAPE   Accuracy\n",
      "0           10      15-20  18.079194  81.920806\n",
      "\n",
      "14/14 [==============================] - 0s 2ms/step\n",
      "   TrialNumber Parameters       MAPE   Accuracy\n",
      "0           11      15-40  11.487975  88.512025\n",
      "\n",
      "14/14 [==============================] - 0s 1ms/step\n",
      "   TrialNumber Parameters      MAPE   Accuracy\n",
      "0           12      15-60  8.848976  91.151024\n",
      "\n",
      "14/14 [==============================] - 0s 3ms/step\n",
      "   TrialNumber Parameters       MAPE   Accuracy\n",
      "0           13      20-10  10.537564  89.462436\n",
      "\n",
      "14/14 [==============================] - 0s 2ms/step\n",
      "   TrialNumber Parameters       MAPE   Accuracy\n",
      "0           14      20-20  12.553948  87.446052\n",
      "\n",
      "14/14 [==============================] - 0s 2ms/step\n",
      "   TrialNumber Parameters       MAPE   Accuracy\n",
      "0           15      20-40  14.473045  85.526955\n",
      "\n",
      "14/14 [==============================] - 0s 1ms/step\n",
      "   TrialNumber Parameters      MAPE   Accuracy\n",
      "0           16      20-60  3.082836  96.917164\n",
      "Best accuracy found: 96.917, with corresonding batch size and number of epochs: 20-60.\n"
     ]
    }
   ],
   "source": [
    "# Calling the function\n",
    "ResultsData = FindBestParams(X_train, y_train, X_test, y_test)\n",
    "\n",
    "# Best accuracy\n",
    "max_accuracy = ResultsData.loc[ResultsData['Accuracy'].idxmax()]\n",
    "print(f\"Best accuracy found: {max_accuracy[-1]:.3f}, with corresonding batch size and number of epochs: {max_accuracy[1]}.\")"
   ]
  },
  {
   "cell_type": "markdown",
   "id": "dc23632a-649e-402e-928d-02361d9164b3",
   "metadata": {},
   "source": [
    "___\n",
    "## Linear regression model\n",
    "\n",
    "For comparison, linear regression model is used.\n",
    "\n",
    "The same dataset and subsets are used (`X_train`, `X_test`, `y_train`, `y_test`)."
   ]
  },
  {
   "cell_type": "code",
   "execution_count": 16,
   "id": "b7ef46d0-e66f-4a89-b9f6-37ae3055bd20",
   "metadata": {},
   "outputs": [
    {
     "name": "stdout",
     "output_type": "stream",
     "text": [
      "Train inputs (998, 7), train outputs (998, 1)\n",
      "Test inputs (429, 7), test outputs (429, 1)\n"
     ]
    }
   ],
   "source": [
    "# Quick sanity check with the shapes of Training and testing datasets\n",
    "print(f\"Train inputs {X_train.shape}, train outputs {y_train.shape}\")\n",
    "print(f\"Test inputs {X_test.shape}, test outputs {y_test.shape}\")"
   ]
  },
  {
   "cell_type": "code",
   "execution_count": 17,
   "id": "af6ca850-cc15-4507-9183-74f951eeabcc",
   "metadata": {},
   "outputs": [
    {
     "data": {
      "text/html": [
       "<style>#sk-container-id-1 {color: black;}#sk-container-id-1 pre{padding: 0;}#sk-container-id-1 div.sk-toggleable {background-color: white;}#sk-container-id-1 label.sk-toggleable__label {cursor: pointer;display: block;width: 100%;margin-bottom: 0;padding: 0.3em;box-sizing: border-box;text-align: center;}#sk-container-id-1 label.sk-toggleable__label-arrow:before {content: \"▸\";float: left;margin-right: 0.25em;color: #696969;}#sk-container-id-1 label.sk-toggleable__label-arrow:hover:before {color: black;}#sk-container-id-1 div.sk-estimator:hover label.sk-toggleable__label-arrow:before {color: black;}#sk-container-id-1 div.sk-toggleable__content {max-height: 0;max-width: 0;overflow: hidden;text-align: left;background-color: #f0f8ff;}#sk-container-id-1 div.sk-toggleable__content pre {margin: 0.2em;color: black;border-radius: 0.25em;background-color: #f0f8ff;}#sk-container-id-1 input.sk-toggleable__control:checked~div.sk-toggleable__content {max-height: 200px;max-width: 100%;overflow: auto;}#sk-container-id-1 input.sk-toggleable__control:checked~label.sk-toggleable__label-arrow:before {content: \"▾\";}#sk-container-id-1 div.sk-estimator input.sk-toggleable__control:checked~label.sk-toggleable__label {background-color: #d4ebff;}#sk-container-id-1 div.sk-label input.sk-toggleable__control:checked~label.sk-toggleable__label {background-color: #d4ebff;}#sk-container-id-1 input.sk-hidden--visually {border: 0;clip: rect(1px 1px 1px 1px);clip: rect(1px, 1px, 1px, 1px);height: 1px;margin: -1px;overflow: hidden;padding: 0;position: absolute;width: 1px;}#sk-container-id-1 div.sk-estimator {font-family: monospace;background-color: #f0f8ff;border: 1px dotted black;border-radius: 0.25em;box-sizing: border-box;margin-bottom: 0.5em;}#sk-container-id-1 div.sk-estimator:hover {background-color: #d4ebff;}#sk-container-id-1 div.sk-parallel-item::after {content: \"\";width: 100%;border-bottom: 1px solid gray;flex-grow: 1;}#sk-container-id-1 div.sk-label:hover label.sk-toggleable__label {background-color: #d4ebff;}#sk-container-id-1 div.sk-serial::before {content: \"\";position: absolute;border-left: 1px solid gray;box-sizing: border-box;top: 0;bottom: 0;left: 50%;z-index: 0;}#sk-container-id-1 div.sk-serial {display: flex;flex-direction: column;align-items: center;background-color: white;padding-right: 0.2em;padding-left: 0.2em;position: relative;}#sk-container-id-1 div.sk-item {position: relative;z-index: 1;}#sk-container-id-1 div.sk-parallel {display: flex;align-items: stretch;justify-content: center;background-color: white;position: relative;}#sk-container-id-1 div.sk-item::before, #sk-container-id-1 div.sk-parallel-item::before {content: \"\";position: absolute;border-left: 1px solid gray;box-sizing: border-box;top: 0;bottom: 0;left: 50%;z-index: -1;}#sk-container-id-1 div.sk-parallel-item {display: flex;flex-direction: column;z-index: 1;position: relative;background-color: white;}#sk-container-id-1 div.sk-parallel-item:first-child::after {align-self: flex-end;width: 50%;}#sk-container-id-1 div.sk-parallel-item:last-child::after {align-self: flex-start;width: 50%;}#sk-container-id-1 div.sk-parallel-item:only-child::after {width: 0;}#sk-container-id-1 div.sk-dashed-wrapped {border: 1px dashed gray;margin: 0 0.4em 0.5em 0.4em;box-sizing: border-box;padding-bottom: 0.4em;background-color: white;}#sk-container-id-1 div.sk-label label {font-family: monospace;font-weight: bold;display: inline-block;line-height: 1.2em;}#sk-container-id-1 div.sk-label-container {text-align: center;}#sk-container-id-1 div.sk-container {/* jupyter's `normalize.less` sets `[hidden] { display: none; }` but bootstrap.min.css set `[hidden] { display: none !important; }` so we also need the `!important` here to be able to override the default hidden behavior on the sphinx rendered scikit-learn.org. See: https://github.com/scikit-learn/scikit-learn/issues/21755 */display: inline-block !important;position: relative;}#sk-container-id-1 div.sk-text-repr-fallback {display: none;}</style><div id=\"sk-container-id-1\" class=\"sk-top-container\"><div class=\"sk-text-repr-fallback\"><pre>LinearRegression()</pre><b>In a Jupyter environment, please rerun this cell to show the HTML representation or trust the notebook. <br />On GitHub, the HTML representation is unable to render, please try loading this page with nbviewer.org.</b></div><div class=\"sk-container\" hidden><div class=\"sk-item\"><div class=\"sk-estimator sk-toggleable\"><input class=\"sk-toggleable__control sk-hidden--visually\" id=\"sk-estimator-id-1\" type=\"checkbox\" checked><label for=\"sk-estimator-id-1\" class=\"sk-toggleable__label sk-toggleable__label-arrow\">LinearRegression</label><div class=\"sk-toggleable__content\"><pre>LinearRegression()</pre></div></div></div></div></div>"
      ],
      "text/plain": [
       "LinearRegression()"
      ]
     },
     "execution_count": 17,
     "metadata": {},
     "output_type": "execute_result"
    }
   ],
   "source": [
    "# create an instance of a LinearRegression() model named lin_reg_model.\n",
    "lin_reg_model = LinearRegression()\n",
    "\n",
    "#Train/fit lin_reg_model on the training data.\n",
    "lin_reg_model.fit(X_train, y_train)"
   ]
  },
  {
   "cell_type": "code",
   "execution_count": 18,
   "id": "0d3b4f65-213d-4941-a20b-c76f0e8bc08a",
   "metadata": {},
   "outputs": [],
   "source": [
    "# calculate predictions\n",
    "predictions = lin_reg_model.predict(X_test)"
   ]
  },
  {
   "cell_type": "code",
   "execution_count": 19,
   "id": "9a6436cb-f112-44dc-a88d-2929b4db122b",
   "metadata": {},
   "outputs": [
    {
     "name": "stdout",
     "output_type": "stream",
     "text": [
      "Accuracy: 97.791\n"
     ]
    }
   ],
   "source": [
    "# accuracy of the linear regression model\n",
    "MAPE_lr = np.mean(100 * (np.abs(y_test - predictions)/y_test))\n",
    "\n",
    "print(f\"Accuracy: {100 - MAPE_lr:.3f}\") "
   ]
  },
  {
   "cell_type": "markdown",
   "id": "93b560a9-4476-4fb0-ae50-73ae09a80919",
   "metadata": {},
   "source": [
    "## Findings\n",
    "\n",
    "Both models were compared using Mean Absolute Percentage Error (MAPE) metrics.  \n",
    "The formula for MAPE is:\n",
    "\n",
    "$$ MAPE = \\frac{1}{n} \\sum_{i=1}^{n} \\left| \\frac{A_i - F_i}{A_i} \\right| \\times 100\\% $$\n",
    "\n",
    "Where:  \n",
    "$ n $ is the number of observations; \n",
    "$ A_i $ is the actual value; \n",
    "$ F_i $ is the forecasted (predicted) value.\n",
    "\n",
    "Model accuracy is expressed as: $ 100\\% - MAPE $\n",
    "\n",
    "The following are the found accuracies of both models:"
   ]
  },
  {
   "cell_type": "code",
   "execution_count": 20,
   "id": "e1fa0259-276d-429a-80b0-b4e35d212dd8",
   "metadata": {},
   "outputs": [
    {
     "name": "stdout",
     "output_type": "stream",
     "text": [
      "ANN accuracy:\t 96.917%\n",
      "LR accuracy:\t 97.791%\n"
     ]
    }
   ],
   "source": [
    "print(f\"ANN accuracy:\\t {max_accuracy[-1]:.3f}%\")\n",
    "print(f\"LR accuracy:\\t {100 - MAPE_lr:.3f}%\")"
   ]
  },
  {
   "cell_type": "markdown",
   "id": "0e663dde-bdb4-4c6f-a96c-5def92e016fc",
   "metadata": {},
   "source": [
    "References:\n",
    "- <https://www.analyticsvidhya.com/blog/2021/07/car-price-prediction-machine-learning-vs-deep-learning/>\n",
    "- <https://www.kaggle.com/code/karan842/car-price-prediction-neural-network>\n",
    "- <https://github.com/andkoc001/Machine-Learning-and-Statistics-Project>"
   ]
  },
  {
   "cell_type": "markdown",
   "id": "8a526775-2e03-4f3d-8431-4a7a81711b21",
   "metadata": {},
   "source": [
    "___\n",
    "Andrzej Kocielski, 2023"
   ]
  }
 ],
 "metadata": {
  "kernelspec": {
   "display_name": "Python 3 (ipykernel)",
   "language": "python",
   "name": "python3"
  },
  "language_info": {
   "codemirror_mode": {
    "name": "ipython",
    "version": 3
   },
   "file_extension": ".py",
   "mimetype": "text/x-python",
   "name": "python",
   "nbconvert_exporter": "python",
   "pygments_lexer": "ipython3",
   "version": "3.10.12"
  }
 },
 "nbformat": 4,
 "nbformat_minor": 5
}
