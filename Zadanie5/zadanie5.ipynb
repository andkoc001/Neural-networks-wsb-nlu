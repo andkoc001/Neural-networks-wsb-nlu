{
 "cells": [
  {
   "cell_type": "markdown",
   "id": "aea8cc1a-bc78-4ec7-98df-25035c18f023",
   "metadata": {},
   "source": [
    "# Neural networks\n",
    "Lecturer: Dr Andrzej Tomski, WSB-NLU  \n",
    "\n",
    "> Author: Andrzej Kocielski, 2023-2024  \n",
    "> email: <akocielski@student.wsb-nlu.edu.pl>, <and.koc001@gmail.com>\n",
    "___"
   ]
  },
  {
   "cell_type": "markdown",
   "id": "d1192cd2-d394-430c-9423-88bd5c2436ff",
   "metadata": {},
   "source": [
    "## Exercise 5\n",
    "\n",
    "Built a classification model, using dataset \"Pima Indians Diabetes Database\" ([Kaggle](https://www.kaggle.com/datasets/uciml/pima-indians-diabetes-database)).\n"
   ]
  },
  {
   "cell_type": "markdown",
   "id": "b310f167-318f-4661-a157-288fcbb24c36",
   "metadata": {},
   "source": [
    "### Importing libraries and set up"
   ]
  },
  {
   "cell_type": "code",
   "execution_count": 1,
   "id": "674fab74-13ea-42b4-a561-8272d5de3941",
   "metadata": {},
   "outputs": [],
   "source": [
    "# Imports\n",
    "\n",
    "import os\n",
    "os.environ['TF_CPP_MIN_LOG_LEVEL'] = '3'\n",
    "\n",
    "# ignore warnings\n",
    "import warnings \n",
    "warnings.filterwarnings(\"ignore\")\n",
    "warnings.filterwarnings(\"ignore\", category=DeprecationWarning)\n",
    "warnings.filterwarnings(\"ignore\", category=FutureWarning)\n",
    "\n",
    "import numpy as np\n",
    "import pandas as pd\n",
    "\n",
    "from sklearn.preprocessing import StandardScaler # used for standardisation of data\n",
    "from sklearn.model_selection import train_test_split\n",
    "from sklearn.linear_model import LogisticRegression \n",
    "from sklearn.metrics import confusion_matrix, accuracy_score\n",
    "\n",
    "from keras.models import Sequential # model of ANN\n",
    "from keras.layers import Dense # layers of ANN\n",
    "\n",
    "import matplotlib.pyplot as plt\n",
    "import seaborn as sns\n",
    "sns.set()"
   ]
  },
  {
   "cell_type": "code",
   "execution_count": 2,
   "id": "dca09413-4f1d-4063-a9e4-f83a3dcd64ed",
   "metadata": {},
   "outputs": [],
   "source": [
    "# To remove the scientific notation from numpy arrays\n",
    "np.set_printoptions(suppress=True, formatter={'float':'{0.2f}'.format})"
   ]
  },
  {
   "cell_type": "markdown",
   "id": "aa642b8c-6b8f-49d1-a7ab-352e91ca8b96",
   "metadata": {},
   "source": [
    "### Load and inspect data"
   ]
  },
  {
   "cell_type": "code",
   "execution_count": 3,
   "id": "fa94c767-d609-42f9-9843-05c9b72f7812",
   "metadata": {},
   "outputs": [
    {
     "name": "stdout",
     "output_type": "stream",
     "text": [
      "Shape of dataframe: (768, 9)\n",
      "\n",
      "<class 'pandas.core.frame.DataFrame'>\n",
      "RangeIndex: 768 entries, 0 to 767\n",
      "Data columns (total 9 columns):\n",
      " #   Column                    Non-Null Count  Dtype  \n",
      "---  ------                    --------------  -----  \n",
      " 0   Pregnancies               768 non-null    int64  \n",
      " 1   Glucose                   768 non-null    int64  \n",
      " 2   BloodPressure             768 non-null    int64  \n",
      " 3   SkinThickness             768 non-null    int64  \n",
      " 4   Insulin                   768 non-null    int64  \n",
      " 5   BMI                       768 non-null    float64\n",
      " 6   DiabetesPedigreeFunction  768 non-null    float64\n",
      " 7   Age                       768 non-null    int64  \n",
      " 8   Outcome                   768 non-null    int64  \n",
      "dtypes: float64(2), int64(7)\n",
      "memory usage: 54.1 KB\n",
      "None \n",
      "\n",
      "       Pregnancies     Glucose  BloodPressure  SkinThickness     Insulin  \\\n",
      "count   768.000000  768.000000     768.000000     768.000000  768.000000   \n",
      "mean      3.845052  120.894531      69.105469      20.536458   79.799479   \n",
      "std       3.369578   31.972618      19.355807      15.952218  115.244002   \n",
      "min       0.000000    0.000000       0.000000       0.000000    0.000000   \n",
      "25%       1.000000   99.000000      62.000000       0.000000    0.000000   \n",
      "50%       3.000000  117.000000      72.000000      23.000000   30.500000   \n",
      "75%       6.000000  140.250000      80.000000      32.000000  127.250000   \n",
      "max      17.000000  199.000000     122.000000      99.000000  846.000000   \n",
      "\n",
      "              BMI  DiabetesPedigreeFunction         Age     Outcome  \n",
      "count  768.000000                768.000000  768.000000  768.000000  \n",
      "mean    31.992578                  0.471876   33.240885    0.348958  \n",
      "std      7.884160                  0.331329   11.760232    0.476951  \n",
      "min      0.000000                  0.078000   21.000000    0.000000  \n",
      "25%     27.300000                  0.243750   24.000000    0.000000  \n",
      "50%     32.000000                  0.372500   29.000000    0.000000  \n",
      "75%     36.600000                  0.626250   41.000000    1.000000  \n",
      "max     67.100000                  2.420000   81.000000    1.000000  \n"
     ]
    }
   ],
   "source": [
    "# Load dataset from file\n",
    "data = pd.read_csv('diabetes.csv')\n",
    "# Data inspection\n",
    "print(f\"Shape of dataframe: {data.shape}\\n\")\n",
    "print(data.info(), \"\\n\")\n",
    "print(data.describe())"
   ]
  },
  {
   "cell_type": "markdown",
   "id": "7b0168aa-4e6b-4332-a3a6-315d540ebed7",
   "metadata": {},
   "source": [
    "All features are numeric, with no missing data.\n",
    "\n",
    "#### Data cleaning\n",
    "\n",
    "Although one observation (the one with SkinThickness = 99) seem to be incorrect, I am going to leave it in for further analysis. The reason being lack of the subject expertise, i.e. it may be actually fair measure."
   ]
  },
  {
   "cell_type": "code",
   "execution_count": 4,
   "id": "e0d1396a-fb07-4b94-87c9-65745531210b",
   "metadata": {},
   "outputs": [
    {
     "data": {
      "text/html": [
       "<div>\n",
       "<style scoped>\n",
       "    .dataframe tbody tr th:only-of-type {\n",
       "        vertical-align: middle;\n",
       "    }\n",
       "\n",
       "    .dataframe tbody tr th {\n",
       "        vertical-align: top;\n",
       "    }\n",
       "\n",
       "    .dataframe thead th {\n",
       "        text-align: right;\n",
       "    }\n",
       "</style>\n",
       "<table border=\"1\" class=\"dataframe\">\n",
       "  <thead>\n",
       "    <tr style=\"text-align: right;\">\n",
       "      <th></th>\n",
       "      <th>Pregnancies</th>\n",
       "      <th>Glucose</th>\n",
       "      <th>BloodPressure</th>\n",
       "      <th>SkinThickness</th>\n",
       "      <th>Insulin</th>\n",
       "      <th>BMI</th>\n",
       "      <th>DiabetesPedigreeFunction</th>\n",
       "      <th>Age</th>\n",
       "      <th>Outcome</th>\n",
       "    </tr>\n",
       "  </thead>\n",
       "  <tbody>\n",
       "    <tr>\n",
       "      <th>579</th>\n",
       "      <td>2</td>\n",
       "      <td>197</td>\n",
       "      <td>70</td>\n",
       "      <td>99</td>\n",
       "      <td>0</td>\n",
       "      <td>34.7</td>\n",
       "      <td>0.575</td>\n",
       "      <td>62</td>\n",
       "      <td>1</td>\n",
       "    </tr>\n",
       "  </tbody>\n",
       "</table>\n",
       "</div>"
      ],
      "text/plain": [
       "     Pregnancies  Glucose  BloodPressure  SkinThickness  Insulin   BMI  \\\n",
       "579            2      197             70             99        0  34.7   \n",
       "\n",
       "     DiabetesPedigreeFunction  Age  Outcome  \n",
       "579                     0.575   62        1  "
      ]
     },
     "execution_count": 4,
     "metadata": {},
     "output_type": "execute_result"
    },
    {
     "data": {
      "image/png": "[encoded data removed]",
      "text/plain": [
       "<Figure size 432x288 with 1 Axes>"
      ]
     },
     "metadata": {},
     "output_type": "display_data"
    }
   ],
   "source": [
    "sns.boxplot(data[\"SkinThickness\"])\n",
    "# The below observation appear to be invalid\n",
    "data[data[\"SkinThickness\"] > 65]"
   ]
  },
  {
   "cell_type": "markdown",
   "id": "df53d0cb-6783-4f56-ac24-80bbd45fb688",
   "metadata": {},
   "source": [
    "___\n",
    "## Preparing the data\n",
    "\n",
    "This exercise is a binary classification problem, where patients fall in one of two categories diagnosed with diabetes or not, based on the other data in the dataset. \n",
    "A suitable ANN for such a task is a _feed forward_ kind of NN.\n",
    "\n",
    "#### Separate outcome from predictors\n",
    "Since the dataset already includes the outcome, that information should be separated from the other predictors for the training and validation of the NN."
   ]
  },
  {
   "cell_type": "code",
   "execution_count": 5,
   "id": "6b3cd1cc-7f73-4b20-8c61-3fbabffdecfe",
   "metadata": {},
   "outputs": [],
   "source": [
    "# Separate Target Variable and Predictor Variables\n",
    "TargetVariable = ['Outcome']\n",
    "Predictors = ['Pregnancies', 'Glucose', 'BloodPressure', 'SkinThickness', 'Insulin', 'BMI', 'DiabetesPedigreeFunction', 'Age']\n",
    "\n",
    "X = data[Predictors].values\n",
    "y = data[TargetVariable].values"
   ]
  },
  {
   "cell_type": "markdown",
   "id": "db32119b-c33e-411a-a7bd-b085cc3f7529",
   "metadata": {},
   "source": [
    "#### Standardisation and fitting the values\n",
    "\n",
    "Standardisation of values, using `StandardScaler` from sklearn.preprocessing library"
   ]
  },
  {
   "cell_type": "code",
   "execution_count": 6,
   "id": "c1bb63f3-7e81-44c3-a1da-c57706abee02",
   "metadata": {},
   "outputs": [],
   "source": [
    "# Set StandardScaler to both datasets\n",
    "PredictorScaler = StandardScaler()\n",
    "TargetVarScaler = StandardScaler()\n",
    "\n",
    "# Storing the fit object for later reference\n",
    "PredictorScalerFit = PredictorScaler.fit(X)\n",
    "# TargetVarScalerFit = TargetVarScaler.fit(y) # disabled, as output is already either 0 or 1\n",
    "\n",
    "# Generating the standardised values of X and y\n",
    "X = PredictorScalerFit.transform(X)\n",
    "# y = TargetVarScalerFit.transform(y)"
   ]
  },
  {
   "cell_type": "markdown",
   "id": "87bf3f33-4da5-4a1b-896f-2a0fe52d1068",
   "metadata": {},
   "source": [
    "#### Train-test subsets\n",
    "\n",
    "Splitting the data into training and testing sets, using method `train_test_split` from scikit-learn."
   ]
  },
  {
   "cell_type": "code",
   "execution_count": 7,
   "id": "537a1be3-30a7-4e1b-8def-3f1a236b757c",
   "metadata": {},
   "outputs": [
    {
     "name": "stdout",
     "output_type": "stream",
     "text": [
      "(537, 8) (537, 1)\n",
      "(231, 8) (231, 1)\n"
     ]
    }
   ],
   "source": [
    "# Split data into 70% training and 30% testing \n",
    "X_train, X_test, y_train, y_test = train_test_split(X, y, test_size=0.3, random_state=2023)\n",
    "\n",
    "# Quick sanity check with the shapes of Training and testing datasets\n",
    "print(X_train.shape, y_train.shape)\n",
    "print(X_test.shape, y_test.shape)"
   ]
  },
  {
   "cell_type": "markdown",
   "id": "3db013ac-a096-46ad-8c0d-33484d583846",
   "metadata": {},
   "source": [
    "## Build ANN\n",
    "\n",
    "#### Neural Net model\n",
    "\n",
    "For this exercise, `Sequential` model will be used, with consecutive layers of neurons. The net will be composed of the following layers:\n",
    "1. Input layer\n",
    "2. Hidden layers - 2 off\n",
    "3. Output layer\n",
    "\n",
    "The NN will be trained on the `training` subset, and validated on the `test` subset. \n",
    "\n",
    "The NN is charactrised with the following parameters:\n",
    "- _activation function_ - specifies the activation function for the computations inside each neuron. For binary classification problem the best are 's-shaped' activation functions, such as sigmoid.\n",
    "- _loss function_ - specifies loss function that checks the prediction against the true value; for binary classification _binary_crossentropy_ is recommended.\n",
    "- _optimiser_ - used for minimizing the error, e.g. adaptive moment estimation (ADAM) \n",
    "\n",
    "#### Hyperparameters  \n",
    "\n",
    "The following hyperparameters will be used for tuning each layer of the NN.\n",
    "\n",
    "- _units_ \n",
    "- _input_dim_\n",
    "- _kernel_initializer_\n",
    "- _activation_\n",
    "\n",
    "Also, the entrie NN will be optimised, using the following hyperparameters:\n",
    "- _batch_size_\n",
    "- _epochs_ \n",
    "\n",
    "#### Evaluation\n",
    "Quality (metrics) of the NN will be scored by evaluating the _accuracy_ of the model."
   ]
  },
  {
   "cell_type": "markdown",
   "id": "f3883ea0-8b8d-471c-bf35-83b08ac8d5b4",
   "metadata": {},
   "source": [
    "### Training the model"
   ]
  },
  {
   "cell_type": "code",
   "execution_count": 8,
   "id": "79c4fd45-f319-48ef-995b-c8e8a96ca175",
   "metadata": {},
   "outputs": [],
   "source": [
    "# Fitting the ANN to the Training set\n",
    "def nn_quick_model(X_train, y_train, X_test, y_test):\n",
    "    \n",
    "    # create ANN model\n",
    "    model = Sequential()\n",
    "    # Building the layers of the net\n",
    "    model.add(Dense(units=12, input_dim=X_train.shape[1], kernel_initializer='normal', activation='relu'))\n",
    "    # Defining the Second layer of the model\n",
    "    # model.add(Dense(units=12, kernel_initializer='normal', activation='relu'))\n",
    "    # Defining the next layer of the model\n",
    "    model.add(Dense(units=5, kernel_initializer='normal', activation='relu'))\n",
    "    # The output neuron is a single fully connected node, suitable for binary classification\n",
    "    model.add(Dense(units=1, activation='sigmoid'))\n",
    "    # Compiling the model\n",
    "    model.compile(optimizer='rmsprop', loss='binary_crossentropy', metrics=['accuracy'])\n",
    "\n",
    "    # model info\n",
    "    model.summary()\n",
    "    \n",
    "    history = model.fit(\n",
    "        x = X_train, y = y_train,\n",
    "        epochs = 50,\n",
    "        batch_size = 20,\n",
    "        validation_data = (X_test, y_test),\n",
    "        verbose = 1,\n",
    "    )\n",
    "    \n",
    "    loss_and_metrics = model.evaluate(X_test, y_test)\n",
    "    print('Loss = ',loss_and_metrics[0])\n",
    "    print('Accuracy = ',loss_and_metrics[1])\n",
    "    \n",
    "    return(history)"
   ]
  },
  {
   "cell_type": "code",
   "execution_count": 9,
   "metadata": {},
   "outputs": [
    {
     "name": "stdout",
     "output_type": "stream",
     "text": [
      "Model: \"sequential\"\n",
      "_________________________________________________________________\n",
      " Layer (type)                Output Shape              Param #   \n",
      "=================================================================\n",
      " dense (Dense)               (None, 12)                108       \n",
      "                                                                 \n",
      " dense_1 (Dense)             (None, 5)                 65        \n",
      "                                                                 \n",
      " dense_2 (Dense)             (None, 1)                 6         \n",
      "                                                                 \n",
      "=================================================================\n",
      "Total params: 179 (716.00 Byte)\n",
      "Trainable params: 179 (716.00 Byte)\n",
      "Non-trainable params: 0 (0.00 Byte)\n",
      "_________________________________________________________________\n",
      "Epoch 1/50\n",
      "27/27 [==============================] - 1s 9ms/step - loss: 0.6840 - accuracy: 0.7207 - val_loss: 0.6794 - val_accuracy: 0.7229\n",
      "Epoch 2/50\n",
      "27/27 [==============================] - 0s 2ms/step - loss: 0.6704 - accuracy: 0.7616 - val_loss: 0.6671 - val_accuracy: 0.7100\n",
      "Epoch 3/50\n",
      "27/27 [==============================] - 0s 2ms/step - loss: 0.6540 - accuracy: 0.7691 - val_loss: 0.6526 - val_accuracy: 0.7056\n",
      "Epoch 4/50\n",
      "27/27 [==============================] - 0s 3ms/step - loss: 0.6354 - accuracy: 0.7821 - val_loss: 0.6370 - val_accuracy: 0.7143\n",
      "Epoch 5/50\n",
      "27/27 [==============================] - 0s 2ms/step - loss: 0.6156 - accuracy: 0.7840 - val_loss: 0.6201 - val_accuracy: 0.7143\n",
      "Epoch 6/50\n",
      "27/27 [==============================] - 0s 2ms/step - loss: 0.5954 - accuracy: 0.7784 - val_loss: 0.6036 - val_accuracy: 0.7273\n",
      "Epoch 7/50\n",
      "27/27 [==============================] - 0s 2ms/step - loss: 0.5753 - accuracy: 0.7821 - val_loss: 0.5872 - val_accuracy: 0.7316\n",
      "Epoch 8/50\n",
      "27/27 [==============================] - 0s 3ms/step - loss: 0.5560 - accuracy: 0.7858 - val_loss: 0.5720 - val_accuracy: 0.7403\n",
      "Epoch 9/50\n",
      "27/27 [==============================] - 0s 2ms/step - loss: 0.5373 - accuracy: 0.7896 - val_loss: 0.5576 - val_accuracy: 0.7403\n",
      "Epoch 10/50\n",
      "27/27 [==============================] - 0s 3ms/step - loss: 0.5203 - accuracy: 0.7858 - val_loss: 0.5453 - val_accuracy: 0.7446\n",
      "Epoch 11/50\n",
      "27/27 [==============================] - 0s 3ms/step - loss: 0.5057 - accuracy: 0.7803 - val_loss: 0.5355 - val_accuracy: 0.7489\n",
      "Epoch 12/50\n",
      "27/27 [==============================] - 0s 2ms/step - loss: 0.4931 - accuracy: 0.7803 - val_loss: 0.5279 - val_accuracy: 0.7489\n",
      "Epoch 13/50\n",
      "27/27 [==============================] - 0s 3ms/step - loss: 0.4828 - accuracy: 0.7803 - val_loss: 0.5219 - val_accuracy: 0.7489\n",
      "Epoch 14/50\n",
      "27/27 [==============================] - 0s 2ms/step - loss: 0.4749 - accuracy: 0.7803 - val_loss: 0.5181 - val_accuracy: 0.7489\n",
      "Epoch 15/50\n",
      "27/27 [==============================] - 0s 3ms/step - loss: 0.4689 - accuracy: 0.7858 - val_loss: 0.5150 - val_accuracy: 0.7489\n",
      "Epoch 16/50\n",
      "27/27 [==============================] - 0s 2ms/step - loss: 0.4642 - accuracy: 0.7821 - val_loss: 0.5128 - val_accuracy: 0.7532\n",
      "Epoch 17/50\n",
      "27/27 [==============================] - 0s 3ms/step - loss: 0.4612 - accuracy: 0.7840 - val_loss: 0.5117 - val_accuracy: 0.7489\n",
      "Epoch 18/50\n",
      "27/27 [==============================] - 0s 3ms/step - loss: 0.4587 - accuracy: 0.7840 - val_loss: 0.5108 - val_accuracy: 0.7532\n",
      "Epoch 19/50\n",
      "27/27 [==============================] - 0s 2ms/step - loss: 0.4566 - accuracy: 0.7747 - val_loss: 0.5098 - val_accuracy: 0.7576\n",
      "Epoch 20/50\n",
      "27/27 [==============================] - 0s 2ms/step - loss: 0.4547 - accuracy: 0.7784 - val_loss: 0.5090 - val_accuracy: 0.7576\n",
      "Epoch 21/50\n",
      "27/27 [==============================] - 0s 3ms/step - loss: 0.4538 - accuracy: 0.7784 - val_loss: 0.5085 - val_accuracy: 0.7576\n",
      "Epoch 22/50\n",
      "27/27 [==============================] - 0s 3ms/step - loss: 0.4527 - accuracy: 0.7858 - val_loss: 0.5079 - val_accuracy: 0.7576\n",
      "Epoch 23/50\n",
      "27/27 [==============================] - 0s 2ms/step - loss: 0.4520 - accuracy: 0.7803 - val_loss: 0.5072 - val_accuracy: 0.7619\n",
      "Epoch 24/50\n",
      "27/27 [==============================] - 0s 3ms/step - loss: 0.4510 - accuracy: 0.7840 - val_loss: 0.5067 - val_accuracy: 0.7619\n",
      "Epoch 25/50\n",
      "27/27 [==============================] - 0s 3ms/step - loss: 0.4501 - accuracy: 0.7858 - val_loss: 0.5060 - val_accuracy: 0.7619\n",
      "Epoch 26/50\n",
      "27/27 [==============================] - 0s 3ms/step - loss: 0.4495 - accuracy: 0.7877 - val_loss: 0.5054 - val_accuracy: 0.7619\n",
      "Epoch 27/50\n",
      "27/27 [==============================] - 0s 2ms/step - loss: 0.4487 - accuracy: 0.7821 - val_loss: 0.5053 - val_accuracy: 0.7619\n",
      "Epoch 28/50\n",
      "27/27 [==============================] - 0s 2ms/step - loss: 0.4480 - accuracy: 0.7858 - val_loss: 0.5047 - val_accuracy: 0.7576\n",
      "Epoch 29/50\n",
      "27/27 [==============================] - 0s 3ms/step - loss: 0.4476 - accuracy: 0.7877 - val_loss: 0.5046 - val_accuracy: 0.7576\n",
      "Epoch 30/50\n",
      "27/27 [==============================] - 0s 2ms/step - loss: 0.4467 - accuracy: 0.7896 - val_loss: 0.5039 - val_accuracy: 0.7576\n",
      "Epoch 31/50\n",
      "27/27 [==============================] - 0s 2ms/step - loss: 0.4461 - accuracy: 0.7877 - val_loss: 0.5036 - val_accuracy: 0.7576\n",
      "Epoch 32/50\n",
      "27/27 [==============================] - 0s 2ms/step - loss: 0.4456 - accuracy: 0.7877 - val_loss: 0.5026 - val_accuracy: 0.7619\n",
      "Epoch 33/50\n",
      "27/27 [==============================] - 0s 3ms/step - loss: 0.4447 - accuracy: 0.7858 - val_loss: 0.5015 - val_accuracy: 0.7619\n",
      "Epoch 34/50\n",
      "27/27 [==============================] - 0s 2ms/step - loss: 0.4443 - accuracy: 0.7858 - val_loss: 0.5010 - val_accuracy: 0.7619\n",
      "Epoch 35/50\n",
      "27/27 [==============================] - 0s 2ms/step - loss: 0.4433 - accuracy: 0.7803 - val_loss: 0.5006 - val_accuracy: 0.7662\n",
      "Epoch 36/50\n",
      "27/27 [==============================] - 0s 3ms/step - loss: 0.4434 - accuracy: 0.7803 - val_loss: 0.5007 - val_accuracy: 0.7619\n",
      "Epoch 37/50\n",
      "27/27 [==============================] - 0s 2ms/step - loss: 0.4420 - accuracy: 0.7821 - val_loss: 0.5009 - val_accuracy: 0.7706\n",
      "Epoch 38/50\n",
      "27/27 [==============================] - 0s 2ms/step - loss: 0.4425 - accuracy: 0.7803 - val_loss: 0.5010 - val_accuracy: 0.7662\n",
      "Epoch 39/50\n",
      "27/27 [==============================] - 0s 2ms/step - loss: 0.4411 - accuracy: 0.7858 - val_loss: 0.5006 - val_accuracy: 0.7662\n",
      "Epoch 40/50\n",
      "27/27 [==============================] - 0s 3ms/step - loss: 0.4411 - accuracy: 0.7840 - val_loss: 0.5002 - val_accuracy: 0.7576\n",
      "Epoch 41/50\n",
      "27/27 [==============================] - 0s 2ms/step - loss: 0.4403 - accuracy: 0.7840 - val_loss: 0.5003 - val_accuracy: 0.7576\n",
      "Epoch 42/50\n",
      "27/27 [==============================] - 0s 2ms/step - loss: 0.4396 - accuracy: 0.7821 - val_loss: 0.5005 - val_accuracy: 0.7576\n",
      "Epoch 43/50\n",
      "27/27 [==============================] - 0s 3ms/step - loss: 0.4392 - accuracy: 0.7858 - val_loss: 0.5001 - val_accuracy: 0.7576\n",
      "Epoch 44/50\n",
      "27/27 [==============================] - 0s 2ms/step - loss: 0.4382 - accuracy: 0.7896 - val_loss: 0.4995 - val_accuracy: 0.7576\n",
      "Epoch 45/50\n",
      "27/27 [==============================] - 0s 2ms/step - loss: 0.4375 - accuracy: 0.7840 - val_loss: 0.4994 - val_accuracy: 0.7619\n",
      "Epoch 46/50\n",
      "27/27 [==============================] - 0s 2ms/step - loss: 0.4367 - accuracy: 0.7858 - val_loss: 0.4997 - val_accuracy: 0.7576\n",
      "Epoch 47/50\n",
      "27/27 [==============================] - 0s 3ms/step - loss: 0.4362 - accuracy: 0.7914 - val_loss: 0.4997 - val_accuracy: 0.7532\n",
      "Epoch 48/50\n",
      "27/27 [==============================] - 0s 2ms/step - loss: 0.4357 - accuracy: 0.7840 - val_loss: 0.5003 - val_accuracy: 0.7532\n",
      "Epoch 49/50\n",
      "27/27 [==============================] - 0s 3ms/step - loss: 0.4354 - accuracy: 0.7970 - val_loss: 0.4996 - val_accuracy: 0.7576\n",
      "Epoch 50/50\n",
      "27/27 [==============================] - 0s 3ms/step - loss: 0.4346 - accuracy: 0.7933 - val_loss: 0.4999 - val_accuracy: 0.7532\n",
      "8/8 [==============================] - 0s 2ms/step - loss: 0.4999 - accuracy: 0.7532\n",
      "Loss =  0.49989768862724304\n",
      "Accuracy =  0.7532467246055603\n"
     ]
    }
   ],
   "source": [
    "hist = nn_quick_model(X_train, y_train, X_test, y_test)"
   ]
  },
  {
   "cell_type": "code",
   "execution_count": 10,
   "metadata": {},
   "outputs": [
    {
     "data": {
      "image/png": "[encoded data removed]",
      "text/plain": [
       "<Figure size 1296x288 with 2 Axes>"
      ]
     },
     "metadata": {},
     "output_type": "display_data"
    }
   ],
   "source": [
    "plt.figure(figsize=(18,4))\n",
    "\n",
    "# summarize history for accuracy\n",
    "plt.subplot(1, 2, 1)\n",
    "plt.plot(hist.history['accuracy'])\n",
    "plt.plot(hist.history['val_accuracy'])\n",
    "plt.title('model accuracy')\n",
    "plt.ylabel('accuracy')\n",
    "plt.xlabel('epoch')\n",
    "plt.legend(['train', 'test'], loc='best')\n",
    "\n",
    "# summarize history for loss\n",
    "plt.subplot(1, 2, 2)\n",
    "plt.plot(hist.history['loss'])\n",
    "plt.plot(hist.history['val_loss'])\n",
    "plt.title('model loss')\n",
    "plt.ylabel('loss')\n",
    "plt.xlabel('epoch')\n",
    "plt.legend(['train', 'test'], loc='best')\n",
    "\n",
    "plt.show()"
   ]
  },
  {
   "cell_type": "markdown",
   "id": "64d9b44a-551a-418c-8d29-dcc1ac309aa7",
   "metadata": {},
   "source": [
    "## Searching for the best parameters for the ANN\n",
    "\n",
    "#### Training the model\n",
    "\n",
    "Further parameters for tuning the model:\n",
    "- _batch_size_ - Specifies how many rows will be fed to the network at one time, after which calculation will begin and the neural network will begin to adjust its weights based on errors.\n",
    "- _epochs_ - The same weight adjustment action is continued 50 times according to this parameter. To put it simply, the ANN looks at the full training data 50 times and adjusts its weights."
   ]
  },
  {
   "cell_type": "code",
   "execution_count": 11,
   "id": "c50f95ce-bef5-4a13-b297-cddfb9bf3a78",
   "metadata": {},
   "outputs": [],
   "source": [
    "def FindBestParams(X_train, y_train, X_test, y_test):\n",
    "    \"\"\" \n",
    "    Function finds the best parameters for training the ANN.\n",
    "    \"\"\"    \n",
    "    # Defining the list of hyper parameters to try\n",
    "    batch_size_list = [5, 10, 20, 40]\n",
    "    epoch_list = [10, 20, 30, 40]\n",
    "    \n",
    "    SearchResultsData = pd.DataFrame(columns=['TrialNumber', 'Parameters', 'Accuracy'])\n",
    "    \n",
    "    # initializing the trials\n",
    "    TrialNumber=0\n",
    "    for batch_size_trial in batch_size_list:\n",
    "        for epochs_trial in epoch_list:\n",
    "            print()\n",
    "            TrialNumber+=1\n",
    "            \n",
    "            # create ANN model\n",
    "            model = Sequential()\n",
    "            # Defining the first layer of the model\n",
    "            model.add(Dense(units=10, input_dim=X_train.shape[1], kernel_initializer='normal', activation='relu'))\n",
    "            # Defining the second layer of the model\n",
    "            # model.add(Dense(units=10, kernel_initializer='normal', activation='relu'))\n",
    "            # Defining the next layer of the model\n",
    "            model.add(Dense(units=5, kernel_initializer='normal', activation='relu'))\n",
    "            # The output neuron \n",
    "            model.add(Dense(units=1, activation='sigmoid'))\n",
    "\n",
    "            # Compiling the model\n",
    "            model.compile(optimizer='adam', loss='binary_crossentropy', metrics=['accuracy'])\n",
    "            \n",
    "            # Fitting the ANN to the Training set\n",
    "            history = model.fit(\n",
    "                X_train, y_train,\n",
    "                epochs=epochs_trial,\n",
    "                batch_size=batch_size_trial,\n",
    "                validation_data=(X_test, y_test),\n",
    "                verbose=0,\n",
    "                )\n",
    "\n",
    "            accu = model.evaluate(X_test, y_test)[1]\n",
    "            \n",
    "            trial_result = pd.DataFrame(\n",
    "                data=[[TrialNumber, str(batch_size_trial)+'-'+str(epochs_trial), accu]],\n",
    "                            columns=['TrialNumber', 'Parameters', 'Accuracy'])\n",
    "            print(trial_result)\n",
    "\n",
    "            SearchResultsData = pd.concat([SearchResultsData, trial_result], ignore_index=True)\n",
    "            # SearchResultsData = SearchResultsData.append(trial_result)) # deprecated in Pandas 2.0\n",
    "    \n",
    "    return(SearchResultsData)"
   ]
  },
  {
   "cell_type": "code",
   "execution_count": 12,
   "id": "1d752eca-e733-4cc1-89b8-fd4f05695277",
   "metadata": {},
   "outputs": [
    {
     "name": "stdout",
     "output_type": "stream",
     "text": [
      "\n",
      "8/8 [==============================] - 0s 2ms/step - loss: 0.4946 - accuracy: 0.7576\n",
      "   TrialNumber Parameters  Accuracy\n",
      "0            1       5-10  0.757576\n",
      "\n",
      "8/8 [==============================] - 0s 2ms/step - loss: 0.4891 - accuracy: 0.7792\n",
      "   TrialNumber Parameters  Accuracy\n",
      "0            2       5-20  0.779221\n",
      "\n",
      "8/8 [==============================] - 0s 1ms/step - loss: 0.5092 - accuracy: 0.7619\n",
      "   TrialNumber Parameters  Accuracy\n",
      "0            3       5-30  0.761905\n",
      "\n",
      "8/8 [==============================] - 0s 2ms/step - loss: 0.4989 - accuracy: 0.7619\n",
      "   TrialNumber Parameters  Accuracy\n",
      "0            4       5-40  0.761905\n",
      "\n",
      "8/8 [==============================] - 0s 2ms/step - loss: 0.5046 - accuracy: 0.7619\n",
      "   TrialNumber Parameters  Accuracy\n",
      "0            5      10-10  0.761905\n",
      "\n",
      "8/8 [==============================] - 0s 2ms/step - loss: 0.5012 - accuracy: 0.7619\n",
      "   TrialNumber Parameters  Accuracy\n",
      "0            6      10-20  0.761905\n",
      "\n",
      "8/8 [==============================] - 0s 2ms/step - loss: 0.5012 - accuracy: 0.7576\n",
      "   TrialNumber Parameters  Accuracy\n",
      "0            7      10-30  0.757576\n",
      "\n",
      "8/8 [==============================] - 0s 2ms/step - loss: 0.4978 - accuracy: 0.7619\n",
      "   TrialNumber Parameters  Accuracy\n",
      "0            8      10-40  0.761905\n",
      "\n",
      "8/8 [==============================] - 0s 2ms/step - loss: 0.5310 - accuracy: 0.7446\n",
      "   TrialNumber Parameters  Accuracy\n",
      "0            9      20-10  0.744589\n",
      "\n",
      "8/8 [==============================] - 0s 2ms/step - loss: 0.5310 - accuracy: 0.7706\n",
      "   TrialNumber Parameters  Accuracy\n",
      "0           10      20-20  0.770563\n",
      "\n",
      "8/8 [==============================] - 0s 1ms/step - loss: 0.5010 - accuracy: 0.7619\n",
      "   TrialNumber Parameters  Accuracy\n",
      "0           11      20-30  0.761905\n",
      "\n",
      "8/8 [==============================] - 0s 2ms/step - loss: 0.4957 - accuracy: 0.7749\n",
      "   TrialNumber Parameters  Accuracy\n",
      "0           12      20-40  0.774892\n",
      "\n",
      "8/8 [==============================] - 0s 2ms/step - loss: 0.5752 - accuracy: 0.7186\n",
      "   TrialNumber Parameters  Accuracy\n",
      "0           13      40-10  0.718615\n",
      "\n",
      "8/8 [==============================] - 0s 3ms/step - loss: 0.5215 - accuracy: 0.7446\n",
      "   TrialNumber Parameters  Accuracy\n",
      "0           14      40-20  0.744589\n",
      "\n",
      "8/8 [==============================] - 0s 2ms/step - loss: 0.5056 - accuracy: 0.7489\n",
      "   TrialNumber Parameters  Accuracy\n",
      "0           15      40-30  0.748918\n",
      "\n",
      "8/8 [==============================] - 0s 2ms/step - loss: 0.4984 - accuracy: 0.7576\n",
      "   TrialNumber Parameters  Accuracy\n",
      "0           16      40-40  0.757576\n",
      "\n",
      "Best accuracy found: 0.77922, with corresponding batch size and number of epochs: 5-20.\n"
     ]
    }
   ],
   "source": [
    "# Calling the function\n",
    "ResultsData = FindBestParams(X_train, y_train, X_test, y_test)\n",
    "\n",
    "# Best accuracy\n",
    "max_accuracy = ResultsData.loc[ResultsData['Accuracy'].idxmax()]\n",
    "print(f\"\\nBest accuracy found: {max_accuracy[-1]:.5f}, with corresponding batch size and number of epochs: {max_accuracy[1]}.\")"
   ]
  },
  {
   "cell_type": "markdown",
   "id": "57d8a813-7a70-4886-8f7a-1c64a2d6e4fb",
   "metadata": {},
   "source": [
    "___\n",
    "## Logistic regression model\n",
    "\n",
    "For comparison, logistic regression model is used.\n",
    "\n",
    "The same dataset and subsets are used (`X_train`, `X_test`, `y_train`, `y_test`)."
   ]
  },
  {
   "cell_type": "code",
   "execution_count": 13,
   "id": "6966e91b-c59c-4dd8-b47f-84b4d529c200",
   "metadata": {},
   "outputs": [
    {
     "name": "stdout",
     "output_type": "stream",
     "text": [
      "Train inputs (537, 8), train outputs (537, 1)\n",
      "Test inputs (231, 8), test outputs (231, 1)\n"
     ]
    }
   ],
   "source": [
    "# Quick sanity check with the shapes of Training and testing datasets\n",
    "print(f\"Train inputs {X_train.shape}, train outputs {y_train.shape}\")\n",
    "print(f\"Test inputs {X_test.shape}, test outputs {y_test.shape}\")"
   ]
  },
  {
   "cell_type": "code",
   "execution_count": 14,
   "id": "0741eb04-db14-4b68-91bd-bc1b4a940496",
   "metadata": {},
   "outputs": [
    {
     "data": {
      "text/html": [
       "<style>#sk-container-id-1 {color: black;}#sk-container-id-1 pre{padding: 0;}#sk-container-id-1 div.sk-toggleable {background-color: white;}#sk-container-id-1 label.sk-toggleable__label {cursor: pointer;display: block;width: 100%;margin-bottom: 0;padding: 0.3em;box-sizing: border-box;text-align: center;}#sk-container-id-1 label.sk-toggleable__label-arrow:before {content: \"▸\";float: left;margin-right: 0.25em;color: #696969;}#sk-container-id-1 label.sk-toggleable__label-arrow:hover:before {color: black;}#sk-container-id-1 div.sk-estimator:hover label.sk-toggleable__label-arrow:before {color: black;}#sk-container-id-1 div.sk-toggleable__content {max-height: 0;max-width: 0;overflow: hidden;text-align: left;background-color: #f0f8ff;}#sk-container-id-1 div.sk-toggleable__content pre {margin: 0.2em;color: black;border-radius: 0.25em;background-color: #f0f8ff;}#sk-container-id-1 input.sk-toggleable__control:checked~div.sk-toggleable__content {max-height: 200px;max-width: 100%;overflow: auto;}#sk-container-id-1 input.sk-toggleable__control:checked~label.sk-toggleable__label-arrow:before {content: \"▾\";}#sk-container-id-1 div.sk-estimator input.sk-toggleable__control:checked~label.sk-toggleable__label {background-color: #d4ebff;}#sk-container-id-1 div.sk-label input.sk-toggleable__control:checked~label.sk-toggleable__label {background-color: #d4ebff;}#sk-container-id-1 input.sk-hidden--visually {border: 0;clip: rect(1px 1px 1px 1px);clip: rect(1px, 1px, 1px, 1px);height: 1px;margin: -1px;overflow: hidden;padding: 0;position: absolute;width: 1px;}#sk-container-id-1 div.sk-estimator {font-family: monospace;background-color: #f0f8ff;border: 1px dotted black;border-radius: 0.25em;box-sizing: border-box;margin-bottom: 0.5em;}#sk-container-id-1 div.sk-estimator:hover {background-color: #d4ebff;}#sk-container-id-1 div.sk-parallel-item::after {content: \"\";width: 100%;border-bottom: 1px solid gray;flex-grow: 1;}#sk-container-id-1 div.sk-label:hover label.sk-toggleable__label {background-color: #d4ebff;}#sk-container-id-1 div.sk-serial::before {content: \"\";position: absolute;border-left: 1px solid gray;box-sizing: border-box;top: 0;bottom: 0;left: 50%;z-index: 0;}#sk-container-id-1 div.sk-serial {display: flex;flex-direction: column;align-items: center;background-color: white;padding-right: 0.2em;padding-left: 0.2em;position: relative;}#sk-container-id-1 div.sk-item {position: relative;z-index: 1;}#sk-container-id-1 div.sk-parallel {display: flex;align-items: stretch;justify-content: center;background-color: white;position: relative;}#sk-container-id-1 div.sk-item::before, #sk-container-id-1 div.sk-parallel-item::before {content: \"\";position: absolute;border-left: 1px solid gray;box-sizing: border-box;top: 0;bottom: 0;left: 50%;z-index: -1;}#sk-container-id-1 div.sk-parallel-item {display: flex;flex-direction: column;z-index: 1;position: relative;background-color: white;}#sk-container-id-1 div.sk-parallel-item:first-child::after {align-self: flex-end;width: 50%;}#sk-container-id-1 div.sk-parallel-item:last-child::after {align-self: flex-start;width: 50%;}#sk-container-id-1 div.sk-parallel-item:only-child::after {width: 0;}#sk-container-id-1 div.sk-dashed-wrapped {border: 1px dashed gray;margin: 0 0.4em 0.5em 0.4em;box-sizing: border-box;padding-bottom: 0.4em;background-color: white;}#sk-container-id-1 div.sk-label label {font-family: monospace;font-weight: bold;display: inline-block;line-height: 1.2em;}#sk-container-id-1 div.sk-label-container {text-align: center;}#sk-container-id-1 div.sk-container {/* jupyter's `normalize.less` sets `[hidden] { display: none; }` but bootstrap.min.css set `[hidden] { display: none !important; }` so we also need the `!important` here to be able to override the default hidden behavior on the sphinx rendered scikit-learn.org. See: https://github.com/scikit-learn/scikit-learn/issues/21755 */display: inline-block !important;position: relative;}#sk-container-id-1 div.sk-text-repr-fallback {display: none;}</style><div id=\"sk-container-id-1\" class=\"sk-top-container\"><div class=\"sk-text-repr-fallback\"><pre>LogisticRegression(random_state=2023)</pre><b>In a Jupyter environment, please rerun this cell to show the HTML representation or trust the notebook. <br />On GitHub, the HTML representation is unable to render, please try loading this page with nbviewer.org.</b></div><div class=\"sk-container\" hidden><div class=\"sk-item\"><div class=\"sk-estimator sk-toggleable\"><input class=\"sk-toggleable__control sk-hidden--visually\" id=\"sk-estimator-id-1\" type=\"checkbox\" checked><label for=\"sk-estimator-id-1\" class=\"sk-toggleable__label sk-toggleable__label-arrow\">LogisticRegression</label><div class=\"sk-toggleable__content\"><pre>LogisticRegression(random_state=2023)</pre></div></div></div></div></div>"
      ],
      "text/plain": [
       "LogisticRegression(random_state=2023)"
      ]
     },
     "execution_count": 14,
     "metadata": {},
     "output_type": "execute_result"
    }
   ],
   "source": [
    "# create an instance of a LinearRegression() model named lin_reg_model.\n",
    "log_reg_model = LogisticRegression(random_state=2023)\n",
    "\n",
    "#Train/fit lin_reg_model on the training data.\n",
    "log_reg_model.fit(X_train, y_train)"
   ]
  },
  {
   "cell_type": "code",
   "execution_count": 15,
   "id": "fa94ef9b-fc26-4c91-b2e4-dca2c1a3163d",
   "metadata": {},
   "outputs": [],
   "source": [
    "# calculate predictions\n",
    "predictions = log_reg_model.predict(X_test)"
   ]
  },
  {
   "cell_type": "code",
   "execution_count": 16,
   "metadata": {},
   "outputs": [],
   "source": [
    "from sklearn.metrics import confusion_matrix, accuracy_score\n"
   ]
  },
  {
   "cell_type": "code",
   "execution_count": 17,
   "metadata": {},
   "outputs": [
    {
     "name": "stdout",
     "output_type": "stream",
     "text": [
      "Accuracy: 0.76190\n"
     ]
    }
   ],
   "source": [
    "# accuracy of the linear regression model\n",
    "cnf_matrix = confusion_matrix(y_test, predictions)\n",
    "cnf_matrix\n",
    "log_reg_accu = accuracy_score(y_test, predictions)\n",
    "print(f\"Accuracy: {log_reg_accu:.5f}\")\n"
   ]
  },
  {
   "cell_type": "markdown",
   "id": "34c07ce5-5ef5-4e4f-8fb1-789a9b56fe44",
   "metadata": {},
   "source": [
    "## Findings\n",
    "\n",
    "Both models were compared using _accuracy_ metrics.  \n",
    "\n",
    "The following are the found accuracies of both models:"
   ]
  },
  {
   "cell_type": "code",
   "execution_count": 18,
   "id": "2e18732c-00b5-4e05-8b31-0e61c25f3563",
   "metadata": {},
   "outputs": [
    {
     "name": "stdout",
     "output_type": "stream",
     "text": [
      "ANN accuracy:\t 0.77922\n",
      "LogR accuracy:\t 0.76190\n"
     ]
    }
   ],
   "source": [
    "print(f\"ANN accuracy:\\t {max_accuracy[-1]:.5f}\")\n",
    "print(f\"LogR accuracy:\\t {log_reg_accu:.5f}\")"
   ]
  },
  {
   "cell_type": "markdown",
   "id": "05622080-dcc9-4d2c-8363-ea3a7dea4843",
   "metadata": {},
   "source": [
    "References:\n",
    "- Lecture and lab notes compiled by the lecturer\n",
    "- <https://www.freecodecamp.org/news/binary-classification-made-simple-with-tensorflow/>\n",
    "- <https://www.youtube.com/watch?v=PM6uvCLyeXM&ab_channel=BadriAdhikari>\n",
    "- <https://machinelearningmastery.com/cross-entropy-for-machine-learning/>\n",
    "- <https://www.datacamp.com/tutorial/understanding-logistic-regression-python>\n",
    "- <https://towardsdatascience.com/logistic-regression-for-binary-classification-56a2402e62e6>\n",
    "- <https://github.com/andkoc001/Machine-Learning-and-Statistics-Project>"
   ]
  },
  {
   "cell_type": "markdown",
   "id": "a129f1c9-c342-4af1-aac1-1332410efd5b",
   "metadata": {},
   "source": [
    "___\n",
    "Andrzej Kocielski, 2023"
   ]
  }
 ],
 "metadata": {
  "kernelspec": {
   "display_name": "Python 3 (ipykernel)",
   "language": "python",
   "name": "python3"
  },
  "language_info": {
   "codemirror_mode": {
    "name": "ipython",
    "version": 3
   },
   "file_extension": ".py",
   "mimetype": "text/x-python",
   "name": "python",
   "nbconvert_exporter": "python",
   "pygments_lexer": "ipython3",
   "version": "3.10.12"
  }
 },
 "nbformat": 4,
 "nbformat_minor": 5
}
