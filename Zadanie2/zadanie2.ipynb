{
 "cells": [
  {
   "cell_type": "markdown",
   "id": "e4fd7979-e95b-4525-9ffa-de59b5331116",
   "metadata": {},
   "source": [
    "# Neural networks\n",
    "Lecturer: dr Andrzej Tomski, WSB-NLU  \n",
    "Author: Andrzej Kocielski, 2023\n",
    "___"
   ]
  },
  {
   "cell_type": "markdown",
   "id": "8a3385db-4aba-4bd1-bb7b-c169d4de92f1",
   "metadata": {},
   "source": [
    "## Exercise 2\n",
    "\n",
    "Built an ANN to estimate price, using provided dataset, \"CarPricesData.pkl\".\n",
    "\n",
    "Assumptions:\n",
    "- The provided data is to be split into training and test sets.\n",
    "- Sequential model from Keras is to be used.\n"
   ]
  },
  {
   "cell_type": "markdown",
   "id": "755e9181-cb09-475c-985e-d626e417b49f",
   "metadata": {},
   "source": [
    "### Importing libraries and set up"
   ]
  },
  {
   "cell_type": "code",
   "execution_count": 1,
   "id": "7771be49-d7d1-453a-9444-6de81118aa85",
   "metadata": {},
   "outputs": [
    {
     "name": "stderr",
     "output_type": "stream",
     "text": [
      "2023-12-03 21:08:46.732538: I external/local_tsl/tsl/cuda/cudart_stub.cc:31] Could not find cuda drivers on your machine, GPU will not be used.\n",
      "2023-12-03 21:08:46.768665: E external/local_xla/xla/stream_executor/cuda/cuda_dnn.cc:9261] Unable to register cuDNN factory: Attempting to register factory for plugin cuDNN when one has already been registered\n",
      "2023-12-03 21:08:46.768697: E external/local_xla/xla/stream_executor/cuda/cuda_fft.cc:607] Unable to register cuFFT factory: Attempting to register factory for plugin cuFFT when one has already been registered\n",
      "2023-12-03 21:08:46.769689: E external/local_xla/xla/stream_executor/cuda/cuda_blas.cc:1515] Unable to register cuBLAS factory: Attempting to register factory for plugin cuBLAS when one has already been registered\n",
      "2023-12-03 21:08:46.775163: I external/local_tsl/tsl/cuda/cudart_stub.cc:31] Could not find cuda drivers on your machine, GPU will not be used.\n",
      "2023-12-03 21:08:46.775852: I tensorflow/core/platform/cpu_feature_guard.cc:182] This TensorFlow binary is optimized to use available CPU instructions in performance-critical operations.\n",
      "To enable the following instructions: AVX2 FMA, in other operations, rebuild TensorFlow with the appropriate compiler flags.\n",
      "2023-12-03 21:08:47.699352: W tensorflow/compiler/tf2tensorrt/utils/py_utils.cc:38] TF-TRT Warning: Could not find TensorRT\n"
     ]
    }
   ],
   "source": [
    "# Imports\n",
    "import pandas as pd\n",
    "import numpy as np\n",
    "import matplotlib.pyplot as plt\n",
    "import seaborn as sns\n",
    "from sklearn.preprocessing import StandardScaler # used for standaristion of data\n",
    "from sklearn.model_selection import train_test_split\n",
    "from keras.models import Sequential # model of ANN\n",
    "from keras.layers import Dense # layers of ANN"
   ]
  },
  {
   "cell_type": "code",
   "execution_count": null,
   "id": "baf6c942-4b50-4a94-821e-736fe869038c",
   "metadata": {},
   "outputs": [],
   "source": [
    "# To remove the scientific notation from numpy arrays\n",
    "np.set_printoptions(suppress=True)"
   ]
  },
  {
   "cell_type": "markdown",
   "id": "2400b801-2266-4977-a78c-6f4692a60824",
   "metadata": {},
   "source": [
    "### Load and inspect data"
   ]
  },
  {
   "cell_type": "code",
   "execution_count": 2,
   "id": "f5e202f7-283e-44bd-9831-d1cd981d20b6",
   "metadata": {},
   "outputs": [
    {
     "name": "stdout",
     "output_type": "stream",
     "text": [
      "Shape of dataframe: (1435, 8)\n",
      "\n",
      "<class 'pandas.core.frame.DataFrame'>\n",
      "Index: 1435 entries, 0 to 1435\n",
      "Data columns (total 8 columns):\n",
      " #   Column    Non-Null Count  Dtype  \n",
      "---  ------    --------------  -----  \n",
      " 0   Age       1435 non-null   float64\n",
      " 1   KM        1435 non-null   int64  \n",
      " 2   Weight    1435 non-null   float64\n",
      " 3   HP        1435 non-null   int64  \n",
      " 4   MetColor  1435 non-null   int64  \n",
      " 5   CC        1435 non-null   float64\n",
      " 6   Doors     1435 non-null   int64  \n",
      " 7   Price     1435 non-null   int64  \n",
      "dtypes: float64(3), int64(5)\n",
      "memory usage: 100.9 KB\n",
      "None \n",
      "\n",
      "    Age     KM  Weight  HP  MetColor      CC  Doors  Price\n",
      "0  23.0  46986  1165.0  90         1  2000.0      3  13500\n",
      "1  23.0  72937  1165.0  90         1  2000.0      3  13750\n",
      "               Age             KM       Weight           HP     MetColor  \\\n",
      "count  1435.000000    1435.000000  1435.000000  1435.000000  1435.000000   \n",
      "mean     56.027178   68571.782578  1071.659930   101.491986     0.674564   \n",
      "std      18.532943   37491.094553    47.688509    14.981408     0.468701   \n",
      "min       1.000000       1.000000  1000.000000    69.000000     0.000000   \n",
      "25%      44.000000   43000.000000  1040.000000    90.000000     0.000000   \n",
      "50%      61.000000   63451.000000  1070.000000   110.000000     1.000000   \n",
      "75%      70.000000   87041.500000  1085.000000   110.000000     1.000000   \n",
      "max      80.000000  243000.000000  1320.000000   192.000000     1.000000   \n",
      "\n",
      "                CC        Doors         Price  \n",
      "count  1435.000000  1435.000000   1435.000000  \n",
      "mean   1566.735192     4.032753  10720.915679  \n",
      "std     186.767122     0.952667   3608.732978  \n",
      "min    1300.000000     2.000000   4350.000000  \n",
      "25%    1400.000000     3.000000   8450.000000  \n",
      "50%    1600.000000     4.000000   9900.000000  \n",
      "75%    1600.000000     5.000000  11950.000000  \n",
      "max    2000.000000     5.000000  32500.000000  \n"
     ]
    }
   ],
   "source": [
    "# Load dataset from file\n",
    "CarPricesData = pd.read_pickle('CarPricesData.pkl')\n",
    "# Data inspection\n",
    "print(f\"Shape of dataframe: {CarPricesData.shape}\\n\")\n",
    "print(CarPricesData.info(), \"\\n\")\n",
    "print(CarPricesData.head(2))\n",
    "print(CarPricesData.describe())"
   ]
  },
  {
   "cell_type": "code",
   "execution_count": null,
   "id": "bfc1da70-2463-45da-bdc2-e28f0fbb8761",
   "metadata": {},
   "outputs": [],
   "source": [
    "# import seaborn as sns\n",
    "# sns.boxplot(CarPricesData[\"KM\"])"
   ]
  },
  {
   "cell_type": "markdown",
   "id": "042f7d66-cd0d-41c8-b967-434f3957cfd6",
   "metadata": {},
   "source": [
    "### Prepare data"
   ]
  },
  {
   "cell_type": "markdown",
   "id": "8822c05b-79bf-4b14-9705-1f31b6f8d084",
   "metadata": {},
   "source": [
    "It appears there is some inaccurate data, e.g. with possible outliers in KM column. \n",
    "\n",
    "All the records with KM = 1 will be removed (even though in some cases the Age = 1, which could be legitimate)."
   ]
  },
  {
   "cell_type": "code",
   "execution_count": 3,
   "id": "b076dccc-30e4-4ace-a50a-3a06edc43e07",
   "metadata": {},
   "outputs": [
    {
     "name": "stdout",
     "output_type": "stream",
     "text": [
      "Removed rows: 8\n"
     ]
    }
   ],
   "source": [
    "# CarPricesData[CarPricesData[\"KM\"] < 1000]\n",
    "cleaned_data = CarPricesData[CarPricesData[\"KM\"] != 1]\n",
    "print(f\"Removed rows: {CarPricesData.shape[0] - cleaned_data.shape[0]}\")"
   ]
  },
  {
   "cell_type": "markdown",
   "id": "8b7a0214-889d-43aa-9cf7-8a3e851927aa",
   "metadata": {},
   "source": [
    "As the goal of this NN is to predict Price based on the other parameters, this information must be removed from the dataset destined for training the NN."
   ]
  },
  {
   "cell_type": "code",
   "execution_count": 4,
   "id": "61a67c60-aa58-4745-a3aa-3e529c02419d",
   "metadata": {},
   "outputs": [],
   "source": [
    "# Separate Target Variable and Predictor Variables\n",
    "TargetVariable = ['Price']\n",
    "Predictors = ['Age', 'KM', 'Weight', 'HP', 'MetColor', 'CC', 'Doors']\n",
    "\n",
    "X = cleaned_data[Predictors].values\n",
    "y = cleaned_data[TargetVariable].values"
   ]
  },
  {
   "cell_type": "markdown",
   "id": "61ec926e-b9d0-4718-a4cb-9a9f964367fc",
   "metadata": {},
   "source": [
    "Sandardization of data, using `StandardScaler` from sklearn.preprocessing library"
   ]
  },
  {
   "cell_type": "code",
   "execution_count": 5,
   "id": "5fb5ffb7-da96-4f3f-8ebd-15a72143ac6b",
   "metadata": {},
   "outputs": [],
   "source": [
    "# Set StandardScaler to both datasets\n",
    "PredictorScaler = StandardScaler()\n",
    "TargetVarScaler = StandardScaler()\n",
    "\n",
    "# Storing the fit object for later reference\n",
    "PredictorScalerFit = PredictorScaler.fit(X)\n",
    "TargetVarScalerFit = TargetVarScaler.fit(y)\n",
    " \n",
    "# Generating the standardized values of X and y\n",
    "X = PredictorScalerFit.transform(X)\n",
    "y = TargetVarScalerFit.transform(y)"
   ]
  },
  {
   "cell_type": "markdown",
   "id": "f57c79c7-7dbd-4a3e-bf12-14b4cdec2441",
   "metadata": {},
   "source": [
    "Split the data into training and testing sets, using method `train_test_split` from scikit-learn"
   ]
  },
  {
   "cell_type": "code",
   "execution_count": 6,
   "id": "282edb82-c7fb-4516-a94f-1712a2c1be62",
   "metadata": {},
   "outputs": [
    {
     "name": "stdout",
     "output_type": "stream",
     "text": [
      "(998, 7)\n",
      "(998, 1)\n",
      "(429, 7)\n",
      "(429, 1)\n"
     ]
    }
   ],
   "source": [
    "# Split data into 70% training and 30% testing \n",
    "X_train, X_test, y_train, y_test = train_test_split(X, y, test_size=0.3, random_state=2023)\n",
    " \n",
    "# Quick sanity check with the shapes of Training and testing datasets\n",
    "print(X_train.shape)\n",
    "print(y_train.shape)\n",
    "print(X_test.shape)\n",
    "print(y_test.shape)"
   ]
  },
  {
   "cell_type": "markdown",
   "id": "4fa6c7c8-256f-49e5-98f8-af5358150079",
   "metadata": {},
   "source": [
    "### Build ANN\n",
    "\n",
    "Hiperparameters as per exercise notes:  \n",
    "- units=5: This means that we are creating a layer with five neurons. Each of these five neurons will receive input values, for example the \"Age\" values will be passed to all five neurons, as will all other columns.\n",
    "- input_dim=7: This means that there are seven predictors in the input that are expected by the first layer. If you see a second dense layer, we do not specify this value because the sequential model passes this information on to subsequent layers.\n",
    "- kernel_initializer='normal': When the neurons start computing, some algorithm must decide the value for each weight. This parameter specifies that we can choose different values for it, such as \"normal\" or \"glorot_uniform\".\n",
    "- activation='relu': Specifies the activation function for the computations inside each neuron. You can choose values such as \"relu\", \"tanh\", \"sigmoid\", etc."
   ]
  },
  {
   "cell_type": "code",
   "execution_count": 62,
   "id": "d933a819-8759-433d-a247-8f3dbae2aafa",
   "metadata": {},
   "outputs": [],
   "source": [
    "# create ANN model\n",
    "model = Sequential()"
   ]
  },
  {
   "cell_type": "code",
   "execution_count": 63,
   "id": "f9f7bfe0-fd3d-4b69-9707-e3deefff35c4",
   "metadata": {},
   "outputs": [],
   "source": [
    "# Defining the Input layer and FIRST hidden layer, both are same!\n",
    "model.add(Dense(units=5, input_dim=7, kernel_initializer='normal', activation='relu'))"
   ]
  },
  {
   "cell_type": "code",
   "execution_count": 64,
   "id": "8c344ad3-838d-4dd4-a385-41e96998d24f",
   "metadata": {},
   "outputs": [],
   "source": [
    "# Defining the Second layer of the model\n",
    "# after the first layer we don't have to specify input_dim as keras configure it automatically\n",
    "model.add(Dense(units=5, kernel_initializer='normal', activation='relu'))"
   ]
  },
  {
   "cell_type": "code",
   "execution_count": 65,
   "id": "82ac0cae-16ed-4c57-ba92-9c3229a0ebae",
   "metadata": {},
   "outputs": [],
   "source": [
    "# The output neuron is a single fully connected node \n",
    "# Since we will be predicting a single number\n",
    "model.add(Dense(1))"
   ]
  },
  {
   "cell_type": "code",
   "execution_count": 66,
   "id": "c3a84405-6d7b-477d-8ca0-7ddb78ddc5ac",
   "metadata": {},
   "outputs": [
    {
     "name": "stdout",
     "output_type": "stream",
     "text": [
      "Model: \"sequential_3\"\n",
      "_________________________________________________________________\n",
      " Layer (type)                Output Shape              Param #   \n",
      "=================================================================\n",
      " dense_9 (Dense)             (None, 5)                 40        \n",
      "                                                                 \n",
      " dense_10 (Dense)            (None, 5)                 30        \n",
      "                                                                 \n",
      " dense_11 (Dense)            (None, 1)                 6         \n",
      "                                                                 \n",
      "=================================================================\n",
      "Total params: 76 (304.00 Byte)\n",
      "Trainable params: 76 (304.00 Byte)\n",
      "Non-trainable params: 0 (0.00 Byte)\n",
      "_________________________________________________________________\n"
     ]
    }
   ],
   "source": [
    "model.summary()"
   ]
  },
  {
   "cell_type": "code",
   "execution_count": 67,
   "id": "c441ba6e-93c0-4987-b98a-4b92c44b19d9",
   "metadata": {},
   "outputs": [],
   "source": [
    "# Compiling the model\n",
    "model.compile(optimizer='adam', loss='mse', metrics=['accuracy'])"
   ]
  },
  {
   "cell_type": "markdown",
   "id": "e291e9f6-6d6a-4d24-b014-6875b8501b28",
   "metadata": {},
   "source": [
    "### Training the model\n",
    "\n",
    "Further parameters for tuning the model:\n",
    "- batch_size=20: Specifies how many rows will be fed to the network at one time, after which SSE calculation will begin and the neural network will begin to adjust its weights based on errors.\n",
    "- epochs=50: The same weight adjustment action is continued 50 times according to this parameter. To put it simply, the ANN looks at the full training data 50 times and adjusts its weights."
   ]
  },
  {
   "cell_type": "code",
   "execution_count": 68,
   "id": "4d0db2e1-c66c-428a-87b6-0b4aee2a5a01",
   "metadata": {},
   "outputs": [
    {
     "name": "stdout",
     "output_type": "stream",
     "text": [
      "Epoch 1/20\n",
      "20/20 [==============================] - 1s 19ms/step - loss: 1.0332 - accuracy: 0.0000e+00 - val_loss: 0.8993 - val_accuracy: 0.0000e+00\n",
      "Epoch 2/20\n",
      "20/20 [==============================] - 0s 6ms/step - loss: 1.0101 - accuracy: 0.0000e+00 - val_loss: 0.8716 - val_accuracy: 0.0000e+00\n",
      "Epoch 3/20\n",
      "20/20 [==============================] - 0s 5ms/step - loss: 0.9709 - accuracy: 0.0000e+00 - val_loss: 0.8299 - val_accuracy: 0.0000e+00\n",
      "Epoch 4/20\n",
      "20/20 [==============================] - 0s 6ms/step - loss: 0.9155 - accuracy: 0.0000e+00 - val_loss: 0.7643 - val_accuracy: 0.0000e+00\n",
      "Epoch 5/20\n",
      "20/20 [==============================] - 0s 11ms/step - loss: 0.8311 - accuracy: 0.0000e+00 - val_loss: 0.6840 - val_accuracy: 0.0000e+00\n",
      "Epoch 6/20\n",
      "20/20 [==============================] - 0s 6ms/step - loss: 0.7314 - accuracy: 0.0000e+00 - val_loss: 0.5859 - val_accuracy: 0.0000e+00\n",
      "Epoch 7/20\n",
      "20/20 [==============================] - 0s 8ms/step - loss: 0.6183 - accuracy: 0.0000e+00 - val_loss: 0.4810 - val_accuracy: 0.0000e+00\n",
      "Epoch 8/20\n",
      "20/20 [==============================] - 0s 9ms/step - loss: 0.5004 - accuracy: 0.0000e+00 - val_loss: 0.3843 - val_accuracy: 0.0000e+00\n",
      "Epoch 9/20\n",
      "20/20 [==============================] - 0s 6ms/step - loss: 0.3939 - accuracy: 0.0000e+00 - val_loss: 0.3029 - val_accuracy: 0.0000e+00\n",
      "Epoch 10/20\n",
      "20/20 [==============================] - 0s 5ms/step - loss: 0.3103 - accuracy: 0.0000e+00 - val_loss: 0.2377 - val_accuracy: 0.0000e+00\n",
      "Epoch 11/20\n",
      "20/20 [==============================] - 0s 5ms/step - loss: 0.2416 - accuracy: 0.0000e+00 - val_loss: 0.1980 - val_accuracy: 0.0000e+00\n",
      "Epoch 12/20\n",
      "20/20 [==============================] - 0s 5ms/step - loss: 0.1984 - accuracy: 0.0000e+00 - val_loss: 0.1717 - val_accuracy: 0.0000e+00\n",
      "Epoch 13/20\n",
      "20/20 [==============================] - 0s 5ms/step - loss: 0.1696 - accuracy: 0.0000e+00 - val_loss: 0.1560 - val_accuracy: 0.0000e+00\n",
      "Epoch 14/20\n",
      "20/20 [==============================] - 0s 5ms/step - loss: 0.1514 - accuracy: 0.0000e+00 - val_loss: 0.1480 - val_accuracy: 0.0000e+00\n",
      "Epoch 15/20\n",
      "20/20 [==============================] - 0s 5ms/step - loss: 0.1388 - accuracy: 0.0000e+00 - val_loss: 0.1431 - val_accuracy: 0.0000e+00\n",
      "Epoch 16/20\n",
      "20/20 [==============================] - 0s 8ms/step - loss: 0.1322 - accuracy: 0.0000e+00 - val_loss: 0.1394 - val_accuracy: 0.0000e+00\n",
      "Epoch 17/20\n",
      "20/20 [==============================] - 0s 9ms/step - loss: 0.1270 - accuracy: 0.0000e+00 - val_loss: 0.1367 - val_accuracy: 0.0000e+00\n",
      "Epoch 18/20\n",
      "20/20 [==============================] - 0s 6ms/step - loss: 0.1234 - accuracy: 0.0000e+00 - val_loss: 0.1338 - val_accuracy: 0.0000e+00\n",
      "Epoch 19/20\n",
      "20/20 [==============================] - 0s 5ms/step - loss: 0.1207 - accuracy: 0.0000e+00 - val_loss: 0.1318 - val_accuracy: 0.0000e+00\n",
      "Epoch 20/20\n",
      "20/20 [==============================] - 0s 6ms/step - loss: 0.1183 - accuracy: 0.0000e+00 - val_loss: 0.1300 - val_accuracy: 0.0000e+00\n"
     ]
    }
   ],
   "source": [
    "# Fitting the ANN to the Training set\n",
    "history = model.fit(\n",
    "    X_train, y_train,\n",
    "    epochs=20,\n",
    "    batch_size=50,\n",
    "    validation_data=(X_test, y_test),\n",
    "    verbose=1,\n",
    ")"
   ]
  },
  {
   "cell_type": "markdown",
   "id": "3542b5f5-51f6-4e62-8e07-c92766a7ee1f",
   "metadata": {},
   "source": [
    "Visualising the results\n",
    "\n",
    "In practice, when training a model using frameworks like Keras or similar machine learning libraries, there are typically two datasets: the training set (_train_) and the validation set (_val_ or _validation_). Metrics values, such as accuracy (_accuracy_) or loss function (_loss_), are monitored on both the training and validation sets.  \n",
    "\n",
    "In the code, `val_` is a prefix used to refer to the metric values on the validation (_test_) set during the training of the model. In this context, if `key1` is, for example, 'accuracy', then `'val_' + key1` denotes the accuracy on the validation set.  \n",
    "\n",
    "Therefore, when using `history.history['val_' + key1]`, refers to the accuracy values on the validation set, and `history.history[key1]` refers to the accuracy values on the training set. "
   ]
  },
  {
   "cell_type": "code",
   "execution_count": 69,
   "id": "6c1abbfb-c73e-4fb4-a419-260401dacee3",
   "metadata": {},
   "outputs": [],
   "source": [
    "def draw_curves(history, key1='accuracy', ylim1=(0.0, 1.0), key2='loss', ylim2=(0.0, 0.5)):\n",
    "    \n",
    "    plt.figure(figsize=(12,4))\n",
    "    \n",
    "    # plt.subplot(1, 2, 1)\n",
    "    # plt.plot(history.history[key1], \"r--\")\n",
    "    # plt.plot(history.history['val_' + key1], \"g--\")\n",
    "    # plt.ylabel(key1)\n",
    "    # plt.xlabel('Epoch')\n",
    "    # plt.ylim(ylim1)\n",
    "    # plt.legend(['train', 'test'], loc='best')\n",
    "    \n",
    "    # plt.subplot(1, 2, 2)\n",
    "    plt.plot(history.history[key2], \"r--\")\n",
    "    plt.plot(history.history['val_' + key2], \"g--\")\n",
    "    plt.ylabel(key2)\n",
    "    plt.xlabel('Epoch')\n",
    "    plt.ylim(ylim2)    \n",
    "    plt.legend(['train', 'test'], loc='best')\n",
    "    \n",
    "    plt.show()"
   ]
  },
  {
   "cell_type": "code",
   "execution_count": 70,
   "id": "aa867344-09de-405d-a91f-88e49979ed5f",
   "metadata": {},
   "outputs": [
    {
     "data": {
      "image/png": "[encoded data removed]",
      "text/plain": [
       "<Figure size 864x288 with 1 Axes>"
      ]
     },
     "metadata": {
      "needs_background": "light"
     },
     "output_type": "display_data"
    }
   ],
   "source": [
    "draw_curves(history, key1='accuracy', ylim1=(-0.1, 1.2), key2='loss', ylim2=(0.0, 1.2))"
   ]
  },
  {
   "cell_type": "code",
   "execution_count": null,
   "id": "8de8de8e-f382-416c-b7d9-d79aba09f142",
   "metadata": {},
   "outputs": [],
   "source": []
  },
  {
   "cell_type": "code",
   "execution_count": null,
   "id": "97443ad0-00ed-4f8c-9425-d6e52e9edf86",
   "metadata": {},
   "outputs": [],
   "source": []
  },
  {
   "cell_type": "code",
   "execution_count": null,
   "id": "264ce3a0-aa8e-421b-b41d-b1f3a7815bb9",
   "metadata": {},
   "outputs": [],
   "source": []
  },
  {
   "cell_type": "code",
   "execution_count": null,
   "id": "a32a0245-57f9-4eea-9fad-8aca7a58fb99",
   "metadata": {},
   "outputs": [],
   "source": []
  },
  {
   "cell_type": "code",
   "execution_count": null,
   "id": "6effbe82-4635-4707-857b-1b73d59a46e3",
   "metadata": {},
   "outputs": [],
   "source": []
  },
  {
   "cell_type": "code",
   "execution_count": null,
   "id": "7a57005e-cfee-4142-a605-310cd75a4d55",
   "metadata": {},
   "outputs": [],
   "source": [
    "\n",
    "# Defining a function to find the best parameters for ANN\n",
    "def FunctionFindBestParams(X_train, y_train, X_test, y_test):\n",
    "    \n",
    "    # Defining the list of hyper parameters to try\n",
    "    batch_size_list=[5, 10, 15, 20]\n",
    "    epoch_list  =   [5, 10, 50, 100]\n",
    "    \n",
    "    import pandas as pd\n",
    "    SearchResultsData=pd.DataFrame(columns=['TrialNumber', 'Parameters', 'Accuracy'])\n",
    "    \n",
    "    # initializing the trials\n",
    "    TrialNumber=0\n",
    "    for batch_size_trial in batch_size_list:\n",
    "        for epochs_trial in epoch_list:\n",
    "            TrialNumber+=1\n",
    "            # create ANN model\n",
    "            model = Sequential()\n",
    "            # Defining the first layer of the model\n",
    "\n",
    "            # Defining the Second layer of the model\n",
    "\n",
    "            # The output neuron is a single fully connected node \n",
    "            # Since we will be predicting a single number\n",
    "\n",
    "\n",
    "            # Compiling the model\n",
    "            \n",
    "            # Fitting the ANN to the Training set\n",
    "\n",
    "            MAPE = np.mean(100 * (np.abs(y_test-model.predict(X_test))/y_test))\n",
    "            # printing the results of the current iteration\n",
    "            \n",
    "            SearchResultsData = SearchResultsData.append(pd.DataFrame(\n",
    "                data=[[TrialNumber, str(batch_size_trial)+'-'+str(epochs_trial), 100-MAPE]],\n",
    "                             columns=['TrialNumber', 'Parameters', 'Accuracy'] ))\n",
    "    \n",
    "    return(SearchResultsData)\n",
    "\n",
    "######################################################\n",
    "# Calling the function\n",
    "ResultsData = FunctionFindBestParams(X_train, y_train, X_test, y_test)\n",
    "\n",
    "# Function to generate Deep ANN model \n",
    "def make_regression_ann(Optimizer_trial):\n",
    "    from keras.models import Sequential\n",
    "    from keras.layers import Dense\n",
    "    \n",
    "    model = Sequential()\n",
    "\n",
    "    return model\n",
    "\n",
    "# Fitting the ANN to the Training set\n",
    "model.fit(X_train, y_train ,batch_size = 15, epochs = 5, verbose=0)\n",
    "\n",
    "# Generating Predictions on testing data\n",
    "Predictions=model.predict(X_test)\n",
    "\n",
    "# Scaling the predicted Price data back to original price scale\n",
    "Predictions=TargetVarScalerFit.inverse_transform(Predictions)\n",
    "\n",
    "# Scaling the y_test Price data back to original price scale\n",
    "y_test_orig=TargetVarScalerFit.inverse_transform(y_test)\n",
    "\n",
    "print(\"########## Total Time Taken: \", round((EndTime-StartTime)/60), 'Minutes')\n",
    "\n",
    "print('### Printing Best parameters ###')\n",
    "grid_search.best_params_\n",
    "# Scaling the test data back to original scale\n",
    "Test_Data=PredictorScalerFit.inverse_transform(X_test)\n",
    "\n",
    "TestingData=pd.DataFrame(data=Test_Data, columns=Predictors)\n",
    "TestingData['Price']=y_test_orig\n",
    "TestingData['PredictedPrice']=Predictions\n",
    "TestingData.head()\n",
    "\n",
    "\n",
    "# Computing the absolute percent error\n",
    "APE=100*(abs(TestingData['Price']-TestingData['PredictedPrice'])/TestingData['Price'])\n",
    "TestingData['APE']=APE\n",
    "\n",
    "print('The Accuracy of ANN model is:', 100-np.mean(APE))\n",
    "TestingData.head()\n",
    "###########################################\n",
    "from sklearn.model_selection import GridSearchCV\n",
    "from keras.wrappers.scikit_learn import KerasRegressor\n",
    "\n",
    "# Listing all the parameters to try\n",
    "Parameter_Trials={'batch_size':[10,20,30],\n",
    "                    'epochs':[10,20],\n",
    "                    'Optimizer_trial':['adam', 'rmsprop']\n",
    "                }\n",
    "\n",
    "# Creating the regression ANN model\n",
    "RegModel=KerasRegressor(make_regression_ann, verbose=0)\n",
    "\n",
    "###########################################\n",
    "from sklearn.metrics import make_scorer\n",
    "\n",
    "# Defining a custom function to calculate accuracy\n",
    "def Accuracy_Score(orig,pred):\n",
    "    MAPE = np.mean(100 * (np.abs(orig-pred)/orig))\n",
    "    print('#'*70,'Accuracy:', 100-MAPE)\n",
    "    return(100-MAPE)\n",
    "custom_Scoring=make_scorer(Accuracy_Score, greater_is_better=True)\n",
    "\n",
    "\n",
    "\"\"\"\n",
    "Porównać wyniki z regresją liniową! (w zad.5 porównać wyniki z regresją logarytmiczną)\n",
    "\"\"\"\n"
   ]
  },
  {
   "cell_type": "markdown",
   "id": "0e663dde-bdb4-4c6f-a96c-5def92e016fc",
   "metadata": {},
   "source": [
    "Refernces:\n",
    "- <https://www.analyticsvidhya.com/blog/2021/07/car-price-prediction-machine-learning-vs-deep-learning/>\n",
    "- <https://www.kaggle.com/code/karan842/car-price-prediction-neural-network>\n",
    "- <https://thecleverprogrammer.com/2020/09/21/predict-car-prices-with-machine-learning/>"
   ]
  },
  {
   "cell_type": "code",
   "execution_count": null,
   "id": "255939b7-5d54-4696-8d5d-fd23b3ffc17c",
   "metadata": {},
   "outputs": [],
   "source": []
  }
 ],
 "metadata": {
  "kernelspec": {
   "display_name": "Python 3 (ipykernel)",
   "language": "python",
   "name": "python3"
  },
  "language_info": {
   "codemirror_mode": {
    "name": "ipython",
    "version": 3
   },
   "file_extension": ".py",
   "mimetype": "text/x-python",
   "name": "python",
   "nbconvert_exporter": "python",
   "pygments_lexer": "ipython3",
   "version": "3.10.12"
  }
 },
 "nbformat": 4,
 "nbformat_minor": 5
}
