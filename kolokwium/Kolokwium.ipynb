{
 "cells": [
  {
   "cell_type": "markdown",
   "id": "f282f0a4-4ba5-4aa2-a918-b29df9d3586d",
   "metadata": {},
   "source": [
    "# Sieci Neuronowe - kolokwium zaliczeniowe\n",
    "### WSB-NLU, 2023-2024\n",
    "\n",
    "Andrzej Kocielski"
   ]
  },
  {
   "cell_type": "markdown",
   "id": "1296c72f-d7e7-41f7-8799-ea903eaa851a",
   "metadata": {},
   "source": [
    "## Do zrobienia\n",
    "Rozwiązanie zawierać ma elementy:\n",
    "- wczytanie danych i krótki opis (5 pkt)\n",
    "- przygotowanie danych do uczenia (5 pkt)\n",
    "- trening sieci z komentarzem (5 pkt)\n",
    "- tuning parametrów i ocena rozwiązania z komentarzem (5 pkt)\n",
    "- porównanie z innym modelem ML (5 pkt), drugim innym modelem (+3pkt*)\n",
    "\n",
    "Uwaga. Każdą fazę należy wydzielić i pokazać nie tylko kod, ale i screeny z testami działania.\n",
    "\n",
    "Fragmenty kodu wykorzystane wcześniej do rozwiązania zadań na laboratoriach."
   ]
  },
  {
   "cell_type": "markdown",
   "id": "3e2823f7-91a5-4cab-b9f4-cd56b1bd5d65",
   "metadata": {},
   "source": [
    "___\n",
    "### Zaimportowanie bibliotek"
   ]
  },
  {
   "cell_type": "code",
   "execution_count": 1,
   "id": "1d8d1be9-4905-4a09-85ce-9ef46fcdde9a",
   "metadata": {},
   "outputs": [],
   "source": [
    "# Imports\n",
    "\n",
    "import os\n",
    "os.environ['TF_CPP_MIN_LOG_LEVEL'] = '3'\n",
    "\n",
    "# ignore warnings\n",
    "import warnings \n",
    "warnings.filterwarnings(\"ignore\")\n",
    "warnings.filterwarnings(\"ignore\", category=DeprecationWarning)\n",
    "warnings.filterwarnings(\"ignore\", category=FutureWarning)\n",
    "\n",
    "import pickle\n",
    "\n",
    "import numpy as np\n",
    "import pandas as pd\n",
    "\n",
    "from sklearn.preprocessing import StandardScaler \n",
    "from sklearn.model_selection import train_test_split\n",
    "from sklearn.linear_model import LinearRegression \n",
    "from sklearn.metrics import mean_absolute_percentage_error, mean_squared_error, r2_score\n",
    "\n",
    "from keras.models import Sequential # model of ANN\n",
    "from keras.layers import Dense # layers of ANN\n",
    "\n",
    "import matplotlib.pyplot as plt\n",
    "import seaborn as sns\n",
    "sns.set()"
   ]
  },
  {
   "cell_type": "markdown",
   "id": "be1fc00f-c468-4bce-8078-9854c24c073c",
   "metadata": {},
   "source": [
    "___\n",
    "## Zadanie 1\n",
    "\n",
    "Zbiór danych to CarPrices. \n",
    "Problem polega na predykcji ceny za pomocą sieci neuronowej zgodnie z wytycznymi powyżej."
   ]
  },
  {
   "cell_type": "markdown",
   "id": "1bc25ebd-ffb1-482d-9fc6-d2c034a448d9",
   "metadata": {},
   "source": [
    "### Załadowanie danych\n",
    "\n",
    "Dane w postaci pliku `CarPricesData.pkl` znajdującym się w tym samym katalogu, co ten notatnik."
   ]
  },
  {
   "cell_type": "code",
   "execution_count": 3,
   "id": "f11a4451-7687-4e90-9cf2-554d59baa489",
   "metadata": {},
   "outputs": [
    {
     "name": "stdout",
     "output_type": "stream",
     "text": [
      "Shape of dataframe: (1435, 8)\n",
      "\n",
      "<class 'pandas.core.frame.DataFrame'>\n",
      "Index: 1435 entries, 0 to 1435\n",
      "Data columns (total 8 columns):\n",
      " #   Column    Non-Null Count  Dtype  \n",
      "---  ------    --------------  -----  \n",
      " 0   Age       1435 non-null   float64\n",
      " 1   KM        1435 non-null   int64  \n",
      " 2   Weight    1435 non-null   float64\n",
      " 3   HP        1435 non-null   int64  \n",
      " 4   MetColor  1435 non-null   int64  \n",
      " 5   CC        1435 non-null   float64\n",
      " 6   Doors     1435 non-null   int64  \n",
      " 7   Price     1435 non-null   int64  \n",
      "dtypes: float64(3), int64(5)\n",
      "memory usage: 100.9 KB\n",
      "None \n",
      "\n",
      "               Age             KM       Weight           HP     MetColor  \\\n",
      "count  1435.000000    1435.000000  1435.000000  1435.000000  1435.000000   \n",
      "mean     56.027178   68571.782578  1071.659930   101.491986     0.674564   \n",
      "std      18.532943   37491.094553    47.688509    14.981408     0.468701   \n",
      "min       1.000000       1.000000  1000.000000    69.000000     0.000000   \n",
      "25%      44.000000   43000.000000  1040.000000    90.000000     0.000000   \n",
      "50%      61.000000   63451.000000  1070.000000   110.000000     1.000000   \n",
      "75%      70.000000   87041.500000  1085.000000   110.000000     1.000000   \n",
      "max      80.000000  243000.000000  1320.000000   192.000000     1.000000   \n",
      "\n",
      "                CC        Doors         Price  \n",
      "count  1435.000000  1435.000000   1435.000000  \n",
      "mean   1566.735192     4.032753  10720.915679  \n",
      "std     186.767122     0.952667   3608.732978  \n",
      "min    1300.000000     2.000000   4350.000000  \n",
      "25%    1400.000000     3.000000   8450.000000  \n",
      "50%    1600.000000     4.000000   9900.000000  \n",
      "75%    1600.000000     5.000000  11950.000000  \n",
      "max    2000.000000     5.000000  32500.000000  \n"
     ]
    }
   ],
   "source": [
    "# Load dataset from file\n",
    "CarPricesData = pd.read_pickle('CarPricesData.pkl')\n",
    "# Data inspection\n",
    "print(f\"Shape of dataframe: {CarPricesData.shape}\\n\")\n",
    "print(CarPricesData.info(), \"\\n\")\n",
    "print(CarPricesData.describe())"
   ]
  },
  {
   "cell_type": "markdown",
   "id": "91506821-5429-4cd1-bbc6-855630308094",
   "metadata": {},
   "source": [
    "### Data cleaning\n",
    "It appears there is some inaccurate data, e.g. with possible outliers in KM column.\n",
    "\n",
    "All the records with KM = 1 will be removed (even though in some cases the Age = 1, which could be legitimate)."
   ]
  },
  {
   "cell_type": "code",
   "execution_count": 4,
   "id": "b90862a7-f459-415b-a741-de50af435e56",
   "metadata": {},
   "outputs": [
    {
     "data": {
      "text/plain": [
       "<AxesSubplot:ylabel='KM'>"
      ]
     },
     "execution_count": 4,
     "metadata": {},
     "output_type": "execute_result"
    },
    {
     "data": {
      "image/png": "[encoded data removed]",
      "text/plain": [
       "<Figure size 432x288 with 1 Axes>"
      ]
     },
     "metadata": {},
     "output_type": "display_data"
    }
   ],
   "source": [
    "# Dubious data visualisation\n",
    "sns.boxplot(CarPricesData[\"KM\"])"
   ]
  },
  {
   "cell_type": "code",
   "execution_count": 5,
   "id": "5f9a0e08-d226-4c59-9e6d-40764cb1a009",
   "metadata": {},
   "outputs": [
    {
     "name": "stdout",
     "output_type": "stream",
     "text": [
      "Removed rows: 8\n"
     ]
    }
   ],
   "source": [
    "# CarPricesData[CarPricesData[\"KM\"] < 1000]\n",
    "cleaned_data = CarPricesData[CarPricesData[\"KM\"] != 1]\n",
    "print(f\"Removed rows: {CarPricesData.shape[0] - cleaned_data.shape[0]}\")"
   ]
  },
  {
   "cell_type": "markdown",
   "id": "d06d50be-0c22-43f4-beab-4274f6749e2b",
   "metadata": {},
   "source": [
    "___\n",
    "## Preparing the data\n",
    "\n",
    "As the goal of this NN is to predict Price based on the other parameters, this information must be removed from the dataset destined for training the NN.\n",
    "\n",
    "#### Separate outcome from predictors\n",
    "Since the dataset already includes the outcome, that information should be separated from the other predictors for the training and validation of the NN."
   ]
  },
  {
   "cell_type": "code",
   "execution_count": 6,
   "id": "5e20e00c-1009-43bb-96db-e32cea22041f",
   "metadata": {},
   "outputs": [],
   "source": [
    "# Separate Target Variable and Predictor Variables\n",
    "TargetVariable = ['Price']\n",
    "Predictors = ['Age', 'KM', 'Weight', 'HP', 'MetColor', 'CC', 'Doors']\n",
    "\n",
    "X = cleaned_data[Predictors].values\n",
    "y = cleaned_data[TargetVariable].values"
   ]
  },
  {
   "cell_type": "markdown",
   "id": "4be33434-7ea2-4892-8683-8783e141ff92",
   "metadata": {},
   "source": [
    "#### Standardisation and fitting the values\n",
    "\n",
    "Sandardization of data, using `StandardScaler` from sklearn.preprocessing library"
   ]
  },
  {
   "cell_type": "code",
   "execution_count": 7,
   "id": "3cfe52fe-596e-48b6-bbef-3ee236371040",
   "metadata": {},
   "outputs": [],
   "source": [
    "# Set StandardScaler to both datasets\n",
    "PredictorScaler = StandardScaler()\n",
    "TargetVarScaler = StandardScaler()\n",
    "\n",
    "# Storing the fit object for later reference\n",
    "PredictorScalerFit = PredictorScaler.fit(X)\n",
    "TargetVarScalerFit = TargetVarScaler.fit(y)\n",
    " \n",
    "# Generating the standardized values of X and y\n",
    "X = PredictorScalerFit.transform(X)\n",
    "y = TargetVarScalerFit.transform(y)"
   ]
  },
  {
   "cell_type": "markdown",
   "id": "a6ca22b0-d624-482d-92fe-86e047452ffb",
   "metadata": {},
   "source": [
    "Split the data into training and testing sets, using method `train_test_split` from scikit-learn"
   ]
  },
  {
   "cell_type": "code",
   "execution_count": 8,
   "id": "f1029bfa-f31a-4206-a9e5-a013c93b0e9a",
   "metadata": {},
   "outputs": [
    {
     "name": "stdout",
     "output_type": "stream",
     "text": [
      "Train inputs (998, 7), train outputs (998, 1)\n",
      "Test inputs (429, 7), test outputs (429, 1)\n"
     ]
    }
   ],
   "source": [
    "# Split data into 70% training and 30% testing \n",
    "X_train, X_test, y_train, y_test = train_test_split(X, y, test_size=0.3, random_state=2023)\n",
    " \n",
    "# Quick sanity check with the shapes of Training and testing datasets\n",
    "print(f\"Train inputs {X_train.shape}, train outputs {y_train.shape}\")\n",
    "print(f\"Test inputs {X_test.shape}, test outputs {y_test.shape}\")"
   ]
  },
  {
   "cell_type": "markdown",
   "id": "1049e2c4-a4ff-4a4b-89dc-396cb2ef968c",
   "metadata": {},
   "source": [
    "## Build ANN\n",
    "\n",
    "#### Neural Net model\n",
    "\n",
    "For this exercise, `Sequential` model will be used, with consecutive layers of neurons. The net will be composed of the following layers:\n",
    "1. Input layer\n",
    "2. Hidden layers \n",
    "3. Output layer\n",
    "\n",
    "The NN will be trained on the `training` subset, and validated on the `test` subset. \n",
    "\n",
    "The NN is charactrised with the following parameters:\n",
    "- _activation function_ - specifies the activation function for the computations inside each neuron. \n",
    "- _loss function_ - specifies loss function that checks the prediction against the true value.\n",
    "- _optimiser_ - used for minimizing the error, e.g. adaptive moment estimation (ADAM) \n",
    "\n",
    "#### Hyperparameters  \n",
    "\n",
    "Hiperparameters as per exercise notes:  \n",
    "- _units_ - this means that we are creating a layer with five neurons. Each of these five neurons will receive input values, for example the \"Age\" values will be passed to all five neurons, as will all other columns.\n",
    "- _input_dim_ - this means that there are seven predictors in the input that are expected by the first layer. If you see a second dense layer, we do not specify this value because the sequential model passes this information on to subsequent layers.\n",
    "- _kernel_initializer_ - when the neurons start computing, some algorithm must decide the value for each weight.\n",
    "- _activation_ - specifies the activation function for the computations inside each neuron. \n",
    "\n",
    "\n",
    "Also, the entrie NN will be optimised, using the following hyperparameters:\n",
    "- _batch_size_\n",
    "- _epochs_ \n",
    "\n",
    "#### Evaluation\n",
    "Quality (metrics) of the NN will be scored by evaluating the _accuracy_ of the model."
   ]
  },
  {
   "cell_type": "code",
   "execution_count": 9,
   "id": "dacaf37c-781b-4b7c-8a3e-9ab4f6740a3a",
   "metadata": {},
   "outputs": [
    {
     "name": "stdout",
     "output_type": "stream",
     "text": [
      "Model: \"sequential\"\n",
      "_________________________________________________________________\n",
      " Layer (type)                Output Shape              Param #   \n",
      "=================================================================\n",
      " dense (Dense)               (None, 5)                 40        \n",
      "                                                                 \n",
      " dense_1 (Dense)             (None, 1)                 6         \n",
      "                                                                 \n",
      "=================================================================\n",
      "Total params: 46 (184.00 Byte)\n",
      "Trainable params: 46 (184.00 Byte)\n",
      "Non-trainable params: 0 (0.00 Byte)\n",
      "_________________________________________________________________\n"
     ]
    }
   ],
   "source": [
    "# create ANN model\n",
    "model = Sequential()\n",
    "\n",
    "# Building the layers of the net\n",
    "# Defining the Input layer and FIRST hidden layer, both are same!\n",
    "model.add(Dense(units=5, input_dim=X_train.shape[1], kernel_initializer='normal', activation='relu'))\n",
    "\n",
    "# Defining the Second layer of the model; after the first layer we don't have to specify input_dim as keras configure it automatically\n",
    "# model.add(Dense(units=10, kernel_initializer='normal', activation='relu'))\n",
    "\n",
    "# The output neuron is a single fully connected node, since we will be predicting a single number\n",
    "model.add(Dense(units=1, activation='relu'))\n",
    "\n",
    "# Compiling the model\n",
    "model.compile(optimizer='adam', loss='mse', metrics=['accuracy'])\n",
    "\n",
    "# model info\n",
    "model.summary()"
   ]
  },
  {
   "cell_type": "markdown",
   "id": "44c2a734-576e-4dec-bcd0-7d1257d7f6f1",
   "metadata": {},
   "source": [
    "### Training the model"
   ]
  },
  {
   "cell_type": "code",
   "execution_count": 10,
   "id": "f2f0f8ed-26dc-40e6-a096-e35e06c9a8a3",
   "metadata": {},
   "outputs": [
    {
     "name": "stdout",
     "output_type": "stream",
     "text": [
      "Epoch 1/20\n",
      "50/50 [==============================] - 1s 6ms/step - loss: 1.0069 - accuracy: 0.0000e+00 - val_loss: 0.7862 - val_accuracy: 0.0000e+00\n",
      "Epoch 2/20\n",
      "50/50 [==============================] - 0s 3ms/step - loss: 0.7754 - accuracy: 0.0000e+00 - val_loss: 0.5577 - val_accuracy: 0.0000e+00\n",
      "Epoch 3/20\n",
      "50/50 [==============================] - 0s 4ms/step - loss: 0.5700 - accuracy: 0.0000e+00 - val_loss: 0.4334 - val_accuracy: 0.0000e+00\n",
      "Epoch 4/20\n",
      "50/50 [==============================] - 0s 3ms/step - loss: 0.4533 - accuracy: 0.0000e+00 - val_loss: 0.3710 - val_accuracy: 0.0000e+00\n",
      "Epoch 5/20\n",
      "50/50 [==============================] - 0s 3ms/step - loss: 0.3933 - accuracy: 0.0000e+00 - val_loss: 0.3424 - val_accuracy: 0.0000e+00\n",
      "Epoch 6/20\n",
      "50/50 [==============================] - 0s 3ms/step - loss: 0.3645 - accuracy: 0.0000e+00 - val_loss: 0.3318 - val_accuracy: 0.0000e+00\n",
      "Epoch 7/20\n",
      "50/50 [==============================] - 0s 3ms/step - loss: 0.3510 - accuracy: 0.0000e+00 - val_loss: 0.3276 - val_accuracy: 0.0000e+00\n",
      "Epoch 8/20\n",
      "50/50 [==============================] - 0s 3ms/step - loss: 0.3435 - accuracy: 0.0000e+00 - val_loss: 0.3266 - val_accuracy: 0.0000e+00\n",
      "Epoch 9/20\n",
      "50/50 [==============================] - 0s 5ms/step - loss: 0.3400 - accuracy: 0.0000e+00 - val_loss: 0.3275 - val_accuracy: 0.0000e+00\n",
      "Epoch 10/20\n",
      "50/50 [==============================] - 0s 3ms/step - loss: 0.3378 - accuracy: 0.0000e+00 - val_loss: 0.3288 - val_accuracy: 0.0000e+00\n",
      "Epoch 11/20\n",
      "50/50 [==============================] - 0s 3ms/step - loss: 0.3358 - accuracy: 0.0000e+00 - val_loss: 0.3294 - val_accuracy: 0.0000e+00\n",
      "Epoch 12/20\n",
      "50/50 [==============================] - 0s 3ms/step - loss: 0.3352 - accuracy: 0.0000e+00 - val_loss: 0.3301 - val_accuracy: 0.0000e+00\n",
      "Epoch 13/20\n",
      "50/50 [==============================] - 0s 3ms/step - loss: 0.3349 - accuracy: 0.0000e+00 - val_loss: 0.3310 - val_accuracy: 0.0000e+00\n",
      "Epoch 14/20\n",
      "50/50 [==============================] - 0s 3ms/step - loss: 0.3345 - accuracy: 0.0000e+00 - val_loss: 0.3326 - val_accuracy: 0.0000e+00\n",
      "Epoch 15/20\n",
      "50/50 [==============================] - 0s 3ms/step - loss: 0.3338 - accuracy: 0.0000e+00 - val_loss: 0.3325 - val_accuracy: 0.0000e+00\n",
      "Epoch 16/20\n",
      "50/50 [==============================] - 0s 3ms/step - loss: 0.3337 - accuracy: 0.0000e+00 - val_loss: 0.3328 - val_accuracy: 0.0000e+00\n",
      "Epoch 17/20\n",
      "50/50 [==============================] - 0s 3ms/step - loss: 0.3334 - accuracy: 0.0000e+00 - val_loss: 0.3322 - val_accuracy: 0.0000e+00\n",
      "Epoch 18/20\n",
      "50/50 [==============================] - 0s 3ms/step - loss: 0.3333 - accuracy: 0.0000e+00 - val_loss: 0.3331 - val_accuracy: 0.0000e+00\n",
      "Epoch 19/20\n",
      "50/50 [==============================] - 0s 3ms/step - loss: 0.3330 - accuracy: 0.0000e+00 - val_loss: 0.3326 - val_accuracy: 0.0000e+00\n",
      "Epoch 20/20\n",
      "50/50 [==============================] - 0s 3ms/step - loss: 0.3328 - accuracy: 0.0000e+00 - val_loss: 0.3332 - val_accuracy: 0.0000e+00\n"
     ]
    }
   ],
   "source": [
    "# Fitting the ANN to the Training set\n",
    "history = model.fit(\n",
    "    X_train, y_train,\n",
    "    epochs=20,\n",
    "    batch_size=20,\n",
    "    validation_data=(X_test, y_test),\n",
    "    verbose=1,\n",
    ")"
   ]
  },
  {
   "cell_type": "markdown",
   "id": "7b1e32b8-e3cd-4991-ad6d-8cfd4b1c72fd",
   "metadata": {},
   "source": [
    "### Visualising the training progress\n",
    "\n",
    "In practice, when training a model using frameworks like Keras or similar machine learning libraries, there are typically two datasets: the training set (_train_) and the validation set (_val_ or _validation_). Metrics values, such as accuracy (_accuracy_) or loss function (_loss_), are monitored on both the training and validation sets.  \n",
    "\n",
    "In the code, `val_` is a prefix used to refer to the metric values on the validation (_test_) set during the training of the model. In this context, if `key1` is, for example, 'accuracy', then `'val_' + key1` denotes the accuracy on the validation set.  \n",
    "\n",
    "Therefore, when using `history.history['val_' + key1]`, refers to the accuracy values on the validation set, and `history.history[key1]` refers to the accuracy values on the training set. "
   ]
  },
  {
   "cell_type": "code",
   "execution_count": 11,
   "id": "1768136d-36ce-4a91-ac24-b5626d4ee0e6",
   "metadata": {},
   "outputs": [],
   "source": [
    "def draw_curves(history, key1='accuracy', ylim1=(0.0, 1.0), key2='loss', ylim2=(0.0, 0.5)):\n",
    "    \n",
    "    plt.figure(figsize=(12,4))\n",
    "    \n",
    "    plt.subplot(1, 2, 1)\n",
    "    plt.plot(history.history[key1], \"r--\")\n",
    "    plt.plot(history.history['val_' + key1], \"g--\")\n",
    "    plt.ylabel(key1)\n",
    "    plt.xlabel('Epoch')\n",
    "    plt.ylim(ylim1)\n",
    "    plt.legend(['train', 'test'], loc='best')\n",
    "    \n",
    "    plt.subplot(1, 2, 2)\n",
    "    plt.plot(history.history[key2], \"r--\")\n",
    "    plt.plot(history.history['val_' + key2], \"g--\")\n",
    "    plt.ylabel(key2)\n",
    "    plt.xlabel('Epoch')\n",
    "    plt.ylim(ylim2)    \n",
    "    plt.legend(['train', 'test'], loc='best')\n",
    "    \n",
    "    plt.show()"
   ]
  },
  {
   "cell_type": "code",
   "execution_count": 12,
   "id": "f01d4771-e2d7-4f59-b0d9-a3fc9a77d5cb",
   "metadata": {},
   "outputs": [
    {
     "data": {
      "image/png": "[encoded data removed]",
      "text/plain": [
       "<Figure size 864x288 with 2 Axes>"
      ]
     },
     "metadata": {},
     "output_type": "display_data"
    }
   ],
   "source": [
    "draw_curves(history, key1='accuracy', ylim1=(-0.1, 1.2), key2='loss', ylim2=(0.0, 1.2))"
   ]
  },
  {
   "cell_type": "markdown",
   "id": "73367cfe-3e5d-4459-9034-47133dc207e3",
   "metadata": {},
   "source": [
    "#### Scaling the results back to the orignal scale"
   ]
  },
  {
   "cell_type": "code",
   "execution_count": 13,
   "id": "e6ca4dd5-a7b6-4644-a9f0-8467ca09f587",
   "metadata": {},
   "outputs": [
    {
     "name": "stdout",
     "output_type": "stream",
     "text": [
      "14/14 [==============================] - 0s 2ms/step\n",
      "\n",
      "Actual price: [9950.], prediction: [10685.], difference: [-735.] \n",
      "Actual price: [8950.], prediction: [10685.], difference: [-1735.] \n",
      "Actual price: [18750.], prediction: [17266.], difference: [1484.] \n",
      "Actual price: [11650.], prediction: [12403.], difference: [-753.] \n",
      "Actual price: [18950.], prediction: [19253.], difference: [-303.] \n"
     ]
    }
   ],
   "source": [
    "# Generating Predictions on testing data\n",
    "Predictions = model.predict(X_test)\n",
    "# Scaling the predicted Price data back to original price scale\n",
    "Predictions = TargetVarScalerFit.inverse_transform(Predictions)\n",
    "Actuals = TargetVarScalerFit.inverse_transform(y_test)\n",
    "\n",
    "# Print out actual vs predicted price for a few first test records\n",
    "print()\n",
    "for i in range(5):\n",
    "    print(f\"Actual price: {Actuals[i]}, prediction: {np.round(Predictions[i])}, difference: {Actuals[i]-np.round(Predictions[i])} \")"
   ]
  },
  {
   "cell_type": "markdown",
   "id": "4b37f242-b575-4b85-9fa0-85bea54f2855",
   "metadata": {},
   "source": [
    "## Find the best parameters for the ANN\n",
    "### Training the model\n",
    "\n",
    "Further parameters for tuning the model:\n",
    "- _batch_size_ - Specifies how many rows will be fed to the network at one time, after which calculation will begin and the neural network will begin to adjust its weights based on errors.\n",
    "- _epochs_ - The same weight adjustment action is continued multiple times according to this parameter. To put it simply, the ANN looks at the full training data this many times and adjusts its weights."
   ]
  },
  {
   "cell_type": "code",
   "execution_count": 16,
   "id": "7891f6af-44d8-46d4-8041-de6b0976c897",
   "metadata": {},
   "outputs": [],
   "source": [
    "def FindBestParams(X_train, y_train, X_test, y_test):\n",
    "    \"\"\" \n",
    "    Function finds the best parameters for training the ANN.\n",
    "    \"\"\"    \n",
    "    # Defining the list of hyper parameters to try\n",
    "    batch_size_list = [5, 10, 20]\n",
    "    epoch_list = [10, 20, 40]\n",
    "    \n",
    "    SearchResultsData = pd.DataFrame(columns=['TrialNumber', 'Parameters', 'MAPE', 'Accuracy'])\n",
    "    \n",
    "    # initializing the trials\n",
    "    TrialNumber=0\n",
    "    for batch_size_trial in batch_size_list:\n",
    "        for epochs_trial in epoch_list:\n",
    "            print()\n",
    "            TrialNumber+=1\n",
    "            \n",
    "            # create ANN model\n",
    "            model = Sequential()\n",
    "            # Defining the first layer of the model\n",
    "            model.add(Dense(units=5, input_dim=7, kernel_initializer='normal', activation='relu'))\n",
    "            # Defining the Second layer of the model\n",
    "            # model.add(Dense(units=5, kernel_initializer='normal', activation='relu'))\n",
    "            # The output neuron \n",
    "            model.add(Dense(1))\n",
    "\n",
    "            # Compiling the model\n",
    "            model.compile(optimizer='adam', loss='mse', metrics=['accuracy'])\n",
    "            \n",
    "            # Fitting the ANN to the Training set\n",
    "            history = model.fit(\n",
    "                X_train, y_train,\n",
    "                epochs=epochs_trial,\n",
    "                batch_size=batch_size_trial,\n",
    "                validation_data=(X_test, y_test),\n",
    "                verbose=0,\n",
    "                )\n",
    "\n",
    "            MAPE = np.mean(100 * (np.abs(y_test - model.predict(X_test))/y_test))\n",
    "            \n",
    "            # printing the results of the current iteration\n",
    "            # print(f\"Trial {TrialNumber}, MAPE: {MAPE}\")\n",
    "\n",
    "            trial_result = pd.DataFrame(\n",
    "                data=[[TrialNumber, str(batch_size_trial)+'-'+str(epochs_trial), MAPE, 100-MAPE]],\n",
    "                            columns=['TrialNumber', 'Parameters', 'MAPE', 'Accuracy'])\n",
    "            print(trial_result)\n",
    "\n",
    "            SearchResultsData = pd.concat([SearchResultsData, trial_result], ignore_index=True)\n",
    "            # SearchResultsData = SearchResultsData.append(trial_result)) # depricated in Pandas 2.0\n",
    "    \n",
    "    return(SearchResultsData)"
   ]
  },
  {
   "cell_type": "code",
   "execution_count": 17,
   "id": "84e84289-76b8-4b44-a592-25af232fe9f1",
   "metadata": {},
   "outputs": [
    {
     "name": "stdout",
     "output_type": "stream",
     "text": [
      "\n",
      "14/14 [==============================] - 0s 2ms/step\n",
      "   TrialNumber Parameters       MAPE   Accuracy\n",
      "0            1       5-10  14.922272  85.077728\n",
      "\n",
      "14/14 [==============================] - 0s 2ms/step\n",
      "   TrialNumber Parameters       MAPE   Accuracy\n",
      "0            2       5-20  10.602912  89.397088\n",
      "\n",
      "14/14 [==============================] - 0s 1ms/step\n",
      "   TrialNumber Parameters      MAPE   Accuracy\n",
      "0            3       5-40  6.072259  93.927741\n",
      "\n",
      "14/14 [==============================] - 0s 2ms/step\n",
      "   TrialNumber Parameters      MAPE  Accuracy\n",
      "0            4      10-10  18.90151  81.09849\n",
      "\n",
      "14/14 [==============================] - 0s 3ms/step\n",
      "   TrialNumber Parameters       MAPE   Accuracy\n",
      "0            5      10-20  12.481922  87.518078\n",
      "\n",
      "14/14 [==============================] - 0s 2ms/step\n",
      "   TrialNumber Parameters       MAPE   Accuracy\n",
      "0            6      10-40  11.499559  88.500441\n",
      "\n",
      "14/14 [==============================] - 0s 2ms/step\n",
      "   TrialNumber Parameters       MAPE   Accuracy\n",
      "0            7      20-10  17.157393  82.842607\n",
      "\n",
      "14/14 [==============================] - 0s 2ms/step\n",
      "   TrialNumber Parameters       MAPE   Accuracy\n",
      "0            8      20-20  16.618705  83.381295\n",
      "\n",
      "14/14 [==============================] - 0s 1ms/step\n",
      "   TrialNumber Parameters       MAPE   Accuracy\n",
      "0            9      20-40  12.489133  87.510867\n",
      "Best accuracy found: 93.928, with corresonding batch size and number of epochs: 5-40.\n"
     ]
    }
   ],
   "source": [
    "# Calling the function\n",
    "ResultsData = FindBestParams(X_train, y_train, X_test, y_test)\n",
    "\n",
    "# Best accuracy\n",
    "max_accuracy = ResultsData.loc[ResultsData['Accuracy'].idxmax()]\n",
    "print(f\"Best accuracy found: {max_accuracy[-1]:.3f}, with corresonding batch size and number of epochs: {max_accuracy[1]}.\")"
   ]
  },
  {
   "cell_type": "markdown",
   "id": "bf80a075-62d5-405c-af59-8b9e4b33a496",
   "metadata": {},
   "source": [
    "___\n",
    "## Linear regression model\n",
    "\n",
    "For comparison, linear regression model is used.\n",
    "\n",
    "The same dataset and subsets are used (`X_train`, `X_test`, `y_train`, `y_test`)."
   ]
  },
  {
   "cell_type": "code",
   "execution_count": 18,
   "id": "dc4683f0-3736-4d61-8e37-bc647e8c29fe",
   "metadata": {},
   "outputs": [
    {
     "name": "stdout",
     "output_type": "stream",
     "text": [
      "Train inputs (998, 7), train outputs (998, 1)\n",
      "Test inputs (429, 7), test outputs (429, 1)\n"
     ]
    }
   ],
   "source": [
    "# Quick sanity check with the shapes of Training and testing datasets\n",
    "print(f\"Train inputs {X_train.shape}, train outputs {y_train.shape}\")\n",
    "print(f\"Test inputs {X_test.shape}, test outputs {y_test.shape}\")"
   ]
  },
  {
   "cell_type": "code",
   "execution_count": 19,
   "id": "98ee9c89-f882-4514-a0ec-94936cf07eb8",
   "metadata": {},
   "outputs": [
    {
     "data": {
      "text/html": [
       "<style>#sk-container-id-1 {color: black;}#sk-container-id-1 pre{padding: 0;}#sk-container-id-1 div.sk-toggleable {background-color: white;}#sk-container-id-1 label.sk-toggleable__label {cursor: pointer;display: block;width: 100%;margin-bottom: 0;padding: 0.3em;box-sizing: border-box;text-align: center;}#sk-container-id-1 label.sk-toggleable__label-arrow:before {content: \"▸\";float: left;margin-right: 0.25em;color: #696969;}#sk-container-id-1 label.sk-toggleable__label-arrow:hover:before {color: black;}#sk-container-id-1 div.sk-estimator:hover label.sk-toggleable__label-arrow:before {color: black;}#sk-container-id-1 div.sk-toggleable__content {max-height: 0;max-width: 0;overflow: hidden;text-align: left;background-color: #f0f8ff;}#sk-container-id-1 div.sk-toggleable__content pre {margin: 0.2em;color: black;border-radius: 0.25em;background-color: #f0f8ff;}#sk-container-id-1 input.sk-toggleable__control:checked~div.sk-toggleable__content {max-height: 200px;max-width: 100%;overflow: auto;}#sk-container-id-1 input.sk-toggleable__control:checked~label.sk-toggleable__label-arrow:before {content: \"▾\";}#sk-container-id-1 div.sk-estimator input.sk-toggleable__control:checked~label.sk-toggleable__label {background-color: #d4ebff;}#sk-container-id-1 div.sk-label input.sk-toggleable__control:checked~label.sk-toggleable__label {background-color: #d4ebff;}#sk-container-id-1 input.sk-hidden--visually {border: 0;clip: rect(1px 1px 1px 1px);clip: rect(1px, 1px, 1px, 1px);height: 1px;margin: -1px;overflow: hidden;padding: 0;position: absolute;width: 1px;}#sk-container-id-1 div.sk-estimator {font-family: monospace;background-color: #f0f8ff;border: 1px dotted black;border-radius: 0.25em;box-sizing: border-box;margin-bottom: 0.5em;}#sk-container-id-1 div.sk-estimator:hover {background-color: #d4ebff;}#sk-container-id-1 div.sk-parallel-item::after {content: \"\";width: 100%;border-bottom: 1px solid gray;flex-grow: 1;}#sk-container-id-1 div.sk-label:hover label.sk-toggleable__label {background-color: #d4ebff;}#sk-container-id-1 div.sk-serial::before {content: \"\";position: absolute;border-left: 1px solid gray;box-sizing: border-box;top: 0;bottom: 0;left: 50%;z-index: 0;}#sk-container-id-1 div.sk-serial {display: flex;flex-direction: column;align-items: center;background-color: white;padding-right: 0.2em;padding-left: 0.2em;position: relative;}#sk-container-id-1 div.sk-item {position: relative;z-index: 1;}#sk-container-id-1 div.sk-parallel {display: flex;align-items: stretch;justify-content: center;background-color: white;position: relative;}#sk-container-id-1 div.sk-item::before, #sk-container-id-1 div.sk-parallel-item::before {content: \"\";position: absolute;border-left: 1px solid gray;box-sizing: border-box;top: 0;bottom: 0;left: 50%;z-index: -1;}#sk-container-id-1 div.sk-parallel-item {display: flex;flex-direction: column;z-index: 1;position: relative;background-color: white;}#sk-container-id-1 div.sk-parallel-item:first-child::after {align-self: flex-end;width: 50%;}#sk-container-id-1 div.sk-parallel-item:last-child::after {align-self: flex-start;width: 50%;}#sk-container-id-1 div.sk-parallel-item:only-child::after {width: 0;}#sk-container-id-1 div.sk-dashed-wrapped {border: 1px dashed gray;margin: 0 0.4em 0.5em 0.4em;box-sizing: border-box;padding-bottom: 0.4em;background-color: white;}#sk-container-id-1 div.sk-label label {font-family: monospace;font-weight: bold;display: inline-block;line-height: 1.2em;}#sk-container-id-1 div.sk-label-container {text-align: center;}#sk-container-id-1 div.sk-container {/* jupyter's `normalize.less` sets `[hidden] { display: none; }` but bootstrap.min.css set `[hidden] { display: none !important; }` so we also need the `!important` here to be able to override the default hidden behavior on the sphinx rendered scikit-learn.org. See: https://github.com/scikit-learn/scikit-learn/issues/21755 */display: inline-block !important;position: relative;}#sk-container-id-1 div.sk-text-repr-fallback {display: none;}</style><div id=\"sk-container-id-1\" class=\"sk-top-container\"><div class=\"sk-text-repr-fallback\"><pre>LinearRegression()</pre><b>In a Jupyter environment, please rerun this cell to show the HTML representation or trust the notebook. <br />On GitHub, the HTML representation is unable to render, please try loading this page with nbviewer.org.</b></div><div class=\"sk-container\" hidden><div class=\"sk-item\"><div class=\"sk-estimator sk-toggleable\"><input class=\"sk-toggleable__control sk-hidden--visually\" id=\"sk-estimator-id-1\" type=\"checkbox\" checked><label for=\"sk-estimator-id-1\" class=\"sk-toggleable__label sk-toggleable__label-arrow\">LinearRegression</label><div class=\"sk-toggleable__content\"><pre>LinearRegression()</pre></div></div></div></div></div>"
      ],
      "text/plain": [
       "LinearRegression()"
      ]
     },
     "execution_count": 19,
     "metadata": {},
     "output_type": "execute_result"
    }
   ],
   "source": [
    "# create an instance of a LinearRegression() model named lin_reg_model.\n",
    "lin_reg_model = LinearRegression()\n",
    "\n",
    "#Train/fit lin_reg_model on the training data.\n",
    "lin_reg_model.fit(X_train, y_train)"
   ]
  },
  {
   "cell_type": "code",
   "execution_count": 20,
   "id": "7525cc27-d67b-4349-a420-9c57c49401ce",
   "metadata": {},
   "outputs": [],
   "source": [
    "# calculate predictions\n",
    "predictions = lin_reg_model.predict(X_test)"
   ]
  },
  {
   "cell_type": "code",
   "execution_count": 21,
   "id": "badfc2d1-a0d2-4a2a-a56b-e9ff33ff1e13",
   "metadata": {},
   "outputs": [
    {
     "name": "stdout",
     "output_type": "stream",
     "text": [
      "Accuracy: 97.791\n"
     ]
    }
   ],
   "source": [
    "# accuracy of the linear regression model\n",
    "MAPE_lr = np.mean(100 * (np.abs(y_test - predictions)/y_test))\n",
    "\n",
    "print(f\"Accuracy: {100 - MAPE_lr:.3f}\") "
   ]
  },
  {
   "cell_type": "markdown",
   "id": "436e1fad-59c7-47e9-b285-846715534bf2",
   "metadata": {},
   "source": [
    "## Findings\n",
    "\n",
    "Both models were compared using Mean Absolute Percentage Error (MAPE) metrics.  \n",
    "The formula for MAPE is:\n",
    "\n",
    "$$ MAPE = \\frac{1}{n} \\sum_{i=1}^{n} \\left| \\frac{A_i - F_i}{A_i} \\right| \\times 100\\% $$\n",
    "\n",
    "Where:  \n",
    "$ n $ is the number of observations; \n",
    "$ A_i $ is the actual value; \n",
    "$ F_i $ is the forecasted (predicted) value.\n",
    "\n",
    "Model accuracy is expressed as: $ 100\\% - MAPE $\n",
    "\n",
    "The following are the found accuracies of both models:"
   ]
  },
  {
   "cell_type": "code",
   "execution_count": 22,
   "id": "c0e3fe49-56ec-4131-a691-19a81b511223",
   "metadata": {},
   "outputs": [
    {
     "name": "stdout",
     "output_type": "stream",
     "text": [
      "ANN accuracy:\t 93.928%\n",
      "LR accuracy:\t 97.791%\n"
     ]
    }
   ],
   "source": [
    "print(f\"ANN accuracy:\\t {max_accuracy[-1]:.3f}%\")\n",
    "print(f\"LR accuracy:\\t {100 - MAPE_lr:.3f}%\")"
   ]
  },
  {
   "cell_type": "markdown",
   "id": "86ac4c69-ae05-442e-a420-c451af450d78",
   "metadata": {},
   "source": [
    "References:\n",
    "- <https://www.analyticsvidhya.com/blog/2021/07/car-price-prediction-machine-learning-vs-deep-learning/>\n",
    "- <https://www.kaggle.com/code/karan842/car-price-prediction-neural-network>\n",
    "- <https://github.com/andkoc001/Machine-Learning-and-Statistics-Project>"
   ]
  },
  {
   "cell_type": "code",
   "execution_count": null,
   "id": "806542ae-2535-46f5-9c06-cf5e2a1b6cd8",
   "metadata": {},
   "outputs": [],
   "source": []
  },
  {
   "cell_type": "markdown",
   "id": "f14f0857-25ff-4466-9510-0a8950dda6c7",
   "metadata": {},
   "source": [
    "___\n",
    "## Zadanie 2\n",
    "Zbiór danych `CIFAR10` został pobrany z adresu:  \n",
    "[https://www.cs.toronto.edu/~kriz/cifar-10-python.tar.gz/](https://www.cs.toronto.edu/~kriz/cifar-10-python.tar.gz/)\n",
    "\n",
    "Zestaw ten zawiera obrazy RGB 32x32 w dziesięciu klasach, co jest przydatne do testowania modeli klasyfikacji obrazów. Istnieje dziesięć klas oznaczonych liczbami całkowitymi od 0 do 9. Zastosować odpowiedni model sieci neuronowej do przypisania obrazów do właściwych klas, rozwiązać zgodnie z wytycznymi wyżej."
   ]
  },
  {
   "cell_type": "markdown",
   "id": "4687107e-f025-48aa-9795-83368790fe54",
   "metadata": {},
   "source": [
    "### Załadowanie i przygotowanie danych"
   ]
  },
  {
   "cell_type": "code",
   "execution_count": 23,
   "id": "aef1a8fe-a3b9-448c-9e49-004d36b8cf50",
   "metadata": {},
   "outputs": [
    {
     "ename": "FileNotFoundError",
     "evalue": "[Errno 2] No such file or directory: 'data_batch_1'",
     "output_type": "error",
     "traceback": [
      "\u001b[0;31m---------------------------------------------------------------------------\u001b[0m",
      "\u001b[0;31mFileNotFoundError\u001b[0m                         Traceback (most recent call last)",
      "\u001b[0;32m/tmp/ipykernel_36177/125622705.py\u001b[0m in \u001b[0;36m<module>\u001b[0;34m\u001b[0m\n\u001b[1;32m     16\u001b[0m \u001b[0;32mfor\u001b[0m \u001b[0mplik_cifar\u001b[0m \u001b[0;32min\u001b[0m \u001b[0mpliki_cifar\u001b[0m\u001b[0;34m:\u001b[0m\u001b[0;34m\u001b[0m\u001b[0;34m\u001b[0m\u001b[0m\n\u001b[1;32m     17\u001b[0m     \u001b[0msciezka_do_pliku\u001b[0m \u001b[0;34m=\u001b[0m \u001b[0mos\u001b[0m\u001b[0;34m.\u001b[0m\u001b[0mpath\u001b[0m\u001b[0;34m.\u001b[0m\u001b[0mjoin\u001b[0m\u001b[0;34m(\u001b[0m\u001b[0mfolder_cifar\u001b[0m\u001b[0;34m,\u001b[0m \u001b[0mplik_cifar\u001b[0m\u001b[0;34m)\u001b[0m\u001b[0;34m\u001b[0m\u001b[0;34m\u001b[0m\u001b[0m\n\u001b[0;32m---> 18\u001b[0;31m     \u001b[0mdane_batch\u001b[0m \u001b[0;34m=\u001b[0m \u001b[0munpickle\u001b[0m\u001b[0;34m(\u001b[0m\u001b[0msciezka_do_pliku\u001b[0m\u001b[0;34m)\u001b[0m\u001b[0;34m\u001b[0m\u001b[0;34m\u001b[0m\u001b[0m\n\u001b[0m\u001b[1;32m     19\u001b[0m     \u001b[0;31m# dane_batch = unpickle(plik_cifar)\u001b[0m\u001b[0;34m\u001b[0m\u001b[0;34m\u001b[0m\u001b[0m\n\u001b[1;32m     20\u001b[0m     \u001b[0mwszystkie_dane\u001b[0m\u001b[0;34m.\u001b[0m\u001b[0mappend\u001b[0m\u001b[0;34m(\u001b[0m\u001b[0mdane_batch\u001b[0m\u001b[0;34m)\u001b[0m\u001b[0;34m\u001b[0m\u001b[0;34m\u001b[0m\u001b[0m\n",
      "\u001b[0;32m/tmp/ipykernel_36177/125622705.py\u001b[0m in \u001b[0;36munpickle\u001b[0;34m(file)\u001b[0m\n\u001b[1;32m      4\u001b[0m     \u001b[0;32mwith\u001b[0m \u001b[0mopen\u001b[0m\u001b[0;34m(\u001b[0m\u001b[0mfile\u001b[0m\u001b[0;34m,\u001b[0m \u001b[0;34m'rb'\u001b[0m\u001b[0;34m)\u001b[0m \u001b[0;32mas\u001b[0m \u001b[0mfo\u001b[0m\u001b[0;34m:\u001b[0m\u001b[0;34m\u001b[0m\u001b[0;34m\u001b[0m\u001b[0m\n\u001b[1;32m      5\u001b[0m         \u001b[0;31m# dict = pickle.load(fo, encoding='latin1')\u001b[0m\u001b[0;34m\u001b[0m\u001b[0;34m\u001b[0m\u001b[0m\n\u001b[0;32m----> 6\u001b[0;31m         \u001b[0mdict\u001b[0m \u001b[0;34m=\u001b[0m \u001b[0mpd\u001b[0m\u001b[0;34m.\u001b[0m\u001b[0mread_pickle\u001b[0m\u001b[0;34m(\u001b[0m\u001b[0;34m'data_batch_1'\u001b[0m\u001b[0;34m)\u001b[0m\u001b[0;34m\u001b[0m\u001b[0;34m\u001b[0m\u001b[0m\n\u001b[0m\u001b[1;32m      7\u001b[0m     \u001b[0;32mreturn\u001b[0m \u001b[0mdict\u001b[0m\u001b[0;34m\u001b[0m\u001b[0;34m\u001b[0m\u001b[0m\n\u001b[1;32m      8\u001b[0m \u001b[0;34m\u001b[0m\u001b[0m\n",
      "\u001b[0;32m~/.local/lib/python3.10/site-packages/pandas/io/pickle.py\u001b[0m in \u001b[0;36mread_pickle\u001b[0;34m(filepath_or_buffer, compression, storage_options)\u001b[0m\n\u001b[1;32m    187\u001b[0m     \"\"\"\n\u001b[1;32m    188\u001b[0m     \u001b[0mexcs_to_catch\u001b[0m \u001b[0;34m=\u001b[0m \u001b[0;34m(\u001b[0m\u001b[0mAttributeError\u001b[0m\u001b[0;34m,\u001b[0m \u001b[0mImportError\u001b[0m\u001b[0;34m,\u001b[0m \u001b[0mModuleNotFoundError\u001b[0m\u001b[0;34m,\u001b[0m \u001b[0mTypeError\u001b[0m\u001b[0;34m)\u001b[0m\u001b[0;34m\u001b[0m\u001b[0;34m\u001b[0m\u001b[0m\n\u001b[0;32m--> 189\u001b[0;31m     with get_handle(\n\u001b[0m\u001b[1;32m    190\u001b[0m         \u001b[0mfilepath_or_buffer\u001b[0m\u001b[0;34m,\u001b[0m\u001b[0;34m\u001b[0m\u001b[0;34m\u001b[0m\u001b[0m\n\u001b[1;32m    191\u001b[0m         \u001b[0;34m\"rb\"\u001b[0m\u001b[0;34m,\u001b[0m\u001b[0;34m\u001b[0m\u001b[0;34m\u001b[0m\u001b[0m\n",
      "\u001b[0;32m~/.local/lib/python3.10/site-packages/pandas/io/common.py\u001b[0m in \u001b[0;36mget_handle\u001b[0;34m(path_or_buf, mode, encoding, compression, memory_map, is_text, errors, storage_options)\u001b[0m\n\u001b[1;32m    870\u001b[0m         \u001b[0;32melse\u001b[0m\u001b[0;34m:\u001b[0m\u001b[0;34m\u001b[0m\u001b[0;34m\u001b[0m\u001b[0m\n\u001b[1;32m    871\u001b[0m             \u001b[0;31m# Binary mode\u001b[0m\u001b[0;34m\u001b[0m\u001b[0;34m\u001b[0m\u001b[0m\n\u001b[0;32m--> 872\u001b[0;31m             \u001b[0mhandle\u001b[0m \u001b[0;34m=\u001b[0m \u001b[0mopen\u001b[0m\u001b[0;34m(\u001b[0m\u001b[0mhandle\u001b[0m\u001b[0;34m,\u001b[0m \u001b[0mioargs\u001b[0m\u001b[0;34m.\u001b[0m\u001b[0mmode\u001b[0m\u001b[0;34m)\u001b[0m\u001b[0;34m\u001b[0m\u001b[0;34m\u001b[0m\u001b[0m\n\u001b[0m\u001b[1;32m    873\u001b[0m         \u001b[0mhandles\u001b[0m\u001b[0;34m.\u001b[0m\u001b[0mappend\u001b[0m\u001b[0;34m(\u001b[0m\u001b[0mhandle\u001b[0m\u001b[0;34m)\u001b[0m\u001b[0;34m\u001b[0m\u001b[0;34m\u001b[0m\u001b[0m\n\u001b[1;32m    874\u001b[0m \u001b[0;34m\u001b[0m\u001b[0m\n",
      "\u001b[0;31mFileNotFoundError\u001b[0m: [Errno 2] No such file or directory: 'data_batch_1'"
     ]
    }
   ],
   "source": [
    "folder_cifar = r'cifar-10-batches-py'  # katalog, gdzie rozpakowałem pliki CIFAR-10\n",
    "\n",
    "def unpickle(file):\n",
    "    with open(file, 'rb') as fo:\n",
    "        # dict = pickle.load(fo, encoding='latin1')\n",
    "        dict = pd.read_pickle('data_batch_1')        \n",
    "    return dict\n",
    "\n",
    "# Lista plików w katalogu\n",
    "pliki_cifar = os.listdir(folder_cifar)\n",
    "\n",
    "# Inicjalizacja pustej listy na dane\n",
    "wszystkie_dane = []\n",
    "\n",
    "# Iteracja przez pliki i wczytanie danych\n",
    "for plik_cifar in pliki_cifar:\n",
    "    sciezka_do_pliku = os.path.join(folder_cifar, plik_cifar)\n",
    "    dane_batch = unpickle(sciezka_do_pliku)\n",
    "    # dane_batch = unpickle(plik_cifar)\n",
    "    wszystkie_dane.append(dane_batch)\n",
    "\n",
    "# Inicjalizacja pustej listy na dane\n",
    "wszystkie_dane_sformatowane = []\n",
    "\n",
    "# Iteracja przez listę słowników\n",
    "for dane_batch in wszystkie_dane:\n",
    "    wszystkie_dane_sformatowane.extend(dane_batch[b'data'])\n",
    "\n",
    "# Tworzenie DataFrame\n",
    "df = pd.DataFrame(wszystkie_dane_sformatowane)\n"
   ]
  },
  {
   "cell_type": "code",
   "execution_count": 25,
   "id": "5686c8f4-18c0-4e97-9957-a55deba9946b",
   "metadata": {},
   "outputs": [],
   "source": [
    "for dane_batch in wszystkie_dane:\n",
    "    print(type(dane_batch))"
   ]
  },
  {
   "cell_type": "code",
   "execution_count": 26,
   "id": "394876ed-d378-4990-92a5-a695831a8129",
   "metadata": {},
   "outputs": [
    {
     "ename": "IndexError",
     "evalue": "list index out of range",
     "output_type": "error",
     "traceback": [
      "\u001b[0;31m---------------------------------------------------------------------------\u001b[0m",
      "\u001b[0;31mIndexError\u001b[0m                                Traceback (most recent call last)",
      "\u001b[0;32m/tmp/ipykernel_36177/3011423244.py\u001b[0m in \u001b[0;36m<module>\u001b[0;34m\u001b[0m\n\u001b[0;32m----> 1\u001b[0;31m \u001b[0mwszystkie_dane\u001b[0m\u001b[0;34m[\u001b[0m\u001b[0;36m0\u001b[0m\u001b[0;34m]\u001b[0m\u001b[0;34m[\u001b[0m\u001b[0;34mb'data'\u001b[0m\u001b[0;34m]\u001b[0m\u001b[0;34m\u001b[0m\u001b[0;34m\u001b[0m\u001b[0m\n\u001b[0m",
      "\u001b[0;31mIndexError\u001b[0m: list index out of range"
     ]
    }
   ],
   "source": [
    "wszystkie_dane[0][b'data']"
   ]
  },
  {
   "cell_type": "markdown",
   "id": "c6892202-bf38-4219-b59e-a1efb839a380",
   "metadata": {},
   "source": [
    "Ponieważ, mam trudności z dostępem do danych w plikach, zgodnie z rekomendacją na stronie, skąd pobrałem dane, podejmuję alternatywną metodę, tj. załadowanie danych bezpośrednio z pakietu TensorFlow."
   ]
  },
  {
   "cell_type": "code",
   "execution_count": 27,
   "id": "596ed112-d5e8-4b92-9099-fab1a4b619a8",
   "metadata": {},
   "outputs": [],
   "source": [
    "from tensorflow.keras.datasets import cifar10\n",
    "cifar = cifar10.load_data()"
   ]
  },
  {
   "cell_type": "markdown",
   "id": "24e73b81-a9a4-4502-8f88-72abf646c50d",
   "metadata": {},
   "source": [
    "## Eksloracja danych"
   ]
  },
  {
   "cell_type": "code",
   "execution_count": 28,
   "id": "632e8400-8dcb-42d0-8b4f-58bb583bc3f6",
   "metadata": {},
   "outputs": [
    {
     "name": "stdout",
     "output_type": "stream",
     "text": [
      "Rozmiary zbiorów:\n",
      "Train images shape: (50000, 32, 32, 3)\n",
      "Train labels shape: (50000, 1)\n",
      "Test images shape: (10000, 32, 32, 3)\n",
      "Test labels shape: (10000, 1)\n"
     ]
    }
   ],
   "source": [
    "(train_images, train_labels), (test_images, test_labels) = cifar\n",
    "\n",
    "# Wyświetlenie rozmiarów zbiorów\n",
    "print(\"Rozmiary zbiorów:\")\n",
    "print(\"Train images shape:\", train_images.shape)\n",
    "print(\"Train labels shape:\", train_labels.shape)\n",
    "print(\"Test images shape:\", test_images.shape)\n",
    "print(\"Test labels shape:\", test_labels.shape)"
   ]
  },
  {
   "cell_type": "code",
   "execution_count": 29,
   "id": "2a87a118-eda8-4fca-9bda-97796f41aaaf",
   "metadata": {},
   "outputs": [
    {
     "data": {
      "image/png": "[encoded data removed]",
      "text/plain": [
       "<Figure size 720x144 with 5 Axes>"
      ]
     },
     "metadata": {},
     "output_type": "display_data"
    }
   ],
   "source": [
    "# Wyświetlenie przykładowych obrazów\n",
    "plt.figure(figsize=(10, 2))\n",
    "for i in range(5):\n",
    "    plt.subplot(1, 5, i+1)\n",
    "    plt.imshow(train_images[i])\n",
    "    plt.title(f\"Label: {train_labels[i][0]}\")\n",
    "    plt.axis('off')\n",
    "plt.show()"
   ]
  },
  {
   "cell_type": "markdown",
   "id": "d35e4d8c-688e-4f86-8c10-bf7254186769",
   "metadata": {},
   "source": [
    "### Budowanie modelu sieci"
   ]
  },
  {
   "cell_type": "code",
   "execution_count": 30,
   "id": "2922920d-4a6a-4656-8d38-448cdb1c59dc",
   "metadata": {},
   "outputs": [],
   "source": [
    "from tensorflow.keras import models, layers\n",
    "\n",
    "model = models.Sequential([\n",
    "    layers.Conv2D(32, (3, 3), activation='relu', input_shape=(32, 32, 3)),\n",
    "    layers.MaxPooling2D((2, 2)),\n",
    "    # layers.Conv2D(64, (3, 3), activation='relu'), # wygaszone, żeby przyśpieszyć obliczenia na kolokwium\n",
    "    # layers.MaxPooling2D((2, 2)),\n",
    "    layers.Conv2D(64, (3, 3), activation='relu'),\n",
    "    layers.Flatten(),\n",
    "    layers.Dense(64, activation='relu'),\n",
    "    layers.Dense(10, activation='softmax')\n",
    "])\n",
    "\n",
    "model.compile(optimizer='adam', loss='sparse_categorical_crossentropy', metrics=['accuracy'])"
   ]
  },
  {
   "cell_type": "markdown",
   "id": "5cf5194a-eb77-491c-9792-7652e2e67a44",
   "metadata": {},
   "source": [
    "### Trenowanie modelu\n",
    "Tylko 5 epok, w celu ograniczenia czasu na obliczenia podczas kolokwium."
   ]
  },
  {
   "cell_type": "code",
   "execution_count": 31,
   "id": "eda6c123-130a-47c4-b054-0e93189cef5c",
   "metadata": {},
   "outputs": [
    {
     "name": "stdout",
     "output_type": "stream",
     "text": [
      "Epoch 1/5\n",
      "1563/1563 [==============================] - 62s 39ms/step - loss: 2.5845 - accuracy: 0.2716 - val_loss: 1.6912 - val_accuracy: 0.3758\n",
      "Epoch 2/5\n",
      "1563/1563 [==============================] - 81s 52ms/step - loss: 1.5131 - accuracy: 0.4627 - val_loss: 1.3434 - val_accuracy: 0.5242\n",
      "Epoch 3/5\n",
      "1563/1563 [==============================] - 116s 74ms/step - loss: 1.2157 - accuracy: 0.5748 - val_loss: 1.2662 - val_accuracy: 0.5637\n",
      "Epoch 4/5\n",
      "1563/1563 [==============================] - 90s 58ms/step - loss: 1.0161 - accuracy: 0.6452 - val_loss: 1.2537 - val_accuracy: 0.5845\n",
      "Epoch 5/5\n",
      "1563/1563 [==============================] - 108s 69ms/step - loss: 0.8679 - accuracy: 0.6977 - val_loss: 1.2978 - val_accuracy: 0.5848\n"
     ]
    },
    {
     "data": {
      "text/plain": [
       "<keras.src.callbacks.History at 0x7f783d5a1990>"
      ]
     },
     "execution_count": 31,
     "metadata": {},
     "output_type": "execute_result"
    }
   ],
   "source": [
    "model.fit(train_images, train_labels, epochs=5, validation_data=(test_images, test_labels))"
   ]
  },
  {
   "cell_type": "code",
   "execution_count": 32,
   "id": "c02aaf1a-8dc5-4f56-b758-89ad43111335",
   "metadata": {},
   "outputs": [
    {
     "name": "stdout",
     "output_type": "stream",
     "text": [
      "313/313 [==============================] - 4s 14ms/step - loss: 1.2978 - accuracy: 0.5848\n",
      "Loss: 1.2977803945541382\n",
      "Accuracy: 0.5848000049591064\n"
     ]
    }
   ],
   "source": [
    "# Ewaluacja modelu na danych testowych\n",
    "loss, accuracy = model.evaluate(test_images, test_labels)\n",
    "\n",
    "# Wyświetlenie wyników\n",
    "print(f'Loss: {loss}')\n",
    "print(f'Accuracy: {accuracy}')"
   ]
  },
  {
   "cell_type": "markdown",
   "id": "9e3c8927-6aaa-49bc-b84e-b76811e18fe3",
   "metadata": {},
   "source": [
    "### Predykcja"
   ]
  },
  {
   "cell_type": "code",
   "execution_count": 33,
   "id": "d52b0934-857d-4c48-8460-03bfcd54ce6b",
   "metadata": {},
   "outputs": [
    {
     "name": "stdout",
     "output_type": "stream",
     "text": [
      "313/313 [==============================] - 4s 13ms/step\n",
      "Accuracy: 0.5848\n"
     ]
    }
   ],
   "source": [
    "# Uzyskanie predykcji dla danych testowych\n",
    "predictions = model.predict(test_images)\n",
    "\n",
    "# Ocenianie predykcji\n",
    "from sklearn.metrics import accuracy_score\n",
    "\n",
    "# Konwertowanie predykcji z postaci one-hot na jednowymiarową\n",
    "predicted_labels = predictions.argmax(axis=1)\n",
    "\n",
    "# Ocenianie dokładności\n",
    "accuracy = accuracy_score(test_labels, predicted_labels)\n",
    "print(f'Accuracy: {accuracy}')"
   ]
  },
  {
   "cell_type": "markdown",
   "id": "9f676b78-6f0c-47da-893c-1a38284b8f03",
   "metadata": {},
   "source": [
    "___\n",
    "Andrzej Kocielski"
   ]
  }
 ],
 "metadata": {
  "kernelspec": {
   "display_name": "Python 3 (ipykernel)",
   "language": "python",
   "name": "python3"
  },
  "language_info": {
   "codemirror_mode": {
    "name": "ipython",
    "version": 3
   },
   "file_extension": ".py",
   "mimetype": "text/x-python",
   "name": "python",
   "nbconvert_exporter": "python",
   "pygments_lexer": "ipython3",
   "version": "3.10.12"
  }
 },
 "nbformat": 4,
 "nbformat_minor": 5
}
