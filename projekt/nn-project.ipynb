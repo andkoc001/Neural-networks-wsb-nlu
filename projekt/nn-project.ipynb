{
 "cells": [
  {
   "cell_type": "markdown",
   "id": "f282f0a4-4ba5-4aa2-a918-b29df9d3586d",
   "metadata": {},
   "source": [
    "# Neural Networks - final project\n",
    "### WSB-NLU, 2023-2024\n",
    "Lecurer: Dr. Andrzej Tomski\n",
    "\n",
    "Author: Andrzej Kocielski\n",
    "___"
   ]
  },
  {
   "cell_type": "markdown",
   "id": "1296c72f-d7e7-41f7-8799-ea903eaa851a",
   "metadata": {},
   "source": [
    "### Libraries"
   ]
  },
  {
   "cell_type": "code",
   "execution_count": 1,
   "id": "212212f0",
   "metadata": {},
   "outputs": [
    {
     "name": "stderr",
     "output_type": "stream",
     "text": [
      "2024-02-13 20:32:38.960087: I external/local_tsl/tsl/cuda/cudart_stub.cc:31] Could not find cuda drivers on your machine, GPU will not be used.\n",
      "2024-02-13 20:32:39.360438: E external/local_xla/xla/stream_executor/cuda/cuda_dnn.cc:9261] Unable to register cuDNN factory: Attempting to register factory for plugin cuDNN when one has already been registered\n",
      "2024-02-13 20:32:39.360509: E external/local_xla/xla/stream_executor/cuda/cuda_fft.cc:607] Unable to register cuFFT factory: Attempting to register factory for plugin cuFFT when one has already been registered\n",
      "2024-02-13 20:32:39.438717: E external/local_xla/xla/stream_executor/cuda/cuda_blas.cc:1515] Unable to register cuBLAS factory: Attempting to register factory for plugin cuBLAS when one has already been registered\n",
      "2024-02-13 20:32:39.590964: I external/local_tsl/tsl/cuda/cudart_stub.cc:31] Could not find cuda drivers on your machine, GPU will not be used.\n",
      "2024-02-13 20:32:39.593053: I tensorflow/core/platform/cpu_feature_guard.cc:182] This TensorFlow binary is optimized to use available CPU instructions in performance-critical operations.\n",
      "To enable the following instructions: AVX2 FMA, in other operations, rebuild TensorFlow with the appropriate compiler flags.\n",
      "2024-02-13 20:32:41.157716: W tensorflow/compiler/tf2tensorrt/utils/py_utils.cc:38] TF-TRT Warning: Could not find TensorRT\n"
     ]
    }
   ],
   "source": [
    "import os\n",
    "import random\n",
    "import matplotlib.pyplot as plt\n",
    "import tensorflow as tf\n",
    "from tensorflow.keras import layers, models\n",
    "from sklearn.model_selection import train_test_split\n",
    "import numpy as np\n",
    "import pandas as pd\n",
    "from sklearn.svm import SVC\n",
    "from sklearn.ensemble import RandomForestClassifier\n",
    "from sklearn.preprocessing import StandardScaler\n",
    "from sklearn.metrics import accuracy_score"
   ]
  },
  {
   "cell_type": "markdown",
   "id": "3e3cfa07",
   "metadata": {},
   "source": [
    "### Loading dataset"
   ]
  },
  {
   "cell_type": "code",
   "execution_count": 9,
   "id": "aa7b313b",
   "metadata": {},
   "outputs": [],
   "source": [
    "# Source of dataset: https://www.kaggle.com/datasets/mahmoudreda55/satellite-image-classification/data\n",
    "# The original dataset consists of  5631 images with jpg format, split into four categories (classes): \n",
    "# cloudy (1500 images), desert (1131 images), green area (1500 images) and water (1500images).\n",
    "# However for the purpose of the project and in order to speed up the calculations, the data set has been randomly sized down (see below).\n",
    "\n",
    "# Path to the dataset \n",
    "dataset_path = 'satelite_dataset'\n",
    "\n",
    "# The file names are inconsistent, so below we change their names to have a format like class_0001.jpg, class_0002.jpg, and so on\n",
    "def rename_files_with_numbered_format(folder_path):\n",
    "    for class_name in os.listdir(folder_path):\n",
    "        class_path = os.path.join(folder_path, class_name)\n",
    "        if os.path.isdir(class_path):\n",
    "            counter = 1\n",
    "            for filename in os.listdir(class_path):\n",
    "                if filename.endswith('.jpg'):\n",
    "                    old_path = os.path.join(class_path, filename)\n",
    "                    new_filename = f\"{class_name}-{counter:04d}.jpg\"\n",
    "                    new_path = os.path.join(class_path, new_filename)\n",
    "                    os.rename(old_path, new_path)\n",
    "                    counter += 1\n",
    "\n",
    "# Rename files in the dataset folder\n",
    "rename_files_with_numbered_format(dataset_path)"
   ]
  },
  {
   "cell_type": "code",
   "execution_count": 11,
   "id": "774aae71",
   "metadata": {},
   "outputs": [
    {
     "name": "stdout",
     "output_type": "stream",
     "text": [
      "Training subset: Found 1161 images belonging to 4 classes.\n",
      "Validation subset: Found 289 images belonging to 4 classes.\n",
      "Terrain classes with corresponding id: {'cloudy': 0, 'desert': 1, 'green_area': 2, 'water': 3}\n"
     ]
    }
   ],
   "source": [
    "# Loading the data\n",
    "\n",
    "# Function to extract class from filename\n",
    "def extract_class_from_filename(filename):\n",
    "    class_name = os.path.basename(os.path.dirname(filename))\n",
    "    return class_name\n",
    "\n",
    "# Application of ImageDataGenerator to load and preprocess images (https://www.tensorflow.org/api_docs/python/tf/keras/preprocessing/image/ImageDataGenerator)\n",
    "datagen = None # reset if exists\n",
    "datagen = tf.keras.preprocessing.image.ImageDataGenerator(rescale=1.0 / 255, validation_split=0.2) # 20% validation subset\n",
    "\n",
    "# Image resize to improve the performance (no GPU on my machine!)\n",
    "image_height, image_width = 32, 32\n",
    "\n",
    "# Create separate training and validation generators\n",
    "print(f'Training subset:', end=' ')\n",
    "train_generator = datagen.flow_from_directory(\n",
    "    dataset_path,\n",
    "    target_size=(image_height, image_width),\n",
    "    batch_size=32,\n",
    "    class_mode='categorical',\n",
    "    subset='training',\n",
    "    shuffle=True,\n",
    "    seed=42\n",
    ")\n",
    "\n",
    "print(f'Validation subset:', end=' ')\n",
    "validation_generator = datagen.flow_from_directory(\n",
    "    dataset_path,\n",
    "    target_size=(image_height, image_width),\n",
    "    batch_size=32,\n",
    "    class_mode='categorical',\n",
    "    subset='validation',\n",
    "    shuffle=False\n",
    ")\n",
    "\n",
    "# Display the class indices\n",
    "class_indices = train_generator.class_indices\n",
    "class_names = list(class_indices.keys())\n",
    "print(f'Terrain classes with corresponding id: {class_indices}')\n",
    "\n",
    "# Manually apply label_func to convert categorical labels to one-hot encoded labels\n",
    "def label_func(filename):\n",
    "    class_name = extract_class_from_filename(filename)\n",
    "    return tf.keras.utils.to_categorical(class_indices[class_name], len(class_indices))\n",
    "\n",
    "# Example: Setting labels for the training set\n",
    "train_labels = [label_func(filename) for filename in train_generator.filenames]\n",
    "\n",
    "# Example: Setting labels for the validation set\n",
    "validation_labels = [label_func(filename) for filename in validation_generator.filenames]"
   ]
  },
  {
   "cell_type": "markdown",
   "id": "7e1ffc5a",
   "metadata": {},
   "source": [
    "### A glimpse into the dataset\n",
    "Here is a sample of random images and their labels."
   ]
  },
  {
   "cell_type": "code",
   "execution_count": 12,
   "id": "7061616d",
   "metadata": {},
   "outputs": [
    {
     "name": "stderr",
     "output_type": "stream",
     "text": [
      "2024-02-13 20:34:01.086403: I external/local_xla/xla/stream_executor/cuda/cuda_executor.cc:901] successful NUMA node read from SysFS had negative value (-1), but there must be at least one NUMA node, so returning NUMA node zero. See more at https://github.com/torvalds/linux/blob/v6.0/Documentation/ABI/testing/sysfs-bus-pci#L344-L355\n",
      "2024-02-13 20:34:01.086927: W tensorflow/core/common_runtime/gpu/gpu_device.cc:2256] Cannot dlopen some GPU libraries. Please make sure the missing libraries mentioned above are installed properly if you would like to use GPU. Follow the guide at https://www.tensorflow.org/install/gpu for how to download and setup the required libraries for your platform.\n",
      "Skipping registering GPU devices...\n"
     ]
    },
    {
     "data": {
      "image/png": "[encoded data removed]",
      "text/plain": [
       "<Figure size 1080x360 with 5 Axes>"
      ]
     },
     "metadata": {
      "needs_background": "light"
     },
     "output_type": "display_data"
    }
   ],
   "source": [
    "# Get a batch of images and labels from the training set\n",
    "sample_images, sample_labels = train_generator[1]\n",
    "\n",
    "# Select a random subset of images\n",
    "sample_size = 5  \n",
    "random_indices = random.sample(range(len(sample_images)), sample_size)\n",
    "\n",
    "# Display the randomly selected images with their corresponding labels\n",
    "plt.figure(figsize=(15, 5))\n",
    "for i, idx in enumerate(random_indices):\n",
    "    plt.subplot(1, sample_size, i + 1)\n",
    "    plt.imshow(sample_images[idx])\n",
    "    plt.title(f'Class: {class_names[tf.argmax(sample_labels[idx]).numpy()]}')\n",
    "    plt.axis('off')\n",
    "\n",
    "plt.show()"
   ]
  },
  {
   "cell_type": "markdown",
   "id": "7380a840",
   "metadata": {},
   "source": [
    "## A deep neural network"
   ]
  },
  {
   "cell_type": "code",
   "execution_count": 13,
   "id": "313c6747",
   "metadata": {},
   "outputs": [
    {
     "name": "stdout",
     "output_type": "stream",
     "text": [
      "Model: \"sequential\"\n",
      "_________________________________________________________________\n",
      " Layer (type)                Output Shape              Param #   \n",
      "=================================================================\n",
      " conv2d (Conv2D)             (None, 30, 30, 16)        448       \n",
      "                                                                 \n",
      " max_pooling2d (MaxPooling2  (None, 15, 15, 16)        0         \n",
      " D)                                                              \n",
      "                                                                 \n",
      " conv2d_1 (Conv2D)           (None, 13, 13, 32)        4640      \n",
      "                                                                 \n",
      " max_pooling2d_1 (MaxPoolin  (None, 6, 6, 32)          0         \n",
      " g2D)                                                            \n",
      "                                                                 \n",
      " conv2d_2 (Conv2D)           (None, 4, 4, 32)          9248      \n",
      "                                                                 \n",
      " max_pooling2d_2 (MaxPoolin  (None, 2, 2, 32)          0         \n",
      " g2D)                                                            \n",
      "                                                                 \n",
      " flatten (Flatten)           (None, 128)               0         \n",
      "                                                                 \n",
      " dense (Dense)               (None, 64)                8256      \n",
      "                                                                 \n",
      " dense_1 (Dense)             (None, 4)                 260       \n",
      "                                                                 \n",
      "=================================================================\n",
      "Total params: 22852 (89.27 KB)\n",
      "Trainable params: 22852 (89.27 KB)\n",
      "Non-trainable params: 0 (0.00 Byte)\n",
      "_________________________________________________________________\n"
     ]
    }
   ],
   "source": [
    "# Create a sequential model\n",
    "model = models.Sequential()\n",
    "\n",
    "# Convolutional Layer 1\n",
    "model.add(layers.Conv2D(16, (3, 3), activation='relu', input_shape=(image_height, image_width, 3)))\n",
    "model.add(layers.MaxPooling2D((2, 2)))\n",
    "\n",
    "# Convolutional Layer 2\n",
    "model.add(layers.Conv2D(32, (3, 3), activation='relu'))\n",
    "model.add(layers.MaxPooling2D((2, 2)))\n",
    "\n",
    "# Convolutional Layer 3\n",
    "model.add(layers.Conv2D(32, (3, 3), activation='relu'))\n",
    "model.add(layers.MaxPooling2D((2, 2)))\n",
    "\n",
    "# Flatten the output to feed into densely connected layers\n",
    "model.add(layers.Flatten())\n",
    "\n",
    "# Fully Connected (Dense) Layer 1\n",
    "model.add(layers.Dense(64, activation='relu'))\n",
    "\n",
    "# Output layer with softmax activation for multiclass classification\n",
    "model.add(layers.Dense(len(class_names), activation='softmax'))\n",
    "\n",
    "# Compile the model\n",
    "model.compile(optimizer='adam',\n",
    "              loss='categorical_crossentropy',\n",
    "              metrics=['accuracy'])\n",
    "\n",
    "# Display the model summary\n",
    "model.summary()"
   ]
  },
  {
   "cell_type": "code",
   "execution_count": 14,
   "id": "20482538",
   "metadata": {},
   "outputs": [
    {
     "name": "stdout",
     "output_type": "stream",
     "text": [
      "Epoch 1/10\n",
      "37/37 [==============================] - 3s 41ms/step - loss: 1.1749 - accuracy: 0.3928 - val_loss: 0.8579 - val_accuracy: 0.5709\n",
      "Epoch 2/10\n",
      "37/37 [==============================] - 1s 37ms/step - loss: 0.6309 - accuracy: 0.7063 - val_loss: 0.7106 - val_accuracy: 0.6540\n",
      "Epoch 3/10\n",
      "37/37 [==============================] - 1s 36ms/step - loss: 0.5049 - accuracy: 0.7183 - val_loss: 0.4898 - val_accuracy: 0.7301\n",
      "Epoch 4/10\n",
      "37/37 [==============================] - 1s 37ms/step - loss: 0.4477 - accuracy: 0.7881 - val_loss: 0.4574 - val_accuracy: 0.7855\n",
      "Epoch 5/10\n",
      "37/37 [==============================] - 1s 37ms/step - loss: 0.4045 - accuracy: 0.8355 - val_loss: 0.4528 - val_accuracy: 0.7820\n",
      "Epoch 6/10\n",
      "37/37 [==============================] - 1s 37ms/step - loss: 0.4396 - accuracy: 0.8079 - val_loss: 0.4165 - val_accuracy: 0.7924\n",
      "Epoch 7/10\n",
      "37/37 [==============================] - 1s 39ms/step - loss: 0.3979 - accuracy: 0.8450 - val_loss: 0.4569 - val_accuracy: 0.7128\n",
      "Epoch 8/10\n",
      "37/37 [==============================] - 1s 37ms/step - loss: 0.3792 - accuracy: 0.8363 - val_loss: 0.4590 - val_accuracy: 0.7509\n",
      "Epoch 9/10\n",
      "37/37 [==============================] - 1s 39ms/step - loss: 0.3909 - accuracy: 0.8329 - val_loss: 0.4786 - val_accuracy: 0.7820\n",
      "Epoch 10/10\n",
      "37/37 [==============================] - 2s 42ms/step - loss: 0.3910 - accuracy: 0.8295 - val_loss: 0.5057 - val_accuracy: 0.7958\n"
     ]
    }
   ],
   "source": [
    "# Training the initial model (for trial)\n",
    "history = model.fit(train_generator, epochs=10, validation_data=validation_generator)"
   ]
  },
  {
   "cell_type": "code",
   "execution_count": 15,
   "id": "1b378b9e",
   "metadata": {},
   "outputs": [
    {
     "data": {
      "image/png": "[encoded data removed]",
      "text/plain": [
       "<Figure size 720x432 with 1 Axes>"
      ]
     },
     "metadata": {
      "needs_background": "light"
     },
     "output_type": "display_data"
    }
   ],
   "source": [
    "# Plotting training progress\n",
    "plt.figure(figsize=(10, 6))\n",
    "\n",
    "# Plot training accuracy\n",
    "plt.plot(model.history.history['accuracy'], label='Training Accuracy', marker='o')\n",
    "\n",
    "# Plot validation accuracy\n",
    "plt.plot(model.history.history['val_accuracy'], label='Validation Accuracy', marker='o')\n",
    "\n",
    "plt.title('Training and Validation Accuracy over Epochs')\n",
    "plt.xlabel('Epochs')\n",
    "plt.ylabel('Accuracy')\n",
    "plt.legend()\n",
    "plt.show()"
   ]
  },
  {
   "cell_type": "markdown",
   "id": "e64afe9a",
   "metadata": {},
   "source": [
    "### Hyperparameters tuning"
   ]
  },
  {
   "cell_type": "code",
   "execution_count": 16,
   "id": "4d881ea8",
   "metadata": {},
   "outputs": [
    {
     "name": "stdout",
     "output_type": "stream",
     "text": [
      "Activation function: relu, Layers: 3, Nodes: 32, Epochs: 6\n",
      "10/10 [==============================] - 0s 23ms/step - loss: 0.4388 - accuracy: 0.7751\n",
      "Activation function: relu, Layers: 3, Nodes: 48, Epochs: 6\n",
      "10/10 [==============================] - 1s 42ms/step - loss: 0.5305 - accuracy: 0.7024\n",
      "___\n",
      "   num_layers  num_nodes activation_function  epochs  val_accuracy\n",
      "0           3         32                relu       6      0.775087\n",
      "1           3         48                relu       6      0.702422\n",
      "\n",
      "Best Hyperparameters: {'num_layers': 3, 'num_nodes': 32, 'activation_function': 'relu', 'epochs': 6, 'val_accuracy': 0.775086522102356}\n"
     ]
    }
   ],
   "source": [
    "# Define hyperparameters to tune - tuning parameters limited here due to long computation time\n",
    "num_layers_list = [3]#, 4, 5] \n",
    "num_nodes_list = [32, 48]#, 64, 96, 128]\n",
    "activation_functions = ['relu']#, 'sigmoid']\n",
    "epochs_list = [6]#, 10, 20]\n",
    "\n",
    "# Function to build and train a model with given hyperparameters\n",
    "def build_and_train_model(num_layers, num_nodes, activation_function, epochs):\n",
    "    model = models.Sequential()\n",
    "    \n",
    "    # Convolutional Layers\n",
    "    model.add(layers.Conv2D(16, (3, 3), activation=activation_function, input_shape=(image_height, image_width, 3)))\n",
    "    model.add(layers.MaxPooling2D((2, 2)))\n",
    "\n",
    "    for _ in range(num_layers - 1):\n",
    "        model.add(layers.Conv2D(32, (3, 3), activation=activation_function))\n",
    "        model.add(layers.MaxPooling2D((2, 2)))\n",
    "\n",
    "    # Flatten the output to feed into densely connected layers\n",
    "    model.add(layers.Flatten())\n",
    "\n",
    "    # Dense Layers\n",
    "    model.add(layers.Dense(num_nodes, activation=activation_function))\n",
    "    \n",
    "    # Output layer\n",
    "    model.add(layers.Dense(len(class_names), activation='softmax'))\n",
    "\n",
    "    # Compile the model\n",
    "    model.compile(optimizer='adam',\n",
    "                  loss='categorical_crossentropy',\n",
    "                  metrics=['accuracy'])\n",
    "\n",
    "    # Train the model\n",
    "    history = model.fit(train_generator, epochs=epochs, validation_data=validation_generator, verbose=0)\n",
    "    \n",
    "    return model, history\n",
    "\n",
    "# Iterate through hyperparameters and train models\n",
    "results = []\n",
    "\n",
    "for num_layers in num_layers_list:\n",
    "    for num_nodes in num_nodes_list:\n",
    "        for activation_function in activation_functions:\n",
    "            for epochs in epochs_list:\n",
    "                print(f'Activation function: {activation_function}, Layers: {num_layers}, Nodes: {num_nodes}, Epochs: {epochs}')\n",
    "                # Build and train the model\n",
    "                model, history = build_and_train_model(num_layers, num_nodes, activation_function, epochs)\n",
    "                \n",
    "                # Evaluate the model on the validation set\n",
    "                _, val_accuracy = model.evaluate(validation_generator)\n",
    "                \n",
    "                # Store the results\n",
    "                results.append({\n",
    "                    'num_layers': num_layers,\n",
    "                    'num_nodes': num_nodes,\n",
    "                    'activation_function': activation_function,\n",
    "                    'epochs': epochs,\n",
    "                    'val_accuracy': val_accuracy\n",
    "                })\n",
    "    print(\"___\")\n",
    "\n",
    "# Print and analyze the results\n",
    "results_df = pd.DataFrame(results)\n",
    "print(results_df)\n",
    "print()\n",
    "\n",
    "# Choose the best hyperparameters based on your analysis\n",
    "best_hyperparameters = max(results, key=lambda x: x['val_accuracy'])\n",
    "print(\"Best Hyperparameters:\", best_hyperparameters)"
   ]
  },
  {
   "cell_type": "markdown",
   "id": "06a26b66",
   "metadata": {},
   "source": [
    "## Comparison to classical machine learning models"
   ]
  },
  {
   "cell_type": "code",
   "execution_count": 17,
   "id": "5a1b93e4",
   "metadata": {},
   "outputs": [],
   "source": [
    "# For clarity, I am renaming subsets and labels to X and y respectively\n",
    "X_train = train_generator\n",
    "y_train = train_labels\n",
    "X_test = validation_generator\n",
    "y_test = validation_labels"
   ]
  },
  {
   "cell_type": "markdown",
   "id": "c94d8627",
   "metadata": {},
   "source": [
    "### Support Vector Machines (SVM)"
   ]
  },
  {
   "cell_type": "code",
   "execution_count": null,
   "id": "00e27610",
   "metadata": {},
   "outputs": [],
   "source": [
    "# Feature scaling (recommended for SVM)\n",
    "scaler = StandardScaler()\n",
    "X_train_scaled = scaler.fit_transform(X_train)\n",
    "X_test_scaled = scaler.transform(X_test)\n",
    "\n",
    "# Create and train the SVM model\n",
    "svm_model = SVC(kernel='linear', C=1.0)\n",
    "svm_model.fit(X_train_scaled, y_train)\n",
    "\n",
    "# Make predictions\n",
    "svm_predictions = svm_model.predict(X_test_scaled)\n",
    "\n",
    "# Evaluate the model\n",
    "accuracy_svm = accuracy_score(y_test, svm_predictions)\n",
    "print(\"SVM Accuracy:\", accuracy_svm)"
   ]
  },
  {
   "cell_type": "markdown",
   "id": "225140ef",
   "metadata": {},
   "source": [
    "### Random forest"
   ]
  },
  {
   "cell_type": "code",
   "execution_count": null,
   "id": "e4b7f175",
   "metadata": {},
   "outputs": [],
   "source": [
    "# Create and train the Random Forest model\n",
    "rf_model = RandomForestClassifier(n_estimators=20, random_state=42)\n",
    "rf_model.fit(X_train, y_train)\n",
    "\n",
    "# Make predictions\n",
    "rf_predictions = rf_model.predict(X_test)\n",
    "\n",
    "# Evaluate the model\n",
    "accuracy_rf = accuracy_score(y_test, rf_predictions)\n",
    "print(\"Random Forest Accuracy:\", accuracy_rf)"
   ]
  },
  {
   "cell_type": "code",
   "execution_count": null,
   "id": "8713ecba",
   "metadata": {},
   "outputs": [],
   "source": []
  },
  {
   "cell_type": "markdown",
   "id": "8cb67d82",
   "metadata": {},
   "source": [
    "## References:\n",
    "- [https://www.vortexa.com/insights/technology/satellite-images-object-detection/](https://www.vortexa.com/insights/technology/satellite-images-object-detection/)\n"
   ]
  },
  {
   "cell_type": "markdown",
   "id": "9f676b78-6f0c-47da-893c-1a38284b8f03",
   "metadata": {},
   "source": [
    "___\n",
    "Andrzej Kocielski, 2024"
   ]
  }
 ],
 "metadata": {
  "kernelspec": {
   "display_name": "Python 3 (ipykernel)",
   "language": "python",
   "name": "python3"
  },
  "language_info": {
   "codemirror_mode": {
    "name": "ipython",
    "version": 3
   },
   "file_extension": ".py",
   "mimetype": "text/x-python",
   "name": "python",
   "nbconvert_exporter": "python",
   "pygments_lexer": "ipython3",
   "version": "3.10.12"
  }
 },
 "nbformat": 4,
 "nbformat_minor": 5
}
