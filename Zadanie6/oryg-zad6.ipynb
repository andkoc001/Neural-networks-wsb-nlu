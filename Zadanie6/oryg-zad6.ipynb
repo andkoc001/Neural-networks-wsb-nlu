{
 "cells": [
  {
   "cell_type": "markdown",
   "id": "9a99a3b7",
   "metadata": {},
   "source": [
    "# Zadanie 6"
   ]
  },
  {
   "cell_type": "markdown",
   "id": "5dee61e5",
   "metadata": {},
   "source": [
    "Wracamy do bazy danych MNIST, która jest publicznie dostępnym zbiorem danych składającym się z obrazów odręcznych pojedynczych cyfr. Każdy obraz ma kwadrat o wymiarach 28 na 28 pikseli, co oznacza, że każdy z nich ma łącznie 784 piksele. Użyjemy standardowego podziału zestawu danych, który wynosi 60 000 obrazów do trenowania naszego modelu i 10 000 do testowania naszego modelu. Celem jest rozpoznawanie cyfr pisanych odręcznie, co oznacza, że mamy do przewidzenia 10 klas (od 0 do 9). Naszym celem będzie wytrenowanie sieci neuronowej tak, aby osiągała mniej niż 1% błędu predykcji lub 99%+ dokładności.\n",
    "Do zbudowania tej sieci neuronowej użyjemy bezpłatnego, opartego na chmurze, obsługującego procesor graficzny środowiska notebooka Jupyter: Google Colab. Zacznijmy od zaimportowania zestawu danych MNIST, który jest wygodnie dostarczany przez bibliotekę Keras.\n",
    "Zaimportujemy również klasy i funkcje, których będziemy potrzeb"
   ]
  },
  {
   "cell_type": "markdown",
   "id": "6f65e27e",
   "metadata": {},
   "source": [
    "Zaimportujemy również klasy i funkcje, których będziemy potrzebować:"
   ]
  },
  {
   "cell_type": "code",
   "execution_count": null,
   "id": "094bee04",
   "metadata": {},
   "outputs": [],
   "source": [
    "import kerasfrom keras.datasets \n",
    "import mnistfrom keras.models \n",
    "import Sequential\n",
    "from keras.layers import Dense, Dropout, Flatten, Activation\n",
    "from keras.layers import Conv2D, MaxPooling2D\n",
    "from keras import backend as K\n",
    "\n",
    "# import matplotlib for visualization\n",
    "import matplotlib.pyplot as plt"
   ]
  },
  {
   "cell_type": "markdown",
   "id": "5a9696e9",
   "metadata": {},
   "source": [
    "Następnie podzielimy dane między zestawy treningowe i testowe:"
   ]
  },
  {
   "cell_type": "code",
   "execution_count": null,
   "id": "22480660",
   "metadata": {},
   "outputs": [],
   "source": [
    "??? = mnist.load_data()"
   ]
  },
  {
   "cell_type": "markdown",
   "id": "17f43dcb",
   "metadata": {},
   "source": [
    "Następnie zaimportujemy bibliotekę Matplotlib na potrzeby wizualizacji danych i wykreślimy pierwsze 2 obrazy w zestawie danych treningowych."
   ]
  },
  {
   "cell_type": "code",
   "execution_count": null,
   "id": "68deaa21",
   "metadata": {},
   "outputs": [],
   "source": [
    "# plot 2 images as gray scale\n",
    "???\n"
   ]
  },
  {
   "cell_type": "markdown",
   "id": "238b8cc8",
   "metadata": {},
   "source": [
    "Zaczniemy od ustawienia parametrów tuningu modelu w następujący sposób:"
   ]
  },
  {
   "cell_type": "code",
   "execution_count": null,
   "id": "bfb7fd50",
   "metadata": {},
   "outputs": [],
   "source": [
    "batch_size = ???\n",
    "num_classes =  ???\n",
    "epochs = ???"
   ]
  },
  {
   "cell_type": "markdown",
   "id": "b24b50b6",
   "metadata": {},
   "source": [
    "Następnie spłaszczymy nasz zestaw danych z obrazów o strukturze 28 na 28 pikseli do wektora, który ma wartości wejściowe 784 pikseli.Najpierw wprowadzimy wymiary naszego obrazu."
   ]
  },
  {
   "cell_type": "code",
   "execution_count": null,
   "id": "2e5d11b4",
   "metadata": {},
   "outputs": [],
   "source": [
    "# input image dimensions\n",
    "img_rows, img_cols = 28, 28"
   ]
  },
  {
   "cell_type": "markdown",
   "id": "80b2a049",
   "metadata": {},
   "source": [
    "Znormalizujemy również wartości pikseli od skali szarości, która mieści się w zakresie od 0 do 255, do zakresu od 0 do 1. Robimy to, dzieląc każdy z nich przez 255:"
   ]
  },
  {
   "cell_type": "code",
   "execution_count": null,
   "id": "22175370",
   "metadata": {},
   "outputs": [],
   "source": [
    "if K.image_data_format() == 'channels_first': \n",
    "    X_train = X_train.reshape(X_train.shape[0], 1, img_rows, img_cols) \n",
    "    X_test = X_test.reshape(X_test.shape[0], 1, img_rows, img_cols)\n",
    "    input_shape = (1, img_rows, img_cols)\n",
    "else: \n",
    "    X_train = X_train.reshape(X_train.shape[0], img_rows, img_cols, 1) \n",
    "    X_test = X_test.reshape(X_test.shape[0], img_rows, img_cols, 1)\n",
    "    input_shape = (img_rows, img_cols, 1)\n",
    "X_train = X_train.astype('float32')\n",
    "X_test = X_test.astype('float32')\n",
    "X_train /= 255\n",
    "X_test /= 255\n",
    "print('X_train shape:', X_train.shape)\n",
    "print(X_train.shape[0], 'training samples')\n",
    "print(X_test.shape[0], 'testing samples')"
   ]
  },
  {
   "cell_type": "markdown",
   "id": "07635e2f",
   "metadata": {},
   "source": [
    "Ponieważ jest to problem klasyfikacji wieloklasowej (0-9), spowoduje to konwersję wektorów klas na macierze klas binarnych.\n",
    "\n",
    "Załóżmy na przykład, że cyfrą jest 2, przekonwertujemy wektor z [0 1 2 3 4 5 6 7 8 9] na [0 0 1 0 0 0 0 0 0 0 0 0]. Użyjemy wbudowanej funkcji, którą zapewnia Keras.utils.to_categorical()"
   ]
  },
  {
   "cell_type": "code",
   "execution_count": null,
   "id": "1adc7015",
   "metadata": {},
   "outputs": [],
   "source": [
    "y_train = ???\n",
    "y_test = ???"
   ]
  },
  {
   "cell_type": "markdown",
   "id": "9c32270a",
   "metadata": {},
   "source": [
    "Zdefiniujemy teraz nasz model sieci neuronowej, który, jak wspomniano, będzie używał TensorFlow jako zaplecza modelu. Struktura naszej konwolucyjnej architektury sieci neuronowej jest zdefiniowana następująco:\n",
    "- Pierwsza ukryta warstwa to warstwa konwolucyjna, która ma 32 mapy obiektów, każda o rozmiarze 3 x 3 i używamy wyprostowanej funkcji aktywacji liniowej - .Conv2Drelu\n",
    "- Następnie dodajemy kolejną warstwę konwolucyjną z 64 mapami obiektów\n",
    "- Dodajemy trzecią warstwę konwolucyjną ze 128 mapami obiektów\n",
    "- Następnie dodajemy warstwę puli, która jest skonfigurowana z rozmiarem puli 2 x 2MaxPooling2D1\n",
    "\n",
    "Następnie nakładamy warstwę regularyzacyjną, która jest ustawiona tak, aby losowo wykluczyć 25% neuronów w warstwie - służy to do zmniejszenia nadmiernego dopasowaniaDropout\n",
    "Następnie przekształcamy macierz 2-wymiarową w wektor za pomocą - pozwala to na przetwarzanie naszego wyjścia przez w pełni połączone warstwyFlatten\n",
    "Następnie dodajemy w pełni połączoną warstwę, która ma 128 neuronów i funkcję aktywacji ReLU\n",
    "Następnie dodamy kolejną warstwę regularyzacji, aby zmniejszyć nadmierne dopasowanie, tym razem losowo wykluczamy 50% neuronów\n",
    "\n",
    "Kończymy sieć neuronową warstwą wyjściową, która ma 10 neuronów - tyle samo, ile klas w naszym problemie klasyfikacyjnym i funkcję aktywacji softmax. Spowoduje to wyświetlenie przewidywania prawdopodobieństwa, że cyfra należy do każdej klasy."
   ]
  },
  {
   "cell_type": "code",
   "execution_count": null,
   "id": "be5d6aba",
   "metadata": {},
   "outputs": [],
   "source": [
    "# import TensorFlow backend\n",
    "import tensorflow as tf\n",
    "# define our model\n",
    "model = Sequential()\n",
    "???\n",
    "???\n",
    "???\n",
    "???\n",
    "???\n",
    "\n",
    "model.add(Flatten())\n",
    "model.add(Dense(128, activation='relu'))\n",
    "model.add(Dropout(0.5))\n",
    "model.add(Dense(num_classes, activation=Activation(tf.nn.softmax)))"
   ]
  },
  {
   "cell_type": "markdown",
   "id": "132714c5",
   "metadata": {},
   "source": [
    "Następnie skompilujemy nasz model "
   ]
  },
  {
   "cell_type": "code",
   "execution_count": null,
   "id": "eb37c16a",
   "metadata": {},
   "outputs": [],
   "source": [
    "model.compile(loss=keras.losses.categorical_crossentropy,\n",
    "\t\toptimizer=keras.optimizers.Adam(), metrics=['accuracy'])"
   ]
  },
  {
   "cell_type": "markdown",
   "id": "77cfc6d8",
   "metadata": {},
   "source": [
    "Teraz dopasujemy model."
   ]
  },
  {
   "cell_type": "code",
   "execution_count": null,
   "id": "eb03bcee",
   "metadata": {},
   "outputs": [],
   "source": [
    "\n",
    "???\n"
   ]
  },
  {
   "cell_type": "markdown",
   "id": "94c57150",
   "metadata": {},
   "source": [
    "\n",
    "Na koniec ocenimy nasz model i wydrukujemy dokładność:"
   ]
  },
  {
   "cell_type": "code",
   "execution_count": null,
   "id": "94611c76",
   "metadata": {},
   "outputs": [],
   "source": [
    "\n",
    "???\n",
    "???\n",
    "???"
   ]
  }
 ],
 "metadata": {
  "kernelspec": {
   "display_name": "Python 3 (ipykernel)",
   "language": "python",
   "name": "python3"
  },
  "language_info": {
   "codemirror_mode": {
    "name": "ipython",
    "version": 3
   },
   "file_extension": ".py",
   "mimetype": "text/x-python",
   "name": "python",
   "nbconvert_exporter": "python",
   "pygments_lexer": "ipython3",
   "version": "3.10.12"
  }
 },
 "nbformat": 4,
 "nbformat_minor": 5
}
